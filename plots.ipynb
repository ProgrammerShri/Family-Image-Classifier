{
 "cells": [
  {
   "cell_type": "markdown",
   "metadata": {},
   "source": [
    "# 1. Install Dependencies and Setup"
   ]
  },
  {
   "cell_type": "code",
   "execution_count": 1,
   "metadata": {},
   "outputs": [
    {
     "name": "stdout",
     "output_type": "stream",
     "text": [
      "Package                      VersionNote: you may need to restart the kernel to use updated packages.\n",
      "\n",
      "---------------------------- -----------\n",
      "absl-py                      1.2.0\n",
      "altair                       4.2.0\n",
      "argon2-cffi                  21.3.0\n",
      "argon2-cffi-bindings         21.2.0\n",
      "arrow                        1.2.2\n",
      "asttokens                    2.0.5\n",
      "astunparse                   1.6.3\n",
      "attrs                        21.4.0\n",
      "backcall                     0.2.0\n",
      "beautifulsoup4               4.11.1\n",
      "bleach                       5.0.1\n",
      "blinker                      1.5\n",
      "cachetools                   5.2.0\n",
      "certifi                      2022.9.24\n",
      "cffi                         1.15.1\n",
      "charset-normalizer           2.1.1\n",
      "click                        8.1.3\n",
      "colorama                     0.4.5\n",
      "commonmark                   0.9.1\n",
      "contourpy                    1.0.5\n",
      "cycler                       0.11.0\n",
      "DateTime                     4.7\n",
      "debugpy                      1.6.2\n",
      "decorator                    5.1.1\n",
      "defusedxml                   0.7.1\n",
      "emoji                        2.1.0\n",
      "entrypoints                  0.4\n",
      "executing                    0.9.1\n",
      "fastjsonschema               2.16.1\n",
      "filelock                     3.8.0\n",
      "flatbuffers                  22.10.26\n",
      "fonttools                    4.37.3\n",
      "gast                         0.4.0\n",
      "gitdb                        4.0.9\n",
      "GitPython                    3.1.27\n",
      "google-auth                  2.12.0\n",
      "google-auth-oauthlib         0.4.6\n",
      "google-pasta                 0.2.0\n",
      "grpcio                       1.49.1\n",
      "h5py                         3.7.0\n",
      "idna                         3.4\n",
      "importlib-metadata           4.12.0\n",
      "ipykernel                    6.15.1\n",
      "ipython                      8.4.0\n",
      "ipython-genutils             0.2.0\n",
      "ipywidgets                   7.7.1\n",
      "jedi                         0.18.1\n",
      "Jinja2                       3.1.2\n",
      "jinja2-time                  0.2.0\n",
      "joblib                       1.2.0\n",
      "jsonschema                   4.8.0\n",
      "jupyter                      1.0.0\n",
      "jupyter-client               7.3.4\n",
      "jupyter-console              6.4.4\n",
      "jupyter-core                 4.11.1\n",
      "jupyterlab-pygments          0.2.2\n",
      "jupyterlab-widgets           1.1.1\n",
      "keras                        2.10.0\n",
      "Keras-Preprocessing          1.1.2\n",
      "kiwisolver                   1.4.4\n",
      "libclang                     14.0.6\n",
      "lxml                         4.9.1\n",
      "make                         0.1.6.post2\n",
      "Markdown                     3.4.1\n",
      "MarkupSafe                   2.1.1\n",
      "matplotlib                   3.6.0\n",
      "matplotlib-inline            0.1.3\n",
      "mistune                      0.8.4\n",
      "nbclient                     0.6.6\n",
      "nbconvert                    6.5.0\n",
      "nbformat                     5.4.0\n",
      "nest-asyncio                 1.5.5\n",
      "nltk                         3.7\n",
      "notebook                     6.4.12\n",
      "numpy                        1.23.1\n",
      "oauthlib                     3.2.1\n",
      "opencv-python                4.6.0.66\n",
      "opt-einsum                   3.3.0\n",
      "packaging                    21.3\n",
      "pandas                       1.5.0\n",
      "pandocfilters                1.5.0\n",
      "parso                        0.8.3\n",
      "pickleshare                  0.7.5\n",
      "Pillow                       9.2.0\n",
      "pip                          22.3\n",
      "platformdirs                 2.5.2\n",
      "plotly                       3.10.0\n",
      "prometheus-client            0.14.1\n",
      "prompt-toolkit               3.0.30\n",
      "protobuf                     3.19.6\n",
      "psutil                       5.9.1\n",
      "pure-eval                    0.2.2\n",
      "pyarrow                      9.0.0\n",
      "pyasn1                       0.4.8\n",
      "pyasn1-modules               0.2.8\n",
      "pycparser                    2.21\n",
      "pydeck                       0.8.0b3\n",
      "Pygments                     2.12.0\n",
      "Pympler                      1.0.1\n",
      "pyparsing                    3.0.9\n",
      "PyQt5                        5.15.7\n",
      "PyQt5-Qt5                    5.15.2\n",
      "PyQt5-sip                    12.11.0\n",
      "pyrsistent                   0.18.1\n",
      "python-dateutil              2.8.2\n",
      "pytz                         2022.2.1\n",
      "pytz-deprecation-shim        0.1.0.post0\n",
      "pywin32                      304\n",
      "pywinpty                     2.0.6\n",
      "pyzmq                        23.2.0\n",
      "qtconsole                    5.3.1\n",
      "QtPy                         2.1.0\n",
      "regex                        2022.9.13\n",
      "requests                     2.28.1\n",
      "requests-oauthlib            1.3.1\n",
      "retrying                     1.3.3\n",
      "rich                         12.5.1\n",
      "rsa                          4.9\n",
      "scikit-learn                 1.1.2\n",
      "scipy                        1.9.2\n",
      "seaborn                      0.12.0\n",
      "semver                       2.13.0\n",
      "Send2Trash                   1.8.0\n",
      "setuptools                   58.1.0\n",
      "six                          1.16.0\n",
      "smmap                        5.0.0\n",
      "soupsieve                    2.3.2.post1\n",
      "stack-data                   0.3.0\n",
      "streamlit                    1.13.0\n",
      "tenacity                     8.1.0\n",
      "tensorboard                  2.10.1\n",
      "tensorboard-data-server      0.6.1\n",
      "tensorboard-plugin-wit       1.8.1\n",
      "tensorflow                   2.10.0\n",
      "tensorflow-estimator         2.10.0\n",
      "tensorflow-gpu               2.10.0\n",
      "tensorflow-io-gcs-filesystem 0.27.0\n",
      "termcolor                    2.0.1\n",
      "terminado                    0.15.0\n",
      "threadpoolctl                3.1.0\n",
      "tinycss2                     1.1.1\n",
      "toml                         0.10.2\n",
      "toolz                        0.12.0\n",
      "torch                        1.12.1\n",
      "torchvision                  0.13.1\n",
      "tornado                      6.2\n",
      "tqdm                         4.64.1\n",
      "traitlets                    5.3.0\n",
      "typing_extensions            4.3.0\n",
      "tzdata                       2022.2\n",
      "tzlocal                      4.2\n",
      "uritools                     4.0.0\n",
      "urlextract                   1.6.0\n",
      "urllib3                      1.26.12\n",
      "vaderSentiment               3.3.2\n",
      "validators                   0.20.0\n",
      "watchdog                     2.1.9\n",
      "wcwidth                      0.2.5\n",
      "webencodings                 0.5.1\n",
      "Werkzeug                     2.2.2\n",
      "wget                         3.2\n",
      "wheel                        0.37.1\n",
      "widgetsnbextension           3.6.1\n",
      "wordcloud                    1.8.2.2\n",
      "wrapt                        1.14.1\n",
      "zipp                         3.8.1\n",
      "zope.interface               5.4.0\n"
     ]
    },
    {
     "name": "stderr",
     "output_type": "stream",
     "text": [
      "WARNING: Ignoring invalid distribution -lotly (c:\\users\\dell\\appdata\\local\\programs\\python\\python310\\lib\\site-packages)\n",
      "WARNING: Ignoring invalid distribution -lotly (c:\\users\\dell\\appdata\\local\\programs\\python\\python310\\lib\\site-packages)\n",
      "WARNING: Ignoring invalid distribution -lotly (c:\\users\\dell\\appdata\\local\\programs\\python\\python310\\lib\\site-packages)\n",
      "WARNING: Ignoring invalid distribution -lotly (c:\\users\\dell\\appdata\\local\\programs\\python\\python310\\lib\\site-packages)\n",
      "WARNING: Ignoring invalid distribution -lotly (c:\\users\\dell\\appdata\\local\\programs\\python\\python310\\lib\\site-packages)\n",
      "WARNING: Ignoring invalid distribution -lotly (c:\\users\\dell\\appdata\\local\\programs\\python\\python310\\lib\\site-packages)\n",
      "WARNING: Ignoring invalid distribution -lotly (c:\\users\\dell\\appdata\\local\\programs\\python\\python310\\lib\\site-packages)\n",
      "WARNING: Ignoring invalid distribution -lotly (c:\\users\\dell\\appdata\\local\\programs\\python\\python310\\lib\\site-packages)\n",
      "WARNING: Ignoring invalid distribution -lotly (c:\\users\\dell\\appdata\\local\\programs\\python\\python310\\lib\\site-packages)\n",
      "WARNING: Ignoring invalid distribution -lotly (c:\\users\\dell\\appdata\\local\\programs\\python\\python310\\lib\\site-packages)\n"
     ]
    },
    {
     "name": "stdout",
     "output_type": "stream",
     "text": [
      "Requirement already satisfied: tensorflow in c:\\users\\dell\\appdata\\local\\programs\\python\\python310\\lib\\site-packages (2.10.0)Note: you may need to restart the kernel to use updated packages.\n",
      "\n",
      "Requirement already satisfied: tensorflow-gpu in c:\\users\\dell\\appdata\\local\\programs\\python\\python310\\lib\\site-packages (2.10.0)\n",
      "Requirement already satisfied: opencv-python in c:\\users\\dell\\appdata\\local\\programs\\python\\python310\\lib\\site-packages (4.6.0.66)\n",
      "Requirement already satisfied: matplotlib in c:\\users\\dell\\appdata\\local\\programs\\python\\python310\\lib\\site-packages (3.6.0)\n",
      "Requirement already satisfied: keras<2.11,>=2.10.0 in c:\\users\\dell\\appdata\\local\\programs\\python\\python310\\lib\\site-packages (from tensorflow) (2.10.0)\n",
      "Requirement already satisfied: packaging in c:\\users\\dell\\appdata\\local\\programs\\python\\python310\\lib\\site-packages (from tensorflow) (21.3)\n",
      "Requirement already satisfied: h5py>=2.9.0 in c:\\users\\dell\\appdata\\local\\programs\\python\\python310\\lib\\site-packages (from tensorflow) (3.7.0)\n",
      "Requirement already satisfied: opt-einsum>=2.3.2 in c:\\users\\dell\\appdata\\local\\programs\\python\\python310\\lib\\site-packages (from tensorflow) (3.3.0)\n",
      "Requirement already satisfied: tensorboard<2.11,>=2.10 in c:\\users\\dell\\appdata\\local\\programs\\python\\python310\\lib\\site-packages (from tensorflow) (2.10.1)\n",
      "Requirement already satisfied: tensorflow-io-gcs-filesystem>=0.23.1 in c:\\users\\dell\\appdata\\local\\programs\\python\\python310\\lib\\site-packages (from tensorflow) (0.27.0)\n",
      "Requirement already satisfied: typing-extensions>=3.6.6 in c:\\users\\dell\\appdata\\local\\programs\\python\\python310\\lib\\site-packages (from tensorflow) (4.3.0)\n",
      "Requirement already satisfied: setuptools in c:\\users\\dell\\appdata\\local\\programs\\python\\python310\\lib\\site-packages (from tensorflow) (58.1.0)\n",
      "Requirement already satisfied: wrapt>=1.11.0 in c:\\users\\dell\\appdata\\local\\programs\\python\\python310\\lib\\site-packages (from tensorflow) (1.14.1)\n",
      "Requirement already satisfied: astunparse>=1.6.0 in c:\\users\\dell\\appdata\\local\\programs\\python\\python310\\lib\\site-packages (from tensorflow) (1.6.3)\n",
      "Requirement already satisfied: libclang>=13.0.0 in c:\\users\\dell\\appdata\\local\\programs\\python\\python310\\lib\\site-packages (from tensorflow) (14.0.6)\n",
      "Requirement already satisfied: protobuf<3.20,>=3.9.2 in c:\\users\\dell\\appdata\\local\\programs\\python\\python310\\lib\\site-packages (from tensorflow) (3.19.6)\n",
      "Requirement already satisfied: gast<=0.4.0,>=0.2.1 in c:\\users\\dell\\appdata\\local\\programs\\python\\python310\\lib\\site-packages (from tensorflow) (0.4.0)\n",
      "Requirement already satisfied: grpcio<2.0,>=1.24.3 in c:\\users\\dell\\appdata\\local\\programs\\python\\python310\\lib\\site-packages (from tensorflow) (1.49.1)\n",
      "Requirement already satisfied: absl-py>=1.0.0 in c:\\users\\dell\\appdata\\local\\programs\\python\\python310\\lib\\site-packages (from tensorflow) (1.2.0)\n",
      "Requirement already satisfied: keras-preprocessing>=1.1.1 in c:\\users\\dell\\appdata\\local\\programs\\python\\python310\\lib\\site-packages (from tensorflow) (1.1.2)\n",
      "Requirement already satisfied: google-pasta>=0.1.1 in c:\\users\\dell\\appdata\\local\\programs\\python\\python310\\lib\\site-packages (from tensorflow) (0.2.0)\n",
      "Requirement already satisfied: tensorflow-estimator<2.11,>=2.10.0 in c:\\users\\dell\\appdata\\local\\programs\\python\\python310\\lib\\site-packages (from tensorflow) (2.10.0)\n",
      "Requirement already satisfied: numpy>=1.20 in c:\\users\\dell\\appdata\\local\\programs\\python\\python310\\lib\\site-packages (from tensorflow) (1.23.1)\n",
      "Requirement already satisfied: six>=1.12.0 in c:\\users\\dell\\appdata\\local\\programs\\python\\python310\\lib\\site-packages (from tensorflow) (1.16.0)\n",
      "Requirement already satisfied: flatbuffers>=2.0 in c:\\users\\dell\\appdata\\local\\programs\\python\\python310\\lib\\site-packages (from tensorflow) (22.10.26)\n",
      "Requirement already satisfied: termcolor>=1.1.0 in c:\\users\\dell\\appdata\\local\\programs\\python\\python310\\lib\\site-packages (from tensorflow) (2.0.1)\n",
      "Requirement already satisfied: kiwisolver>=1.0.1 in c:\\users\\dell\\appdata\\local\\programs\\python\\python310\\lib\\site-packages (from matplotlib) (1.4.4)\n",
      "Requirement already satisfied: cycler>=0.10 in c:\\users\\dell\\appdata\\local\\programs\\python\\python310\\lib\\site-packages (from matplotlib) (0.11.0)\n",
      "Requirement already satisfied: pyparsing>=2.2.1 in c:\\users\\dell\\appdata\\local\\programs\\python\\python310\\lib\\site-packages (from matplotlib) (3.0.9)\n",
      "Requirement already satisfied: pillow>=6.2.0 in c:\\users\\dell\\appdata\\local\\programs\\python\\python310\\lib\\site-packages (from matplotlib) (9.2.0)\n",
      "Requirement already satisfied: contourpy>=1.0.1 in c:\\users\\dell\\appdata\\local\\programs\\python\\python310\\lib\\site-packages (from matplotlib) (1.0.5)\n",
      "Requirement already satisfied: python-dateutil>=2.7 in c:\\users\\dell\\appdata\\local\\programs\\python\\python310\\lib\\site-packages (from matplotlib) (2.8.2)\n",
      "Requirement already satisfied: fonttools>=4.22.0 in c:\\users\\dell\\appdata\\local\\programs\\python\\python310\\lib\\site-packages (from matplotlib) (4.37.3)\n",
      "Requirement already satisfied: wheel<1.0,>=0.23.0 in c:\\users\\dell\\appdata\\local\\programs\\python\\python310\\lib\\site-packages (from astunparse>=1.6.0->tensorflow) (0.37.1)\n",
      "Requirement already satisfied: google-auth-oauthlib<0.5,>=0.4.1 in c:\\users\\dell\\appdata\\local\\programs\\python\\python310\\lib\\site-packages (from tensorboard<2.11,>=2.10->tensorflow) (0.4.6)\n",
      "Requirement already satisfied: google-auth<3,>=1.6.3 in c:\\users\\dell\\appdata\\local\\programs\\python\\python310\\lib\\site-packages (from tensorboard<2.11,>=2.10->tensorflow) (2.12.0)\n",
      "Requirement already satisfied: markdown>=2.6.8 in c:\\users\\dell\\appdata\\local\\programs\\python\\python310\\lib\\site-packages (from tensorboard<2.11,>=2.10->tensorflow) (3.4.1)\n",
      "Requirement already satisfied: tensorboard-data-server<0.7.0,>=0.6.0 in c:\\users\\dell\\appdata\\local\\programs\\python\\python310\\lib\\site-packages (from tensorboard<2.11,>=2.10->tensorflow) (0.6.1)\n",
      "Requirement already satisfied: tensorboard-plugin-wit>=1.6.0 in c:\\users\\dell\\appdata\\local\\programs\\python\\python310\\lib\\site-packages (from tensorboard<2.11,>=2.10->tensorflow) (1.8.1)\n",
      "Requirement already satisfied: werkzeug>=1.0.1 in c:\\users\\dell\\appdata\\local\\programs\\python\\python310\\lib\\site-packages (from tensorboard<2.11,>=2.10->tensorflow) (2.2.2)\n",
      "Requirement already satisfied: requests<3,>=2.21.0 in c:\\users\\dell\\appdata\\local\\programs\\python\\python310\\lib\\site-packages (from tensorboard<2.11,>=2.10->tensorflow) (2.28.1)\n",
      "Requirement already satisfied: cachetools<6.0,>=2.0.0 in c:\\users\\dell\\appdata\\local\\programs\\python\\python310\\lib\\site-packages (from google-auth<3,>=1.6.3->tensorboard<2.11,>=2.10->tensorflow) (5.2.0)\n",
      "Requirement already satisfied: rsa<5,>=3.1.4 in c:\\users\\dell\\appdata\\local\\programs\\python\\python310\\lib\\site-packages (from google-auth<3,>=1.6.3->tensorboard<2.11,>=2.10->tensorflow) (4.9)\n",
      "Requirement already satisfied: pyasn1-modules>=0.2.1 in c:\\users\\dell\\appdata\\local\\programs\\python\\python310\\lib\\site-packages (from google-auth<3,>=1.6.3->tensorboard<2.11,>=2.10->tensorflow) (0.2.8)\n",
      "Requirement already satisfied: requests-oauthlib>=0.7.0 in c:\\users\\dell\\appdata\\local\\programs\\python\\python310\\lib\\site-packages (from google-auth-oauthlib<0.5,>=0.4.1->tensorboard<2.11,>=2.10->tensorflow) (1.3.1)\n",
      "Requirement already satisfied: charset-normalizer<3,>=2 in c:\\users\\dell\\appdata\\local\\programs\\python\\python310\\lib\\site-packages (from requests<3,>=2.21.0->tensorboard<2.11,>=2.10->tensorflow) (2.1.1)\n",
      "Requirement already satisfied: idna<4,>=2.5 in c:\\users\\dell\\appdata\\local\\programs\\python\\python310\\lib\\site-packages (from requests<3,>=2.21.0->tensorboard<2.11,>=2.10->tensorflow) (3.4)\n",
      "Requirement already satisfied: urllib3<1.27,>=1.21.1 in c:\\users\\dell\\appdata\\local\\programs\\python\\python310\\lib\\site-packages (from requests<3,>=2.21.0->tensorboard<2.11,>=2.10->tensorflow) (1.26.12)\n",
      "Requirement already satisfied: certifi>=2017.4.17 in c:\\users\\dell\\appdata\\local\\programs\\python\\python310\\lib\\site-packages (from requests<3,>=2.21.0->tensorboard<2.11,>=2.10->tensorflow) (2022.9.24)\n",
      "Requirement already satisfied: MarkupSafe>=2.1.1 in c:\\users\\dell\\appdata\\local\\programs\\python\\python310\\lib\\site-packages (from werkzeug>=1.0.1->tensorboard<2.11,>=2.10->tensorflow) (2.1.1)\n",
      "Requirement already satisfied: pyasn1<0.5.0,>=0.4.6 in c:\\users\\dell\\appdata\\local\\programs\\python\\python310\\lib\\site-packages (from pyasn1-modules>=0.2.1->google-auth<3,>=1.6.3->tensorboard<2.11,>=2.10->tensorflow) (0.4.8)\n",
      "Requirement already satisfied: oauthlib>=3.0.0 in c:\\users\\dell\\appdata\\local\\programs\\python\\python310\\lib\\site-packages (from requests-oauthlib>=0.7.0->google-auth-oauthlib<0.5,>=0.4.1->tensorboard<2.11,>=2.10->tensorflow) (3.2.1)\n"
     ]
    }
   ],
   "source": [
    "%pip list\n",
    "%pip install tensorflow tensorflow-gpu opencv-python matplotlib\n",
    "import tensorflow as tf\n",
    "import os"
   ]
  },
  {
   "cell_type": "code",
   "execution_count": 2,
   "metadata": {},
   "outputs": [],
   "source": [
    "# Avoid OOM errors by setting GPU Memory Consumption Growth\n",
    "gpus = tf.config.experimental.list_physical_devices('GPU')\n",
    "for gpu in gpus: \n",
    "    tf.config.experimental.set_memory_growth(gpu, True)"
   ]
  },
  {
   "cell_type": "code",
   "execution_count": 3,
   "metadata": {
    "tags": []
   },
   "outputs": [
    {
     "data": {
      "text/plain": [
       "[]"
      ]
     },
     "execution_count": 3,
     "metadata": {},
     "output_type": "execute_result"
    }
   ],
   "source": [
    "tf.config.list_physical_devices('GPU')"
   ]
  },
  {
   "cell_type": "markdown",
   "metadata": {},
   "source": [
    "# 2. Remove dodgy images"
   ]
  },
  {
   "cell_type": "code",
   "execution_count": 4,
   "metadata": {},
   "outputs": [],
   "source": [
    "import cv2\n",
    "import imghdr"
   ]
  },
  {
   "cell_type": "code",
   "execution_count": 5,
   "metadata": {},
   "outputs": [],
   "source": [
    "data_dir = 'I:/College/image-classifier/class/train' "
   ]
  },
  {
   "cell_type": "code",
   "execution_count": 6,
   "metadata": {},
   "outputs": [],
   "source": [
    "image_exts = ['jpeg','jpg', 'bmp', 'png']"
   ]
  },
  {
   "cell_type": "code",
   "execution_count": 7,
   "metadata": {
    "tags": []
   },
   "outputs": [],
   "source": [
    "for image_class in os.listdir(data_dir): \n",
    "    for image in os.listdir(os.path.join(data_dir, image_class)):\n",
    "        image_path = os.path.join(data_dir, image_class, image)\n",
    "        try: \n",
    "            img = cv2.imread(image_path)\n",
    "            tip = imghdr.what(image_path)\n",
    "            if tip not in image_exts: \n",
    "                print('Image not in ext list {}'.format(image_path))\n",
    "                os.remove(image_path)\n",
    "        except Exception as e: \n",
    "            print('Issue with image {}'.format(image_path))\n",
    "            # os.remove(image_path)"
   ]
  },
  {
   "cell_type": "markdown",
   "metadata": {},
   "source": [
    "# 3. Load Data"
   ]
  },
  {
   "cell_type": "code",
   "execution_count": 8,
   "metadata": {},
   "outputs": [],
   "source": [
    "import numpy as np\n",
    "from matplotlib import pyplot as plt"
   ]
  },
  {
   "cell_type": "code",
   "execution_count": 9,
   "metadata": {},
   "outputs": [
    {
     "name": "stdout",
     "output_type": "stream",
     "text": [
      "Found 5119 files belonging to 2 classes.\n"
     ]
    }
   ],
   "source": [
    "data = tf.keras.utils.image_dataset_from_directory('I:/College/image-classifier/class/train')"
   ]
  },
  {
   "cell_type": "code",
   "execution_count": 10,
   "metadata": {},
   "outputs": [],
   "source": [
    "data_iterator = data.as_numpy_iterator()\n"
   ]
  },
  {
   "cell_type": "code",
   "execution_count": 11,
   "metadata": {
    "tags": []
   },
   "outputs": [],
   "source": [
    "# batch = data_iterator.next()\n",
    "batch = [ next(data_iterator) for i in range(5) ]\n",
    "\n"
   ]
  },
  {
   "cell_type": "code",
   "execution_count": 12,
   "metadata": {
    "tags": []
   },
   "outputs": [
    {
     "ename": "TypeError",
     "evalue": "Invalid shape (32, 256, 256, 3) for image data",
     "output_type": "error",
     "traceback": [
      "\u001b[1;31m---------------------------------------------------------------------------\u001b[0m",
      "\u001b[1;31mTypeError\u001b[0m                                 Traceback (most recent call last)",
      "Input \u001b[1;32mIn [12]\u001b[0m, in \u001b[0;36m<cell line: 3>\u001b[1;34m()\u001b[0m\n\u001b[0;32m      1\u001b[0m fig, ax \u001b[38;5;241m=\u001b[39m plt\u001b[38;5;241m.\u001b[39msubplots(ncols\u001b[38;5;241m=\u001b[39m\u001b[38;5;241m4\u001b[39m, figsize\u001b[38;5;241m=\u001b[39m(\u001b[38;5;241m20\u001b[39m,\u001b[38;5;241m20\u001b[39m))\n\u001b[0;32m      3\u001b[0m \u001b[38;5;28;01mfor\u001b[39;00m idx, img \u001b[38;5;129;01min\u001b[39;00m \u001b[38;5;28menumerate\u001b[39m(batch[\u001b[38;5;241m0\u001b[39m][:\u001b[38;5;241m4\u001b[39m]):\n\u001b[1;32m----> 4\u001b[0m     \u001b[43max\u001b[49m\u001b[43m[\u001b[49m\u001b[43midx\u001b[49m\u001b[43m]\u001b[49m\u001b[38;5;241;43m.\u001b[39;49m\u001b[43mimshow\u001b[49m\u001b[43m(\u001b[49m\u001b[43mimg\u001b[49m\u001b[38;5;241;43m.\u001b[39;49m\u001b[43mastype\u001b[49m\u001b[43m(\u001b[49m\u001b[38;5;28;43mint\u001b[39;49m\u001b[43m)\u001b[49m\u001b[43m)\u001b[49m\n\u001b[0;32m      5\u001b[0m     ax[idx]\u001b[38;5;241m.\u001b[39mtitle\u001b[38;5;241m.\u001b[39mset_text(batch[\u001b[38;5;241m1\u001b[39m][idx])\n",
      "File \u001b[1;32m~\\AppData\\Local\\Programs\\Python\\Python310\\lib\\site-packages\\matplotlib\\_api\\deprecation.py:454\u001b[0m, in \u001b[0;36mmake_keyword_only.<locals>.wrapper\u001b[1;34m(*args, **kwargs)\u001b[0m\n\u001b[0;32m    448\u001b[0m \u001b[38;5;28;01mif\u001b[39;00m \u001b[38;5;28mlen\u001b[39m(args) \u001b[38;5;241m>\u001b[39m name_idx:\n\u001b[0;32m    449\u001b[0m     warn_deprecated(\n\u001b[0;32m    450\u001b[0m         since, message\u001b[38;5;241m=\u001b[39m\u001b[38;5;124m\"\u001b[39m\u001b[38;5;124mPassing the \u001b[39m\u001b[38;5;132;01m%(name)s\u001b[39;00m\u001b[38;5;124m \u001b[39m\u001b[38;5;132;01m%(obj_type)s\u001b[39;00m\u001b[38;5;124m \u001b[39m\u001b[38;5;124m\"\u001b[39m\n\u001b[0;32m    451\u001b[0m         \u001b[38;5;124m\"\u001b[39m\u001b[38;5;124mpositionally is deprecated since Matplotlib \u001b[39m\u001b[38;5;132;01m%(since)s\u001b[39;00m\u001b[38;5;124m; the \u001b[39m\u001b[38;5;124m\"\u001b[39m\n\u001b[0;32m    452\u001b[0m         \u001b[38;5;124m\"\u001b[39m\u001b[38;5;124mparameter will become keyword-only \u001b[39m\u001b[38;5;132;01m%(removal)s\u001b[39;00m\u001b[38;5;124m.\u001b[39m\u001b[38;5;124m\"\u001b[39m,\n\u001b[0;32m    453\u001b[0m         name\u001b[38;5;241m=\u001b[39mname, obj_type\u001b[38;5;241m=\u001b[39m\u001b[38;5;124mf\u001b[39m\u001b[38;5;124m\"\u001b[39m\u001b[38;5;124mparameter of \u001b[39m\u001b[38;5;132;01m{\u001b[39;00mfunc\u001b[38;5;241m.\u001b[39m\u001b[38;5;18m__name__\u001b[39m\u001b[38;5;132;01m}\u001b[39;00m\u001b[38;5;124m()\u001b[39m\u001b[38;5;124m\"\u001b[39m)\n\u001b[1;32m--> 454\u001b[0m \u001b[38;5;28;01mreturn\u001b[39;00m func(\u001b[38;5;241m*\u001b[39margs, \u001b[38;5;241m*\u001b[39m\u001b[38;5;241m*\u001b[39mkwargs)\n",
      "File \u001b[1;32m~\\AppData\\Local\\Programs\\Python\\Python310\\lib\\site-packages\\matplotlib\\__init__.py:1423\u001b[0m, in \u001b[0;36m_preprocess_data.<locals>.inner\u001b[1;34m(ax, data, *args, **kwargs)\u001b[0m\n\u001b[0;32m   1420\u001b[0m \u001b[38;5;129m@functools\u001b[39m\u001b[38;5;241m.\u001b[39mwraps(func)\n\u001b[0;32m   1421\u001b[0m \u001b[38;5;28;01mdef\u001b[39;00m \u001b[38;5;21minner\u001b[39m(ax, \u001b[38;5;241m*\u001b[39margs, data\u001b[38;5;241m=\u001b[39m\u001b[38;5;28;01mNone\u001b[39;00m, \u001b[38;5;241m*\u001b[39m\u001b[38;5;241m*\u001b[39mkwargs):\n\u001b[0;32m   1422\u001b[0m     \u001b[38;5;28;01mif\u001b[39;00m data \u001b[38;5;129;01mis\u001b[39;00m \u001b[38;5;28;01mNone\u001b[39;00m:\n\u001b[1;32m-> 1423\u001b[0m         \u001b[38;5;28;01mreturn\u001b[39;00m func(ax, \u001b[38;5;241m*\u001b[39m\u001b[38;5;28mmap\u001b[39m(sanitize_sequence, args), \u001b[38;5;241m*\u001b[39m\u001b[38;5;241m*\u001b[39mkwargs)\n\u001b[0;32m   1425\u001b[0m     bound \u001b[38;5;241m=\u001b[39m new_sig\u001b[38;5;241m.\u001b[39mbind(ax, \u001b[38;5;241m*\u001b[39margs, \u001b[38;5;241m*\u001b[39m\u001b[38;5;241m*\u001b[39mkwargs)\n\u001b[0;32m   1426\u001b[0m     auto_label \u001b[38;5;241m=\u001b[39m (bound\u001b[38;5;241m.\u001b[39marguments\u001b[38;5;241m.\u001b[39mget(label_namer)\n\u001b[0;32m   1427\u001b[0m                   \u001b[38;5;129;01mor\u001b[39;00m bound\u001b[38;5;241m.\u001b[39mkwargs\u001b[38;5;241m.\u001b[39mget(label_namer))\n",
      "File \u001b[1;32m~\\AppData\\Local\\Programs\\Python\\Python310\\lib\\site-packages\\matplotlib\\axes\\_axes.py:5572\u001b[0m, in \u001b[0;36mAxes.imshow\u001b[1;34m(self, X, cmap, norm, aspect, interpolation, alpha, vmin, vmax, origin, extent, interpolation_stage, filternorm, filterrad, resample, url, **kwargs)\u001b[0m\n\u001b[0;32m   5564\u001b[0m \u001b[38;5;28mself\u001b[39m\u001b[38;5;241m.\u001b[39mset_aspect(aspect)\n\u001b[0;32m   5565\u001b[0m im \u001b[38;5;241m=\u001b[39m mimage\u001b[38;5;241m.\u001b[39mAxesImage(\u001b[38;5;28mself\u001b[39m, cmap\u001b[38;5;241m=\u001b[39mcmap, norm\u001b[38;5;241m=\u001b[39mnorm,\n\u001b[0;32m   5566\u001b[0m                       interpolation\u001b[38;5;241m=\u001b[39minterpolation, origin\u001b[38;5;241m=\u001b[39morigin,\n\u001b[0;32m   5567\u001b[0m                       extent\u001b[38;5;241m=\u001b[39mextent, filternorm\u001b[38;5;241m=\u001b[39mfilternorm,\n\u001b[0;32m   5568\u001b[0m                       filterrad\u001b[38;5;241m=\u001b[39mfilterrad, resample\u001b[38;5;241m=\u001b[39mresample,\n\u001b[0;32m   5569\u001b[0m                       interpolation_stage\u001b[38;5;241m=\u001b[39minterpolation_stage,\n\u001b[0;32m   5570\u001b[0m                       \u001b[38;5;241m*\u001b[39m\u001b[38;5;241m*\u001b[39mkwargs)\n\u001b[1;32m-> 5572\u001b[0m \u001b[43mim\u001b[49m\u001b[38;5;241;43m.\u001b[39;49m\u001b[43mset_data\u001b[49m\u001b[43m(\u001b[49m\u001b[43mX\u001b[49m\u001b[43m)\u001b[49m\n\u001b[0;32m   5573\u001b[0m im\u001b[38;5;241m.\u001b[39mset_alpha(alpha)\n\u001b[0;32m   5574\u001b[0m \u001b[38;5;28;01mif\u001b[39;00m im\u001b[38;5;241m.\u001b[39mget_clip_path() \u001b[38;5;129;01mis\u001b[39;00m \u001b[38;5;28;01mNone\u001b[39;00m:\n\u001b[0;32m   5575\u001b[0m     \u001b[38;5;66;03m# image does not already have clipping set, clip to axes patch\u001b[39;00m\n",
      "File \u001b[1;32m~\\AppData\\Local\\Programs\\Python\\Python310\\lib\\site-packages\\matplotlib\\image.py:710\u001b[0m, in \u001b[0;36m_ImageBase.set_data\u001b[1;34m(self, A)\u001b[0m\n\u001b[0;32m    706\u001b[0m     \u001b[38;5;28mself\u001b[39m\u001b[38;5;241m.\u001b[39m_A \u001b[38;5;241m=\u001b[39m \u001b[38;5;28mself\u001b[39m\u001b[38;5;241m.\u001b[39m_A[:, :, \u001b[38;5;241m0\u001b[39m]\n\u001b[0;32m    708\u001b[0m \u001b[38;5;28;01mif\u001b[39;00m \u001b[38;5;129;01mnot\u001b[39;00m (\u001b[38;5;28mself\u001b[39m\u001b[38;5;241m.\u001b[39m_A\u001b[38;5;241m.\u001b[39mndim \u001b[38;5;241m==\u001b[39m \u001b[38;5;241m2\u001b[39m\n\u001b[0;32m    709\u001b[0m         \u001b[38;5;129;01mor\u001b[39;00m \u001b[38;5;28mself\u001b[39m\u001b[38;5;241m.\u001b[39m_A\u001b[38;5;241m.\u001b[39mndim \u001b[38;5;241m==\u001b[39m \u001b[38;5;241m3\u001b[39m \u001b[38;5;129;01mand\u001b[39;00m \u001b[38;5;28mself\u001b[39m\u001b[38;5;241m.\u001b[39m_A\u001b[38;5;241m.\u001b[39mshape[\u001b[38;5;241m-\u001b[39m\u001b[38;5;241m1\u001b[39m] \u001b[38;5;129;01min\u001b[39;00m [\u001b[38;5;241m3\u001b[39m, \u001b[38;5;241m4\u001b[39m]):\n\u001b[1;32m--> 710\u001b[0m     \u001b[38;5;28;01mraise\u001b[39;00m \u001b[38;5;167;01mTypeError\u001b[39;00m(\u001b[38;5;124m\"\u001b[39m\u001b[38;5;124mInvalid shape \u001b[39m\u001b[38;5;132;01m{}\u001b[39;00m\u001b[38;5;124m for image data\u001b[39m\u001b[38;5;124m\"\u001b[39m\n\u001b[0;32m    711\u001b[0m                     \u001b[38;5;241m.\u001b[39mformat(\u001b[38;5;28mself\u001b[39m\u001b[38;5;241m.\u001b[39m_A\u001b[38;5;241m.\u001b[39mshape))\n\u001b[0;32m    713\u001b[0m \u001b[38;5;28;01mif\u001b[39;00m \u001b[38;5;28mself\u001b[39m\u001b[38;5;241m.\u001b[39m_A\u001b[38;5;241m.\u001b[39mndim \u001b[38;5;241m==\u001b[39m \u001b[38;5;241m3\u001b[39m:\n\u001b[0;32m    714\u001b[0m     \u001b[38;5;66;03m# If the input data has values outside the valid range (after\u001b[39;00m\n\u001b[0;32m    715\u001b[0m     \u001b[38;5;66;03m# normalisation), we issue a warning and then clip X to the bounds\u001b[39;00m\n\u001b[0;32m    716\u001b[0m     \u001b[38;5;66;03m# - otherwise casting wraps extreme values, hiding outliers and\u001b[39;00m\n\u001b[0;32m    717\u001b[0m     \u001b[38;5;66;03m# making reliable interpretation impossible.\u001b[39;00m\n\u001b[0;32m    718\u001b[0m     high \u001b[38;5;241m=\u001b[39m \u001b[38;5;241m255\u001b[39m \u001b[38;5;28;01mif\u001b[39;00m np\u001b[38;5;241m.\u001b[39missubdtype(\u001b[38;5;28mself\u001b[39m\u001b[38;5;241m.\u001b[39m_A\u001b[38;5;241m.\u001b[39mdtype, np\u001b[38;5;241m.\u001b[39minteger) \u001b[38;5;28;01melse\u001b[39;00m \u001b[38;5;241m1\u001b[39m\n",
      "\u001b[1;31mTypeError\u001b[0m: Invalid shape (32, 256, 256, 3) for image data"
     ]
    },
    {
     "data": {
      "image/png": "[encoded data removed]",
      "text/plain": [
       "<Figure size 1440x1440 with 4 Axes>"
      ]
     },
     "metadata": {
      "needs_background": "light"
     },
     "output_type": "display_data"
    }
   ],
   "source": [
    "fig, ax = plt.subplots(ncols=4, figsize=(20,20))\n",
    "\n",
    "for idx, img in enumerate(batch[0][:4]):\n",
    "    ax[idx].imshow(img.astype(int))\n",
    "    ax[idx].title.set_text(batch[1][idx])\n"
   ]
  },
  {
   "cell_type": "markdown",
   "metadata": {},
   "source": [
    "# 4. Scale Data"
   ]
  },
  {
   "cell_type": "code",
   "execution_count": 13,
   "metadata": {},
   "outputs": [
    {
     "data": {
      "text/plain": [
       "160"
      ]
     },
     "execution_count": 13,
     "metadata": {},
     "output_type": "execute_result"
    }
   ],
   "source": [
    "data = data.map(lambda x,y: (x/255, y))\n",
    "len(data)"
   ]
  },
  {
   "cell_type": "code",
   "execution_count": 14,
   "metadata": {
    "scrolled": true,
    "tags": []
   },
   "outputs": [
    {
     "data": {
      "text/plain": [
       "(array([[[[0.229894  , 0.27695283, 0.08461214],\n",
       "          [0.18560684, 0.23148744, 0.05834231],\n",
       "          [0.17418231, 0.22032967, 0.0812555 ],\n",
       "          ...,\n",
       "          [0.37705246, 0.48501813, 0.22261006],\n",
       "          [0.19593392, 0.26715022, 0.06282666],\n",
       "          [0.15006253, 0.21734661, 0.01726236]],\n",
       " \n",
       "         [[0.26369905, 0.31429645, 0.12203871],\n",
       "          [0.1639792 , 0.21550143, 0.03181158],\n",
       "          [0.14956772, 0.20352544, 0.02064724],\n",
       "          ...,\n",
       "          [0.40644932, 0.515507  , 0.25091493],\n",
       "          [0.31463456, 0.39453256, 0.17193758],\n",
       "          [0.24128155, 0.3155922 , 0.10113077]],\n",
       " \n",
       "         [[0.16766974, 0.22383878, 0.03631251],\n",
       "          [0.22584139, 0.2845446 , 0.08074335],\n",
       "          [0.19430913, 0.2603036 , 0.04054613],\n",
       "          ...,\n",
       "          [0.37056908, 0.47800627, 0.21778403],\n",
       "          [0.4074844 , 0.49868384, 0.2688355 ],\n",
       "          [0.38078028, 0.46683666, 0.24269086]],\n",
       " \n",
       "         ...,\n",
       " \n",
       "         [[0.2832505 , 0.33444902, 0.20089757],\n",
       "          [0.2642584 , 0.3250274 , 0.16579793],\n",
       "          [0.25883543, 0.323526  , 0.14413722],\n",
       "          ...,\n",
       "          [0.34181154, 0.46841887, 0.2119438 ],\n",
       "          [0.32050064, 0.4408022 , 0.18130356],\n",
       "          [0.34924173, 0.46940506, 0.2103667 ]],\n",
       " \n",
       "         [[0.27687347, 0.33776635, 0.19564712],\n",
       "          [0.26213953, 0.3288062 , 0.15980542],\n",
       "          [0.26803666, 0.3386249 , 0.14874178],\n",
       "          ...,\n",
       "          [0.32816762, 0.46214652, 0.1995743 ],\n",
       "          [0.32311282, 0.44468144, 0.17632009],\n",
       "          [0.29923755, 0.42080617, 0.15272953]],\n",
       " \n",
       "         [[0.27640998, 0.33915508, 0.19119011],\n",
       "          [0.2560432 , 0.3241415 , 0.14628524],\n",
       "          [0.24881975, 0.31940797, 0.12150663],\n",
       "          ...,\n",
       "          [0.2791167 , 0.41842794, 0.15065104],\n",
       "          [0.33323532, 0.4567041 , 0.17700064],\n",
       "          [0.3140865 , 0.43739912, 0.15821946]]],\n",
       " \n",
       " \n",
       "        [[[0.71402806, 0.7434398 , 0.7336359 ],\n",
       "          [0.7535922 , 0.77320004, 0.7673177 ],\n",
       "          [0.72651273, 0.7510187 , 0.74285   ],\n",
       "          ...,\n",
       "          [0.0094784 , 0.0094784 , 0.00196078],\n",
       "          [0.        , 0.        , 0.        ],\n",
       "          [0.        , 0.        , 0.        ]],\n",
       " \n",
       "         [[0.75886947, 0.778462  , 0.7725873 ],\n",
       "          [0.78137636, 0.79312575, 0.7892042 ],\n",
       "          [0.7824295 , 0.7981158 , 0.7941942 ],\n",
       "          ...,\n",
       "          [0.00097656, 0.00392157, 0.        ],\n",
       "          [0.        , 0.00196844, 0.        ],\n",
       "          [0.        , 0.        , 0.        ]],\n",
       " \n",
       "         [[0.7823529 , 0.79019606, 0.7862745 ],\n",
       "          [0.7875689 , 0.7875689 , 0.7875689 ],\n",
       "          [0.7794692 , 0.786646  , 0.7830576 ],\n",
       "          ...,\n",
       "          [0.00884268, 0.01276425, 0.        ],\n",
       "          [0.00817632, 0.01209789, 0.        ],\n",
       "          [0.        , 0.00392157, 0.        ]],\n",
       " \n",
       "         ...,\n",
       " \n",
       "         [[0.19703968, 0.1865311 , 0.11723728],\n",
       "          [0.125337  , 0.13251379, 0.06680837],\n",
       "          [0.11835171, 0.08631281, 0.04839154],\n",
       "          ...,\n",
       "          [0.09215686, 0.09511719, 0.00980392],\n",
       "          [0.19411765, 0.18627451, 0.11272595],\n",
       "          [0.15745251, 0.1339231 , 0.07184436]],\n",
       " \n",
       "         [[0.111803  , 0.11277957, 0.03534007],\n",
       "          [0.16162302, 0.15870099, 0.0930262 ],\n",
       "          [0.11272595, 0.06471355, 0.0078508 ],\n",
       "          ...,\n",
       "          [0.09906173, 0.09514017, 0.01865426],\n",
       "          [0.12156863, 0.10980392, 0.04313726],\n",
       "          [0.11853937, 0.10677467, 0.03618643]],\n",
       " \n",
       "         [[0.10223269, 0.09341299, 0.01106771],\n",
       "          [0.33212316, 0.28866804, 0.21415824],\n",
       "          [0.3673024 , 0.27809054, 0.1627451 ],\n",
       "          ...,\n",
       "          [0.1290556 , 0.11827512, 0.04409084],\n",
       "          [0.16733302, 0.15948988, 0.09151348],\n",
       "          [0.15393306, 0.15098806, 0.07190564]]],\n",
       " \n",
       " \n",
       "        [[[0.30555683, 0.27810585, 0.24412148],\n",
       "          [0.40980393, 0.4745098 , 0.60784316],\n",
       "          [0.39411765, 0.4862745 , 0.58431375],\n",
       "          ...,\n",
       "          [0.40588236, 0.47254902, 0.56078434],\n",
       "          [0.40392157, 0.4745098 , 0.56078434],\n",
       "          [0.39607844, 0.47843137, 0.56078434]],\n",
       " \n",
       "         [[0.3166705 , 0.28921953, 0.2558862 ],\n",
       "          [0.40685892, 0.47352558, 0.6068589 ],\n",
       "          [0.39019608, 0.4882353 , 0.58431375],\n",
       "          ...,\n",
       "          [0.40392157, 0.4745098 , 0.56078434],\n",
       "          [0.4       , 0.4764706 , 0.56078434],\n",
       "          [0.39607844, 0.47843137, 0.56078434]],\n",
       " \n",
       "         [[0.32582337, 0.2983724 , 0.27421492],\n",
       "          [0.40784314, 0.4745098 , 0.6130974 ],\n",
       "          [0.39019608, 0.4882353 , 0.5849801 ],\n",
       "          ...,\n",
       "          [0.40392157, 0.4745098 , 0.56078434],\n",
       "          [0.39607844, 0.47843137, 0.56078434],\n",
       "          [0.39607844, 0.47843137, 0.56078434]],\n",
       " \n",
       "         ...,\n",
       " \n",
       "         [[0.22094056, 0.19933364, 0.1882353 ],\n",
       "          [0.22845052, 0.2068436 , 0.19574524],\n",
       "          [0.22519532, 0.20458792, 0.19249004],\n",
       "          ...,\n",
       "          [0.26078433, 0.23529412, 0.2254902 ],\n",
       "          [0.25623468, 0.23074448, 0.21897978],\n",
       "          [0.25519684, 0.24443167, 0.21205959]],\n",
       " \n",
       "         [[0.2019761 , 0.2078508 , 0.18530561],\n",
       "          [0.22059973, 0.21863128, 0.20196845],\n",
       "          [0.23427926, 0.2166322 , 0.2048675 ],\n",
       "          ...,\n",
       "          [0.282307  , 0.24897365, 0.24701287],\n",
       "          [0.27544042, 0.2430913 , 0.23817785],\n",
       "          [0.24707414, 0.23138787, 0.20980392]],\n",
       " \n",
       "         [[0.20293735, 0.21732154, 0.19019608],\n",
       "          [0.21209788, 0.21209788, 0.19445083],\n",
       "          [0.2284352 , 0.20882736, 0.20751761],\n",
       "          ...,\n",
       "          [0.2705959 , 0.23530178, 0.233341  ],\n",
       "          [0.2705959 , 0.23497626, 0.23399204],\n",
       "          [0.2575138 , 0.24117647, 0.22614124]]],\n",
       " \n",
       " \n",
       "        ...,\n",
       " \n",
       " \n",
       "        [[[0.77254903, 0.69803923, 0.5411765 ],\n",
       "          [0.7764706 , 0.7019608 , 0.54509807],\n",
       "          [0.77843136, 0.70392156, 0.5470588 ],\n",
       "          ...,\n",
       "          [0.3191789 , 0.29761028, 0.18976715],\n",
       "          [0.30588236, 0.28235295, 0.18105085],\n",
       "          [0.30588236, 0.28627452, 0.1689568 ]],\n",
       " \n",
       "         [[0.77254903, 0.69803923, 0.5411765 ],\n",
       "          [0.7764706 , 0.7019608 , 0.54509807],\n",
       "          [0.77843136, 0.70392156, 0.5470588 ],\n",
       "          ...,\n",
       "          [0.3030867 , 0.28054535, 0.1756204 ],\n",
       "          [0.30588236, 0.28627452, 0.17254902],\n",
       "          [0.30588236, 0.28627452, 0.16078432]],\n",
       " \n",
       "         [[0.77254903, 0.69803923, 0.5411765 ],\n",
       "          [0.7764706 , 0.7019608 , 0.54509807],\n",
       "          [0.77843136, 0.70392156, 0.5470588 ],\n",
       "          ...,\n",
       "          [0.31968445, 0.29811582, 0.19027267],\n",
       "          [0.30588236, 0.28627452, 0.16799939],\n",
       "          [0.30588236, 0.2901961 , 0.15231311]],\n",
       " \n",
       "         ...,\n",
       " \n",
       "         [[0.20980392, 0.18039216, 0.08431373],\n",
       "          [0.19184282, 0.16047028, 0.08203891],\n",
       "          [0.17843138, 0.14509805, 0.07450981],\n",
       "          ...,\n",
       "          [0.20157015, 0.12251072, 0.01929381],\n",
       "          [0.20227481, 0.11835171, 0.0118413 ],\n",
       "          [0.21560968, 0.12478554, 0.02941176]],\n",
       " \n",
       "         [[0.2254902 , 0.18431373, 0.09215686],\n",
       "          [0.20490962, 0.16177237, 0.08726256],\n",
       "          [0.18825062, 0.14511336, 0.07452513],\n",
       "          ...,\n",
       "          [0.18440564, 0.12363664, 0.03739277],\n",
       "          [0.17748928, 0.11279871, 0.02459406],\n",
       "          [0.18624388, 0.11372549, 0.03237592]],\n",
       " \n",
       "         [[0.21764706, 0.17843138, 0.07647059],\n",
       "          [0.20784314, 0.16470589, 0.08235294],\n",
       "          [0.18269761, 0.13956036, 0.06505055],\n",
       "          ...,\n",
       "          [0.18652727, 0.14437807, 0.06627604],\n",
       "          [0.19767922, 0.15487133, 0.08527114],\n",
       "          [0.1761106 , 0.11435355, 0.05356924]]],\n",
       " \n",
       " \n",
       "        [[[0.8861979 , 0.7136489 , 0.42740503],\n",
       "          [0.8988727 , 0.7263236 , 0.44007975],\n",
       "          [0.9154618 , 0.74291277, 0.45666888],\n",
       "          ...,\n",
       "          [0.26041666, 0.13492647, 0.08394608],\n",
       "          [0.2587929 , 0.1333027 , 0.08232231],\n",
       "          [0.2587929 , 0.1333027 , 0.08232231]],\n",
       " \n",
       "         [[0.8666207 , 0.69411767, 0.41582415],\n",
       "          [0.8690742 , 0.6965711 , 0.41827762],\n",
       "          [0.8735568 , 0.70105374, 0.42274123],\n",
       "          ...,\n",
       "          [0.25249323, 0.12700303, 0.07602264],\n",
       "          [0.25088847, 0.12539828, 0.07441789],\n",
       "          [0.25088847, 0.12539828, 0.07441789]],\n",
       " \n",
       "         [[0.8630515 , 0.69442403, 0.42775735],\n",
       "          [0.8579657 , 0.6893382 , 0.4226219 ],\n",
       "          [0.85036874, 0.6817413 , 0.41340595],\n",
       "          ...,\n",
       "          [0.24298407, 0.11749388, 0.06651348],\n",
       "          [0.24298407, 0.11749388, 0.06651348],\n",
       "          [0.24298407, 0.11749388, 0.06651348]],\n",
       " \n",
       "         ...,\n",
       " \n",
       "         [[0.01960784, 0.00392157, 0.00784314],\n",
       "          [0.01960784, 0.00392157, 0.00784314],\n",
       "          [0.01960784, 0.00392157, 0.00784314],\n",
       "          ...,\n",
       "          [0.01960784, 0.00392157, 0.        ],\n",
       "          [0.01960784, 0.00392157, 0.        ],\n",
       "          [0.01960784, 0.00392157, 0.        ]],\n",
       " \n",
       "         [[0.01960784, 0.00392157, 0.00784314],\n",
       "          [0.01960784, 0.00392157, 0.00784314],\n",
       "          [0.01960784, 0.00392157, 0.00784314],\n",
       "          ...,\n",
       "          [0.01960784, 0.00392157, 0.        ],\n",
       "          [0.01960784, 0.00392157, 0.        ],\n",
       "          [0.01960784, 0.00392157, 0.        ]],\n",
       " \n",
       "         [[0.01960784, 0.00392157, 0.00784314],\n",
       "          [0.01960784, 0.00392157, 0.00784314],\n",
       "          [0.01960784, 0.00392157, 0.00784314],\n",
       "          ...,\n",
       "          [0.01960784, 0.00392157, 0.        ],\n",
       "          [0.01960784, 0.00392157, 0.        ],\n",
       "          [0.01960784, 0.00392157, 0.        ]]],\n",
       " \n",
       " \n",
       "        [[[0.14901961, 0.16470589, 0.16078432],\n",
       "          [0.13725491, 0.15294118, 0.14901961],\n",
       "          [0.12941177, 0.14509805, 0.14117648],\n",
       "          ...,\n",
       "          [0.13529412, 0.15490197, 0.12745099],\n",
       "          [0.13333334, 0.15294118, 0.1254902 ],\n",
       "          [0.08235294, 0.10196079, 0.07450981]],\n",
       " \n",
       "         [[0.10196079, 0.11764706, 0.11372549],\n",
       "          [0.12352941, 0.1392157 , 0.13529412],\n",
       "          [0.13529412, 0.1509804 , 0.14705883],\n",
       "          ...,\n",
       "          [0.11568628, 0.13529412, 0.10784314],\n",
       "          [0.09019608, 0.10980392, 0.08235294],\n",
       "          [0.08431373, 0.10392157, 0.07647059]],\n",
       " \n",
       "         [[0.16666667, 0.18235295, 0.17843138],\n",
       "          [0.11568628, 0.13137256, 0.12745099],\n",
       "          [0.14117648, 0.15686275, 0.15294118],\n",
       "          ...,\n",
       "          [0.11372549, 0.13333334, 0.10588235],\n",
       "          [0.10784314, 0.12745099, 0.1       ],\n",
       "          [0.09019608, 0.10980392, 0.08235294]],\n",
       " \n",
       "         ...,\n",
       " \n",
       "         [[0.46078432, 0.48039216, 0.50392157],\n",
       "          [0.13137256, 0.14901961, 0.17843138],\n",
       "          [0.10392157, 0.11176471, 0.20588236],\n",
       "          ...,\n",
       "          [0.17450981, 0.18039216, 0.20588236],\n",
       "          [0.30784315, 0.30784315, 0.35490197],\n",
       "          [0.43333334, 0.4254902 , 0.48039216]],\n",
       " \n",
       "         [[0.09607843, 0.10196079, 0.15882353],\n",
       "          [0.49607843, 0.50784314, 0.5745098 ],\n",
       "          [0.527451  , 0.5294118 , 0.65686274],\n",
       "          ...,\n",
       "          [0.13333334, 0.14313726, 0.14901961],\n",
       "          [0.13137256, 0.13333334, 0.15882353],\n",
       "          [0.15686275, 0.14901961, 0.19607843]],\n",
       " \n",
       "         [[0.38627452, 0.38627452, 0.48039216],\n",
       "          [0.4862745 , 0.4862745 , 0.5882353 ],\n",
       "          [0.5568628 , 0.54901963, 0.69803923],\n",
       "          ...,\n",
       "          [0.30980393, 0.31176472, 0.36862746],\n",
       "          [0.11176471, 0.11568628, 0.13333334],\n",
       "          [0.13529412, 0.13529412, 0.1392157 ]]]], dtype=float32),\n",
       " array([0, 0, 0, 0, 0, 1, 0, 0, 0, 1, 0, 1, 0, 0, 0, 0, 0, 0, 0, 0, 0, 1,\n",
       "        0, 1, 0, 0, 0, 0, 0, 0, 1, 0]))"
      ]
     },
     "execution_count": 14,
     "metadata": {},
     "output_type": "execute_result"
    }
   ],
   "source": [
    "data.as_numpy_iterator().next()"
   ]
  },
  {
   "cell_type": "markdown",
   "metadata": {},
   "source": [
    "# 5. Split Data"
   ]
  },
  {
   "cell_type": "code",
   "execution_count": 16,
   "metadata": {},
   "outputs": [
    {
     "name": "stdout",
     "output_type": "stream",
     "text": [
      "112 32 16\n"
     ]
    }
   ],
   "source": [
    "train_size = int(len(data)*.7)\n",
    "val_size = int(len(data)*.2)\n",
    "test_size = int(len(data)*.1)\n",
    "print(train_size, val_size, test_size)"
   ]
  },
  {
   "cell_type": "code",
   "execution_count": 17,
   "metadata": {},
   "outputs": [
    {
     "data": {
      "text/plain": [
       "112"
      ]
     },
     "execution_count": 17,
     "metadata": {},
     "output_type": "execute_result"
    }
   ],
   "source": [
    "train_size"
   ]
  },
  {
   "cell_type": "code",
   "execution_count": 18,
   "metadata": {},
   "outputs": [
    {
     "name": "stdout",
     "output_type": "stream",
     "text": [
      "<TakeDataset element_spec=(TensorSpec(shape=(None, 256, 256, 3), dtype=tf.float32, name=None), TensorSpec(shape=(None,), dtype=tf.int32, name=None))>\n"
     ]
    }
   ],
   "source": [
    "train = data.take(train_size)\n",
    "val = data.skip(train_size).take(val_size)\n",
    "test = data.skip(train_size+val_size).take(test_size)\n",
    "print(test)"
   ]
  },
  {
   "cell_type": "markdown",
   "metadata": {},
   "source": [
    "# 6. Build Deep Learning Model"
   ]
  },
  {
   "cell_type": "code",
   "execution_count": 19,
   "metadata": {},
   "outputs": [
    {
     "data": {
      "text/plain": [
       "<TakeDataset element_spec=(TensorSpec(shape=(None, 256, 256, 3), dtype=tf.float32, name=None), TensorSpec(shape=(None,), dtype=tf.int32, name=None))>"
      ]
     },
     "execution_count": 19,
     "metadata": {},
     "output_type": "execute_result"
    }
   ],
   "source": [
    "train"
   ]
  },
  {
   "cell_type": "code",
   "execution_count": 20,
   "metadata": {},
   "outputs": [],
   "source": [
    "from tensorflow.keras.models import Sequential\n",
    "from tensorflow.keras.layers import Conv2D, MaxPooling2D, Dense, Flatten, Dropout"
   ]
  },
  {
   "cell_type": "code",
   "execution_count": 21,
   "metadata": {},
   "outputs": [],
   "source": [
    "model = Sequential()"
   ]
  },
  {
   "cell_type": "code",
   "execution_count": 22,
   "metadata": {},
   "outputs": [],
   "source": [
    "model.add(Conv2D(16, (3,3), 1, activation='relu', input_shape=(256,256,3)))\n",
    "model.add(MaxPooling2D())\n",
    "model.add(Conv2D(32, (3,3), 1, activation='relu'))\n",
    "model.add(MaxPooling2D())\n",
    "model.add(Conv2D(16, (3,3), 1, activation='relu'))\n",
    "model.add(MaxPooling2D())\n",
    "model.add(Flatten())\n",
    "model.add(Dense(256, activation='relu'))\n",
    "model.add(Dense(1, activation='sigmoid'))"
   ]
  },
  {
   "cell_type": "code",
   "execution_count": 23,
   "metadata": {},
   "outputs": [],
   "source": [
    "model.compile('adam', loss=tf.losses.BinaryCrossentropy(), metrics=['accuracy'])"
   ]
  },
  {
   "cell_type": "code",
   "execution_count": 24,
   "metadata": {
    "tags": []
   },
   "outputs": [
    {
     "name": "stdout",
     "output_type": "stream",
     "text": [
      "Model: \"sequential\"\n",
      "_________________________________________________________________\n",
      " Layer (type)                Output Shape              Param #   \n",
      "=================================================================\n",
      " conv2d (Conv2D)             (None, 254, 254, 16)      448       \n",
      "                                                                 \n",
      " max_pooling2d (MaxPooling2D  (None, 127, 127, 16)     0         \n",
      " )                                                               \n",
      "                                                                 \n",
      " conv2d_1 (Conv2D)           (None, 125, 125, 32)      4640      \n",
      "                                                                 \n",
      " max_pooling2d_1 (MaxPooling  (None, 62, 62, 32)       0         \n",
      " 2D)                                                             \n",
      "                                                                 \n",
      " conv2d_2 (Conv2D)           (None, 60, 60, 16)        4624      \n",
      "                                                                 \n",
      " max_pooling2d_2 (MaxPooling  (None, 30, 30, 16)       0         \n",
      " 2D)                                                             \n",
      "                                                                 \n",
      " flatten (Flatten)           (None, 14400)             0         \n",
      "                                                                 \n",
      " dense (Dense)               (None, 256)               3686656   \n",
      "                                                                 \n",
      " dense_1 (Dense)             (None, 1)                 257       \n",
      "                                                                 \n",
      "=================================================================\n",
      "Total params: 3,696,625\n",
      "Trainable params: 3,696,625\n",
      "Non-trainable params: 0\n",
      "_________________________________________________________________\n"
     ]
    }
   ],
   "source": [
    "model.summary()"
   ]
  },
  {
   "cell_type": "markdown",
   "metadata": {},
   "source": [
    "# 7. Train"
   ]
  },
  {
   "cell_type": "code",
   "execution_count": 25,
   "metadata": {},
   "outputs": [],
   "source": [
    "logdir='I:/College/image-classifier/logs'"
   ]
  },
  {
   "cell_type": "code",
   "execution_count": 26,
   "metadata": {},
   "outputs": [],
   "source": [
    "tensorboard_callback = tf.keras.callbacks.TensorBoard(log_dir=logdir)"
   ]
  },
  {
   "cell_type": "code",
   "execution_count": 27,
   "metadata": {
    "scrolled": true,
    "tags": []
   },
   "outputs": [
    {
     "name": "stdout",
     "output_type": "stream",
     "text": [
      "Epoch 1/200\n",
      "112/112 [==============================] - 320s 3s/step - loss: 0.5659 - accuracy: 0.7107 - val_loss: 0.4328 - val_accuracy: 0.8164\n",
      "Epoch 2/200\n",
      "112/112 [==============================] - 303s 3s/step - loss: 0.4106 - accuracy: 0.8105 - val_loss: 0.3687 - val_accuracy: 0.8496\n",
      "Epoch 3/200\n",
      "112/112 [==============================] - 315s 3s/step - loss: 0.3184 - accuracy: 0.8566 - val_loss: 0.3249 - val_accuracy: 0.8516\n",
      "Epoch 4/200\n",
      "112/112 [==============================] - 284s 3s/step - loss: 0.2441 - accuracy: 0.8945 - val_loss: 0.2983 - val_accuracy: 0.8779\n",
      "Epoch 5/200\n",
      "112/112 [==============================] - 312s 3s/step - loss: 0.1838 - accuracy: 0.9272 - val_loss: 0.3302 - val_accuracy: 0.8672\n",
      "Epoch 6/200\n",
      "112/112 [==============================] - 286s 3s/step - loss: 0.1361 - accuracy: 0.9484 - val_loss: 0.5015 - val_accuracy: 0.8359\n",
      "Epoch 7/200\n",
      "112/112 [==============================] - 312s 3s/step - loss: 0.1071 - accuracy: 0.9584 - val_loss: 0.3499 - val_accuracy: 0.8955\n",
      "Epoch 8/200\n",
      "112/112 [==============================] - 294s 3s/step - loss: 0.0781 - accuracy: 0.9727 - val_loss: 0.3819 - val_accuracy: 0.8789\n",
      "Epoch 9/200\n",
      "112/112 [==============================] - 318s 3s/step - loss: 0.0475 - accuracy: 0.9830 - val_loss: 0.4518 - val_accuracy: 0.8818\n",
      "Epoch 10/200\n",
      "112/112 [==============================] - 343s 3s/step - loss: 0.0317 - accuracy: 0.9900 - val_loss: 0.4683 - val_accuracy: 0.8926\n",
      "Epoch 11/200\n",
      "112/112 [==============================] - 335s 3s/step - loss: 0.0479 - accuracy: 0.9833 - val_loss: 0.4557 - val_accuracy: 0.8945\n",
      "Epoch 12/200\n",
      "112/112 [==============================] - 453s 4s/step - loss: 0.0234 - accuracy: 0.9936 - val_loss: 0.6829 - val_accuracy: 0.8721\n",
      "Epoch 13/200\n",
      "112/112 [==============================] - 284s 3s/step - loss: 0.0293 - accuracy: 0.9922 - val_loss: 0.5995 - val_accuracy: 0.8242\n",
      "Epoch 14/200\n",
      "112/112 [==============================] - 284s 3s/step - loss: 0.0335 - accuracy: 0.9891 - val_loss: 0.4985 - val_accuracy: 0.8936\n",
      "Epoch 15/200\n",
      "112/112 [==============================] - 280s 2s/step - loss: 0.0050 - accuracy: 0.9992 - val_loss: 0.5858 - val_accuracy: 0.8965\n",
      "Epoch 16/200\n",
      "112/112 [==============================] - 286s 3s/step - loss: 0.0024 - accuracy: 0.9997 - val_loss: 0.5906 - val_accuracy: 0.9062\n",
      "Epoch 17/200\n",
      "112/112 [==============================] - 288s 3s/step - loss: 0.0021 - accuracy: 0.9997 - val_loss: 0.7402 - val_accuracy: 0.8857\n",
      "Epoch 18/200\n",
      "112/112 [==============================] - 284s 3s/step - loss: 0.0647 - accuracy: 0.9760 - val_loss: 0.5167 - val_accuracy: 0.8545\n",
      "Epoch 19/200\n",
      "112/112 [==============================] - 280s 2s/step - loss: 0.0690 - accuracy: 0.9752 - val_loss: 0.4599 - val_accuracy: 0.8770\n",
      "Epoch 20/200\n",
      "112/112 [==============================] - 309s 3s/step - loss: 0.0269 - accuracy: 0.9936 - val_loss: 0.5172 - val_accuracy: 0.8906\n",
      "Epoch 21/200\n",
      "112/112 [==============================] - 442s 4s/step - loss: 0.0035 - accuracy: 0.9997 - val_loss: 0.5801 - val_accuracy: 0.8994\n",
      "Epoch 22/200\n",
      "112/112 [==============================] - 357s 3s/step - loss: 0.0029 - accuracy: 0.9997 - val_loss: 0.5560 - val_accuracy: 0.9072\n",
      "Epoch 23/200\n",
      "112/112 [==============================] - 385s 3s/step - loss: 0.0045 - accuracy: 0.9989 - val_loss: 0.5716 - val_accuracy: 0.9004\n",
      "Epoch 24/200\n",
      "112/112 [==============================] - 319s 3s/step - loss: 9.8051e-04 - accuracy: 1.0000 - val_loss: 0.6009 - val_accuracy: 0.9043\n",
      "Epoch 25/200\n",
      "112/112 [==============================] - 290s 3s/step - loss: 0.0014 - accuracy: 0.9997 - val_loss: 0.6603 - val_accuracy: 0.8945\n",
      "Epoch 26/200\n",
      "112/112 [==============================] - 332s 3s/step - loss: 5.1363e-04 - accuracy: 1.0000 - val_loss: 0.7167 - val_accuracy: 0.8936\n",
      "Epoch 27/200\n",
      "112/112 [==============================] - 635s 6s/step - loss: 0.0028 - accuracy: 0.9997 - val_loss: 0.7372 - val_accuracy: 0.8877\n",
      "Epoch 28/200\n",
      "112/112 [==============================] - 601s 5s/step - loss: 5.2035e-04 - accuracy: 1.0000 - val_loss: 0.6760 - val_accuracy: 0.8936\n",
      "Epoch 29/200\n",
      "112/112 [==============================] - 641s 6s/step - loss: 2.3417e-04 - accuracy: 1.0000 - val_loss: 0.7837 - val_accuracy: 0.8926\n",
      "Epoch 30/200\n",
      "112/112 [==============================] - 614s 5s/step - loss: 2.2814e-04 - accuracy: 1.0000 - val_loss: 0.6699 - val_accuracy: 0.9033\n",
      "Epoch 31/200\n",
      "112/112 [==============================] - 624s 6s/step - loss: 1.6160e-04 - accuracy: 1.0000 - val_loss: 0.7581 - val_accuracy: 0.8994\n",
      "Epoch 32/200\n",
      "112/112 [==============================] - 640s 6s/step - loss: 1.2819e-04 - accuracy: 1.0000 - val_loss: 0.7482 - val_accuracy: 0.8965\n",
      "Epoch 33/200\n",
      "112/112 [==============================] - 298s 3s/step - loss: 9.6631e-05 - accuracy: 1.0000 - val_loss: 0.6899 - val_accuracy: 0.9014\n",
      "Epoch 34/200\n",
      "112/112 [==============================] - 287s 3s/step - loss: 9.1379e-05 - accuracy: 1.0000 - val_loss: 0.7486 - val_accuracy: 0.8975\n",
      "Epoch 35/200\n",
      "112/112 [==============================] - 317s 3s/step - loss: 7.5534e-05 - accuracy: 1.0000 - val_loss: 0.8103 - val_accuracy: 0.8936\n",
      "Epoch 36/200\n",
      "112/112 [==============================] - 288s 3s/step - loss: 6.3777e-05 - accuracy: 1.0000 - val_loss: 0.8251 - val_accuracy: 0.8965\n",
      "Epoch 37/200\n",
      "112/112 [==============================] - 321s 3s/step - loss: 6.3056e-05 - accuracy: 1.0000 - val_loss: 0.7779 - val_accuracy: 0.8955\n",
      "Epoch 38/200\n",
      "112/112 [==============================] - 311s 3s/step - loss: 5.1525e-05 - accuracy: 1.0000 - val_loss: 0.7976 - val_accuracy: 0.9004\n",
      "Epoch 39/200\n",
      "112/112 [==============================] - 284s 3s/step - loss: 4.5230e-05 - accuracy: 1.0000 - val_loss: 0.8528 - val_accuracy: 0.8926\n",
      "Epoch 40/200\n",
      "112/112 [==============================] - 284s 3s/step - loss: 3.9991e-05 - accuracy: 1.0000 - val_loss: 0.7694 - val_accuracy: 0.8994\n",
      "Epoch 41/200\n",
      "112/112 [==============================] - 290s 3s/step - loss: 3.6954e-05 - accuracy: 1.0000 - val_loss: 0.8060 - val_accuracy: 0.8994\n",
      "Epoch 42/200\n",
      "112/112 [==============================] - 292s 3s/step - loss: 3.4945e-05 - accuracy: 1.0000 - val_loss: 0.7957 - val_accuracy: 0.9004\n",
      "Epoch 43/200\n",
      "112/112 [==============================] - 319s 3s/step - loss: 3.0655e-05 - accuracy: 1.0000 - val_loss: 0.8248 - val_accuracy: 0.9004\n",
      "Epoch 44/200\n",
      "112/112 [==============================] - 311s 3s/step - loss: 2.9087e-05 - accuracy: 1.0000 - val_loss: 0.9365 - val_accuracy: 0.8896\n",
      "Epoch 45/200\n",
      "112/112 [==============================] - 286s 3s/step - loss: 2.5277e-05 - accuracy: 1.0000 - val_loss: 0.9050 - val_accuracy: 0.8936\n",
      "Epoch 46/200\n",
      "112/112 [==============================] - 312s 3s/step - loss: 2.3181e-05 - accuracy: 1.0000 - val_loss: 0.9064 - val_accuracy: 0.8936\n",
      "Epoch 47/200\n",
      "112/112 [==============================] - 290s 3s/step - loss: 2.1681e-05 - accuracy: 1.0000 - val_loss: 0.9041 - val_accuracy: 0.8936\n",
      "Epoch 48/200\n",
      "112/112 [==============================] - 290s 3s/step - loss: 2.2237e-05 - accuracy: 1.0000 - val_loss: 0.9096 - val_accuracy: 0.8955\n",
      "Epoch 49/200\n",
      "112/112 [==============================] - 311s 3s/step - loss: 1.8940e-05 - accuracy: 1.0000 - val_loss: 0.9052 - val_accuracy: 0.8965\n",
      "Epoch 50/200\n",
      "112/112 [==============================] - 317s 3s/step - loss: 1.6994e-05 - accuracy: 1.0000 - val_loss: 0.9225 - val_accuracy: 0.8984\n",
      "Epoch 51/200\n",
      "112/112 [==============================] - 286s 3s/step - loss: 1.6080e-05 - accuracy: 1.0000 - val_loss: 0.9619 - val_accuracy: 0.8945\n",
      "Epoch 52/200\n",
      "112/112 [==============================] - 285s 3s/step - loss: 1.5362e-05 - accuracy: 1.0000 - val_loss: 0.8832 - val_accuracy: 0.9023\n",
      "Epoch 53/200\n",
      "112/112 [==============================] - 296s 3s/step - loss: 1.3093e-05 - accuracy: 1.0000 - val_loss: 0.9336 - val_accuracy: 0.8955\n",
      "Epoch 54/200\n",
      "112/112 [==============================] - 290s 3s/step - loss: 1.2176e-05 - accuracy: 1.0000 - val_loss: 0.9084 - val_accuracy: 0.9004\n",
      "Epoch 55/200\n",
      "112/112 [==============================] - 287s 3s/step - loss: 1.1336e-05 - accuracy: 1.0000 - val_loss: 0.9722 - val_accuracy: 0.8955\n",
      "Epoch 56/200\n",
      "112/112 [==============================] - 292s 3s/step - loss: 1.1721e-05 - accuracy: 1.0000 - val_loss: 0.9734 - val_accuracy: 0.8945\n"
     ]
    },
    {
     "name": "stdout",
     "output_type": "stream",
     "text": [
      "Epoch 57/200\n",
      "112/112 [==============================] - 289s 3s/step - loss: 1.0249e-05 - accuracy: 1.0000 - val_loss: 0.9877 - val_accuracy: 0.8975\n",
      "Epoch 58/200\n",
      "112/112 [==============================] - 313s 3s/step - loss: 8.8979e-06 - accuracy: 1.0000 - val_loss: 0.9134 - val_accuracy: 0.9014\n",
      "Epoch 59/200\n",
      "112/112 [==============================] - 287s 3s/step - loss: 9.2999e-06 - accuracy: 1.0000 - val_loss: 0.8930 - val_accuracy: 0.9033\n",
      "Epoch 60/200\n",
      "112/112 [==============================] - 315s 3s/step - loss: 8.1154e-06 - accuracy: 1.0000 - val_loss: 0.9382 - val_accuracy: 0.9023\n",
      "Epoch 61/200\n",
      "112/112 [==============================] - 314s 3s/step - loss: 7.4335e-06 - accuracy: 1.0000 - val_loss: 1.0108 - val_accuracy: 0.9014\n",
      "Epoch 62/200\n",
      "112/112 [==============================] - 291s 3s/step - loss: 6.9736e-06 - accuracy: 1.0000 - val_loss: 0.9539 - val_accuracy: 0.9004\n",
      "Epoch 63/200\n",
      "112/112 [==============================] - 291s 3s/step - loss: 6.5695e-06 - accuracy: 1.0000 - val_loss: 0.9643 - val_accuracy: 0.8984\n",
      "Epoch 64/200\n",
      "112/112 [==============================] - 284s 3s/step - loss: 6.2933e-06 - accuracy: 1.0000 - val_loss: 0.8686 - val_accuracy: 0.9033\n",
      "Epoch 65/200\n",
      "112/112 [==============================] - 293s 3s/step - loss: 5.7699e-06 - accuracy: 1.0000 - val_loss: 0.9931 - val_accuracy: 0.8984\n",
      "Epoch 66/200\n",
      "112/112 [==============================] - 285s 3s/step - loss: 5.2874e-06 - accuracy: 1.0000 - val_loss: 0.8685 - val_accuracy: 0.9004\n",
      "Epoch 67/200\n",
      "112/112 [==============================] - 287s 3s/step - loss: 5.0456e-06 - accuracy: 1.0000 - val_loss: 0.9981 - val_accuracy: 0.9023\n",
      "Epoch 68/200\n",
      "112/112 [==============================] - 293s 3s/step - loss: 4.6571e-06 - accuracy: 1.0000 - val_loss: 1.0641 - val_accuracy: 0.8965\n",
      "Epoch 69/200\n",
      "112/112 [==============================] - 290s 3s/step - loss: 4.6340e-06 - accuracy: 1.0000 - val_loss: 1.0677 - val_accuracy: 0.8936\n",
      "Epoch 70/200\n",
      "112/112 [==============================] - 315s 3s/step - loss: 4.3664e-06 - accuracy: 1.0000 - val_loss: 1.0250 - val_accuracy: 0.8965\n",
      "Epoch 71/200\n",
      "112/112 [==============================] - 287s 3s/step - loss: 3.8048e-06 - accuracy: 1.0000 - val_loss: 1.0854 - val_accuracy: 0.8965\n",
      "Epoch 72/200\n",
      "112/112 [==============================] - 288s 3s/step - loss: 3.5525e-06 - accuracy: 1.0000 - val_loss: 1.0945 - val_accuracy: 0.8926\n",
      "Epoch 73/200\n",
      "112/112 [==============================] - 312s 3s/step - loss: 3.6254e-05 - accuracy: 1.0000 - val_loss: 1.1643 - val_accuracy: 0.8867\n",
      "Epoch 74/200\n",
      "112/112 [==============================] - 283s 3s/step - loss: 0.5011 - accuracy: 0.7748 - val_loss: 0.4379 - val_accuracy: 0.8125\n",
      "Epoch 75/200\n",
      "112/112 [==============================] - 313s 3s/step - loss: 0.2269 - accuracy: 0.9074 - val_loss: 0.4672 - val_accuracy: 0.8486\n",
      "Epoch 76/200\n",
      "112/112 [==============================] - 282s 3s/step - loss: 0.0726 - accuracy: 0.9749 - val_loss: 0.5837 - val_accuracy: 0.8721\n",
      "Epoch 77/200\n",
      "112/112 [==============================] - 288s 3s/step - loss: 0.0271 - accuracy: 0.9916 - val_loss: 0.8088 - val_accuracy: 0.8682\n",
      "Epoch 78/200\n",
      "112/112 [==============================] - 282s 3s/step - loss: 0.0277 - accuracy: 0.9908 - val_loss: 0.6429 - val_accuracy: 0.8857\n",
      "Epoch 79/200\n",
      "112/112 [==============================] - 304s 3s/step - loss: 0.0130 - accuracy: 0.9969 - val_loss: 0.8802 - val_accuracy: 0.8760\n",
      "Epoch 80/200\n",
      "112/112 [==============================] - 285s 3s/step - loss: 0.0101 - accuracy: 0.9972 - val_loss: 1.2456 - val_accuracy: 0.8662\n",
      "Epoch 81/200\n",
      "112/112 [==============================] - 296s 3s/step - loss: 0.0297 - accuracy: 0.9905 - val_loss: 0.8653 - val_accuracy: 0.8711\n",
      "Epoch 82/200\n",
      "112/112 [==============================] - 310s 3s/step - loss: 0.0047 - accuracy: 0.9992 - val_loss: 0.8368 - val_accuracy: 0.8760\n",
      "Epoch 83/200\n",
      "112/112 [==============================] - 286s 3s/step - loss: 0.0044 - accuracy: 0.9989 - val_loss: 1.0380 - val_accuracy: 0.8740\n",
      "Epoch 84/200\n",
      "112/112 [==============================] - 284s 3s/step - loss: 0.0111 - accuracy: 0.9978 - val_loss: 0.8944 - val_accuracy: 0.8672\n",
      "Epoch 85/200\n",
      "112/112 [==============================] - 312s 3s/step - loss: 0.0165 - accuracy: 0.9969 - val_loss: 1.0442 - val_accuracy: 0.8604\n",
      "Epoch 86/200\n",
      "112/112 [==============================] - 308s 3s/step - loss: 0.0122 - accuracy: 0.9967 - val_loss: 0.7541 - val_accuracy: 0.8604\n",
      "Epoch 87/200\n",
      "112/112 [==============================] - 285s 3s/step - loss: 0.0028 - accuracy: 0.9997 - val_loss: 0.9403 - val_accuracy: 0.8779\n",
      "Epoch 88/200\n",
      "112/112 [==============================] - 310s 3s/step - loss: 7.1112e-04 - accuracy: 1.0000 - val_loss: 0.9671 - val_accuracy: 0.8809\n",
      "Epoch 89/200\n",
      "112/112 [==============================] - 286s 3s/step - loss: 0.0010 - accuracy: 0.9997 - val_loss: 1.0491 - val_accuracy: 0.8613\n",
      "Epoch 90/200\n",
      "112/112 [==============================] - 284s 3s/step - loss: 4.5096e-04 - accuracy: 1.0000 - val_loss: 1.1380 - val_accuracy: 0.8799\n",
      "Epoch 91/200\n",
      "112/112 [==============================] - 283s 3s/step - loss: 1.7076e-04 - accuracy: 1.0000 - val_loss: 1.2061 - val_accuracy: 0.8799\n",
      "Epoch 92/200\n",
      "112/112 [==============================] - 287s 3s/step - loss: 1.1751e-04 - accuracy: 1.0000 - val_loss: 1.1208 - val_accuracy: 0.8857\n",
      "Epoch 93/200\n",
      "112/112 [==============================] - 285s 3s/step - loss: 1.2530e-04 - accuracy: 1.0000 - val_loss: 1.1590 - val_accuracy: 0.8818\n",
      "Epoch 94/200\n",
      "112/112 [==============================] - 312s 3s/step - loss: 9.1527e-05 - accuracy: 1.0000 - val_loss: 1.1006 - val_accuracy: 0.8867\n",
      "Epoch 95/200\n",
      "112/112 [==============================] - 310s 3s/step - loss: 1.1206e-04 - accuracy: 1.0000 - val_loss: 1.0755 - val_accuracy: 0.8818\n",
      "Epoch 96/200\n",
      "112/112 [==============================] - 310s 3s/step - loss: 2.2459e-04 - accuracy: 1.0000 - val_loss: 1.2346 - val_accuracy: 0.8818\n",
      "Epoch 97/200\n",
      "112/112 [==============================] - 287s 3s/step - loss: 0.0020 - accuracy: 0.9997 - val_loss: 1.0766 - val_accuracy: 0.8896\n",
      "Epoch 98/200\n",
      "112/112 [==============================] - 284s 3s/step - loss: 0.0992 - accuracy: 0.9715 - val_loss: 0.7032 - val_accuracy: 0.8555\n",
      "Epoch 99/200\n",
      "112/112 [==============================] - 312s 3s/step - loss: 0.0105 - accuracy: 0.9967 - val_loss: 0.8528 - val_accuracy: 0.8721\n",
      "Epoch 100/200\n",
      "112/112 [==============================] - 285s 3s/step - loss: 0.0015 - accuracy: 0.9997 - val_loss: 0.8916 - val_accuracy: 0.8770\n",
      "Epoch 101/200\n",
      "112/112 [==============================] - 287s 3s/step - loss: 4.0680e-04 - accuracy: 1.0000 - val_loss: 0.8731 - val_accuracy: 0.8828\n",
      "Epoch 102/200\n",
      "112/112 [==============================] - 284s 3s/step - loss: 1.7778e-04 - accuracy: 1.0000 - val_loss: 0.9020 - val_accuracy: 0.8838\n",
      "Epoch 103/200\n",
      "112/112 [==============================] - 308s 3s/step - loss: 1.7826e-04 - accuracy: 1.0000 - val_loss: 0.9794 - val_accuracy: 0.8750\n",
      "Epoch 104/200\n",
      "112/112 [==============================] - 282s 3s/step - loss: 1.2360e-04 - accuracy: 1.0000 - val_loss: 0.9692 - val_accuracy: 0.8789\n",
      "Epoch 105/200\n",
      "112/112 [==============================] - 287s 3s/step - loss: 8.1332e-05 - accuracy: 1.0000 - val_loss: 0.9789 - val_accuracy: 0.8779\n",
      "Epoch 106/200\n",
      "112/112 [==============================] - 289s 3s/step - loss: 6.8401e-05 - accuracy: 1.0000 - val_loss: 0.9681 - val_accuracy: 0.8828\n",
      "Epoch 107/200\n",
      "112/112 [==============================] - 312s 3s/step - loss: 9.1050e-05 - accuracy: 1.0000 - val_loss: 0.9530 - val_accuracy: 0.8848\n",
      "Epoch 108/200\n",
      "112/112 [==============================] - 286s 3s/step - loss: 4.4493e-05 - accuracy: 1.0000 - val_loss: 0.9333 - val_accuracy: 0.8809\n",
      "Epoch 109/200\n",
      "112/112 [==============================] - 288s 3s/step - loss: 3.9343e-05 - accuracy: 1.0000 - val_loss: 1.0229 - val_accuracy: 0.8848\n",
      "Epoch 110/200\n",
      "112/112 [==============================] - 285s 3s/step - loss: 3.1908e-05 - accuracy: 1.0000 - val_loss: 1.2061 - val_accuracy: 0.8721\n",
      "Epoch 111/200\n",
      "112/112 [==============================] - 308s 3s/step - loss: 3.1798e-05 - accuracy: 1.0000 - val_loss: 1.1260 - val_accuracy: 0.8711\n",
      "Epoch 112/200\n"
     ]
    },
    {
     "name": "stdout",
     "output_type": "stream",
     "text": [
      "112/112 [==============================] - 285s 3s/step - loss: 2.5084e-05 - accuracy: 1.0000 - val_loss: 1.1122 - val_accuracy: 0.8809\n",
      "Epoch 113/200\n",
      "112/112 [==============================] - 313s 3s/step - loss: 2.1768e-05 - accuracy: 1.0000 - val_loss: 1.0557 - val_accuracy: 0.8789\n",
      "Epoch 114/200\n",
      "112/112 [==============================] - 286s 3s/step - loss: 1.8556e-05 - accuracy: 1.0000 - val_loss: 1.0034 - val_accuracy: 0.8828\n",
      "Epoch 115/200\n",
      "112/112 [==============================] - 285s 3s/step - loss: 1.6815e-05 - accuracy: 1.0000 - val_loss: 1.0036 - val_accuracy: 0.8867\n",
      "Epoch 116/200\n",
      "112/112 [==============================] - 283s 3s/step - loss: 1.5871e-05 - accuracy: 1.0000 - val_loss: 0.9824 - val_accuracy: 0.8857\n",
      "Epoch 117/200\n",
      "112/112 [==============================] - 283s 3s/step - loss: 1.5961e-05 - accuracy: 1.0000 - val_loss: 1.0483 - val_accuracy: 0.8818\n",
      "Epoch 118/200\n",
      "112/112 [==============================] - 286s 3s/step - loss: 1.2769e-05 - accuracy: 1.0000 - val_loss: 1.1035 - val_accuracy: 0.8818\n",
      "Epoch 119/200\n",
      "112/112 [==============================] - 283s 3s/step - loss: 1.1413e-05 - accuracy: 1.0000 - val_loss: 1.1429 - val_accuracy: 0.8848\n",
      "Epoch 120/200\n",
      "112/112 [==============================] - 310s 3s/step - loss: 1.0390e-05 - accuracy: 1.0000 - val_loss: 1.0274 - val_accuracy: 0.8887\n",
      "Epoch 121/200\n",
      "112/112 [==============================] - 282s 3s/step - loss: 9.1536e-06 - accuracy: 1.0000 - val_loss: 1.1081 - val_accuracy: 0.8799\n",
      "Epoch 122/200\n",
      "112/112 [==============================] - 285s 3s/step - loss: 8.4170e-06 - accuracy: 1.0000 - val_loss: 1.1303 - val_accuracy: 0.8838\n",
      "Epoch 123/200\n",
      "112/112 [==============================] - 312s 3s/step - loss: 9.6526e-06 - accuracy: 1.0000 - val_loss: 1.1544 - val_accuracy: 0.8779\n",
      "Epoch 124/200\n",
      "112/112 [==============================] - 284s 3s/step - loss: 7.5789e-06 - accuracy: 1.0000 - val_loss: 1.1590 - val_accuracy: 0.8809\n",
      "Epoch 125/200\n",
      "112/112 [==============================] - 286s 3s/step - loss: 7.6162e-06 - accuracy: 1.0000 - val_loss: 1.1208 - val_accuracy: 0.8838\n",
      "Epoch 126/200\n",
      "112/112 [==============================] - 286s 3s/step - loss: 6.3624e-06 - accuracy: 1.0000 - val_loss: 1.1582 - val_accuracy: 0.8848\n",
      "Epoch 127/200\n",
      "112/112 [==============================] - 284s 3s/step - loss: 6.8836e-06 - accuracy: 1.0000 - val_loss: 1.2149 - val_accuracy: 0.8779\n",
      "Epoch 128/200\n",
      "112/112 [==============================] - 286s 3s/step - loss: 5.9377e-06 - accuracy: 1.0000 - val_loss: 1.0605 - val_accuracy: 0.8848\n",
      "Epoch 129/200\n",
      "112/112 [==============================] - 283s 3s/step - loss: 4.9765e-06 - accuracy: 1.0000 - val_loss: 1.3239 - val_accuracy: 0.8691\n",
      "Epoch 130/200\n",
      "112/112 [==============================] - 284s 3s/step - loss: 4.5830e-06 - accuracy: 1.0000 - val_loss: 1.2689 - val_accuracy: 0.8760\n",
      "Epoch 131/200\n",
      "112/112 [==============================] - 283s 3s/step - loss: 4.3723e-06 - accuracy: 1.0000 - val_loss: 1.1482 - val_accuracy: 0.8838\n",
      "Epoch 132/200\n",
      "112/112 [==============================] - 287s 3s/step - loss: 4.0885e-06 - accuracy: 1.0000 - val_loss: 1.2416 - val_accuracy: 0.8779\n",
      "Epoch 133/200\n",
      "112/112 [==============================] - 285s 3s/step - loss: 3.8820e-06 - accuracy: 1.0000 - val_loss: 1.2328 - val_accuracy: 0.8789\n",
      "Epoch 134/200\n",
      "112/112 [==============================] - 314s 3s/step - loss: 3.6976e-06 - accuracy: 1.0000 - val_loss: 1.2090 - val_accuracy: 0.8779\n",
      "Epoch 135/200\n",
      "112/112 [==============================] - 284s 3s/step - loss: 3.2052e-06 - accuracy: 1.0000 - val_loss: 1.1275 - val_accuracy: 0.8809\n",
      "Epoch 136/200\n",
      "112/112 [==============================] - 286s 3s/step - loss: 3.1069e-06 - accuracy: 1.0000 - val_loss: 1.2640 - val_accuracy: 0.8779\n",
      "Epoch 137/200\n",
      "112/112 [==============================] - 285s 3s/step - loss: 2.8273e-06 - accuracy: 1.0000 - val_loss: 1.2701 - val_accuracy: 0.8711\n",
      "Epoch 138/200\n",
      "112/112 [==============================] - 285s 3s/step - loss: 2.7361e-06 - accuracy: 1.0000 - val_loss: 1.1730 - val_accuracy: 0.8838\n",
      "Epoch 139/200\n",
      "112/112 [==============================] - 290s 3s/step - loss: 2.4777e-06 - accuracy: 1.0000 - val_loss: 1.2603 - val_accuracy: 0.8828\n",
      "Epoch 140/200\n",
      "112/112 [==============================] - 286s 3s/step - loss: 2.3088e-06 - accuracy: 1.0000 - val_loss: 1.2012 - val_accuracy: 0.8799\n",
      "Epoch 141/200\n",
      "112/112 [==============================] - 285s 3s/step - loss: 2.2396e-06 - accuracy: 1.0000 - val_loss: 1.2453 - val_accuracy: 0.8779\n",
      "Epoch 142/200\n",
      "112/112 [==============================] - 283s 3s/step - loss: 2.0705e-06 - accuracy: 1.0000 - val_loss: 1.1770 - val_accuracy: 0.8828\n",
      "Epoch 143/200\n",
      "112/112 [==============================] - 285s 3s/step - loss: 2.4243e-06 - accuracy: 1.0000 - val_loss: 1.2204 - val_accuracy: 0.8789\n",
      "Epoch 144/200\n",
      "112/112 [==============================] - 283s 3s/step - loss: 1.8207e-06 - accuracy: 1.0000 - val_loss: 1.2268 - val_accuracy: 0.8838\n",
      "Epoch 145/200\n",
      "112/112 [==============================] - 285s 3s/step - loss: 1.7128e-06 - accuracy: 1.0000 - val_loss: 1.2530 - val_accuracy: 0.8877\n",
      "Epoch 146/200\n",
      "112/112 [==============================] - 285s 3s/step - loss: 1.7641e-06 - accuracy: 1.0000 - val_loss: 1.3087 - val_accuracy: 0.8799\n",
      "Epoch 147/200\n",
      "112/112 [==============================] - 285s 3s/step - loss: 1.8278e-06 - accuracy: 1.0000 - val_loss: 1.3440 - val_accuracy: 0.8779\n",
      "Epoch 148/200\n",
      "112/112 [==============================] - 284s 3s/step - loss: 1.4029e-06 - accuracy: 1.0000 - val_loss: 1.3776 - val_accuracy: 0.8770\n",
      "Epoch 149/200\n",
      "112/112 [==============================] - 285s 3s/step - loss: 1.2842e-06 - accuracy: 1.0000 - val_loss: 1.3242 - val_accuracy: 0.8779\n",
      "Epoch 150/200\n",
      "112/112 [==============================] - 286s 3s/step - loss: 1.1694e-06 - accuracy: 1.0000 - val_loss: 1.2636 - val_accuracy: 0.8779\n",
      "Epoch 151/200\n",
      "112/112 [==============================] - 290s 3s/step - loss: 1.0720e-06 - accuracy: 1.0000 - val_loss: 1.3675 - val_accuracy: 0.8770\n",
      "Epoch 152/200\n",
      "112/112 [==============================] - 311s 3s/step - loss: 1.0557e-06 - accuracy: 1.0000 - val_loss: 1.2866 - val_accuracy: 0.8838\n",
      "Epoch 153/200\n",
      "112/112 [==============================] - 287s 3s/step - loss: 1.0563e-06 - accuracy: 1.0000 - val_loss: 1.2685 - val_accuracy: 0.8857\n",
      "Epoch 154/200\n",
      "112/112 [==============================] - 317s 3s/step - loss: 9.7327e-07 - accuracy: 1.0000 - val_loss: 1.3121 - val_accuracy: 0.8828\n",
      "Epoch 155/200\n",
      "112/112 [==============================] - 310s 3s/step - loss: 9.1366e-07 - accuracy: 1.0000 - val_loss: 1.3826 - val_accuracy: 0.8750\n",
      "Epoch 156/200\n",
      "112/112 [==============================] - 289s 3s/step - loss: 8.3357e-07 - accuracy: 1.0000 - val_loss: 1.3499 - val_accuracy: 0.8818\n",
      "Epoch 157/200\n",
      "112/112 [==============================] - 10332s 93s/step - loss: 7.6677e-07 - accuracy: 1.0000 - val_loss: 1.3486 - val_accuracy: 0.8799\n",
      "Epoch 158/200\n",
      "112/112 [==============================] - 315s 3s/step - loss: 7.3019e-07 - accuracy: 1.0000 - val_loss: 1.3439 - val_accuracy: 0.8779\n",
      "Epoch 159/200\n",
      "112/112 [==============================] - 375s 3s/step - loss: 9.1366e-07 - accuracy: 1.0000 - val_loss: 1.2168 - val_accuracy: 0.8828\n",
      "Epoch 160/200\n",
      "112/112 [==============================] - 318s 3s/step - loss: 6.6878e-07 - accuracy: 1.0000 - val_loss: 1.3446 - val_accuracy: 0.8828\n",
      "Epoch 161/200\n",
      "112/112 [==============================] - 299s 3s/step - loss: 6.6654e-07 - accuracy: 1.0000 - val_loss: 1.3459 - val_accuracy: 0.8896\n",
      "Epoch 162/200\n",
      "112/112 [==============================] - 334s 3s/step - loss: 5.3929e-07 - accuracy: 1.0000 - val_loss: 1.3598 - val_accuracy: 0.8789\n",
      "Epoch 163/200\n",
      "112/112 [==============================] - 380s 3s/step - loss: 5.3907e-07 - accuracy: 1.0000 - val_loss: 1.3827 - val_accuracy: 0.8779\n",
      "Epoch 164/200\n",
      "112/112 [==============================] - 334s 3s/step - loss: 4.6788e-07 - accuracy: 1.0000 - val_loss: 1.3714 - val_accuracy: 0.8779\n",
      "Epoch 165/200\n",
      "112/112 [==============================] - 313s 3s/step - loss: 4.2162e-07 - accuracy: 1.0000 - val_loss: 1.3393 - val_accuracy: 0.8799\n",
      "Epoch 166/200\n"
     ]
    },
    {
     "name": "stdout",
     "output_type": "stream",
     "text": [
      "112/112 [==============================] - 412s 4s/step - loss: 4.1386e-07 - accuracy: 1.0000 - val_loss: 1.3144 - val_accuracy: 0.8818\n",
      "Epoch 167/200\n",
      "112/112 [==============================] - 319s 3s/step - loss: 4.0820e-07 - accuracy: 1.0000 - val_loss: 1.4158 - val_accuracy: 0.8770\n",
      "Epoch 168/200\n",
      "112/112 [==============================] - 298s 3s/step - loss: 3.6714e-07 - accuracy: 1.0000 - val_loss: 1.2819 - val_accuracy: 0.8877\n",
      "Epoch 169/200\n",
      "112/112 [==============================] - 319s 3s/step - loss: 4.2735e-07 - accuracy: 1.0000 - val_loss: 1.5230 - val_accuracy: 0.8760\n",
      "Epoch 170/200\n",
      "112/112 [==============================] - 318s 3s/step - loss: 3.3245e-07 - accuracy: 1.0000 - val_loss: 1.3724 - val_accuracy: 0.8809\n",
      "Epoch 171/200\n",
      "112/112 [==============================] - 291s 3s/step - loss: 3.1091e-07 - accuracy: 1.0000 - val_loss: 1.4225 - val_accuracy: 0.8809\n",
      "Epoch 172/200\n",
      "112/112 [==============================] - 441s 4s/step - loss: 3.1539e-07 - accuracy: 1.0000 - val_loss: 1.3366 - val_accuracy: 0.8789\n",
      "Epoch 173/200\n",
      "112/112 [==============================] - 346s 3s/step - loss: 2.6921e-07 - accuracy: 1.0000 - val_loss: 1.3935 - val_accuracy: 0.8828\n",
      "Epoch 174/200\n",
      "112/112 [==============================] - 396s 4s/step - loss: 2.5784e-07 - accuracy: 1.0000 - val_loss: 1.4825 - val_accuracy: 0.8760\n",
      "Epoch 175/200\n",
      "112/112 [==============================] - 402s 4s/step - loss: 2.8503e-07 - accuracy: 1.0000 - val_loss: 1.3383 - val_accuracy: 0.8867\n",
      "Epoch 176/200\n",
      "112/112 [==============================] - 423s 4s/step - loss: 2.3614e-07 - accuracy: 1.0000 - val_loss: 1.4677 - val_accuracy: 0.8770\n",
      "Epoch 177/200\n",
      "112/112 [==============================] - 404s 4s/step - loss: 2.4910e-07 - accuracy: 1.0000 - val_loss: 1.4446 - val_accuracy: 0.8799\n",
      "Epoch 178/200\n",
      "112/112 [==============================] - 494s 4s/step - loss: 2.1365e-07 - accuracy: 1.0000 - val_loss: 1.4149 - val_accuracy: 0.8828\n",
      "Epoch 179/200\n",
      "112/112 [==============================] - 330s 3s/step - loss: 2.1338e-07 - accuracy: 1.0000 - val_loss: 1.4215 - val_accuracy: 0.8828\n",
      "Epoch 180/200\n",
      "112/112 [==============================] - 241s 2s/step - loss: 1.8531e-07 - accuracy: 1.0000 - val_loss: 1.3382 - val_accuracy: 0.8848\n",
      "Epoch 181/200\n",
      "112/112 [==============================] - 236s 2s/step - loss: 1.7274e-07 - accuracy: 1.0000 - val_loss: 1.4033 - val_accuracy: 0.8799\n",
      "Epoch 182/200\n",
      "112/112 [==============================] - 269s 2s/step - loss: 1.5348e-07 - accuracy: 1.0000 - val_loss: 1.4017 - val_accuracy: 0.8838\n",
      "Epoch 183/200\n",
      "112/112 [==============================] - 235s 2s/step - loss: 1.5694e-07 - accuracy: 1.0000 - val_loss: 1.4424 - val_accuracy: 0.8906\n",
      "Epoch 184/200\n",
      "112/112 [==============================] - 234s 2s/step - loss: 1.4283e-07 - accuracy: 1.0000 - val_loss: 1.3984 - val_accuracy: 0.8848\n",
      "Epoch 185/200\n",
      "112/112 [==============================] - 234s 2s/step - loss: 1.3619e-07 - accuracy: 1.0000 - val_loss: 1.4595 - val_accuracy: 0.8857\n",
      "Epoch 186/200\n",
      "112/112 [==============================] - 273s 2s/step - loss: 1.2427e-07 - accuracy: 1.0000 - val_loss: 1.5095 - val_accuracy: 0.8838\n",
      "Epoch 187/200\n",
      "112/112 [==============================] - 290s 3s/step - loss: 1.1718e-07 - accuracy: 1.0000 - val_loss: 1.3759 - val_accuracy: 0.8867\n",
      "Epoch 188/200\n",
      "112/112 [==============================] - 274s 2s/step - loss: 1.1279e-07 - accuracy: 1.0000 - val_loss: 1.4596 - val_accuracy: 0.8867\n",
      "Epoch 189/200\n",
      "112/112 [==============================] - 253s 2s/step - loss: 1.0078e-07 - accuracy: 1.0000 - val_loss: 1.4939 - val_accuracy: 0.8867\n",
      "Epoch 190/200\n",
      "112/112 [==============================] - 239s 2s/step - loss: 9.6263e-08 - accuracy: 1.0000 - val_loss: 1.4038 - val_accuracy: 0.8887\n",
      "Epoch 191/200\n",
      "112/112 [==============================] - 278s 2s/step - loss: 9.0052e-08 - accuracy: 1.0000 - val_loss: 1.6233 - val_accuracy: 0.8750\n",
      "Epoch 192/200\n",
      "112/112 [==============================] - 230s 2s/step - loss: 1.0210e-07 - accuracy: 1.0000 - val_loss: 1.4456 - val_accuracy: 0.8848\n",
      "Epoch 193/200\n",
      "112/112 [==============================] - 237s 2s/step - loss: 9.3658e-08 - accuracy: 1.0000 - val_loss: 1.5467 - val_accuracy: 0.8809\n",
      "Epoch 194/200\n",
      "112/112 [==============================] - 231s 2s/step - loss: 7.9779e-08 - accuracy: 1.0000 - val_loss: 1.4428 - val_accuracy: 0.8809\n",
      "Epoch 195/200\n",
      "112/112 [==============================] - 232s 2s/step - loss: 7.0477e-08 - accuracy: 1.0000 - val_loss: 1.5387 - val_accuracy: 0.8818\n",
      "Epoch 196/200\n",
      "112/112 [==============================] - 232s 2s/step - loss: 7.1887e-08 - accuracy: 1.0000 - val_loss: 1.5149 - val_accuracy: 0.8828\n",
      "Epoch 197/200\n",
      "112/112 [==============================] - 237s 2s/step - loss: 6.8975e-08 - accuracy: 1.0000 - val_loss: 1.6443 - val_accuracy: 0.8809\n",
      "Epoch 198/200\n",
      "112/112 [==============================] - 277s 2s/step - loss: 6.0253e-08 - accuracy: 1.0000 - val_loss: 1.5521 - val_accuracy: 0.8750\n",
      "Epoch 199/200\n",
      "112/112 [==============================] - 296s 3s/step - loss: 5.6408e-08 - accuracy: 1.0000 - val_loss: 1.5601 - val_accuracy: 0.8857\n",
      "Epoch 200/200\n",
      "112/112 [==============================] - 275s 2s/step - loss: 5.4446e-08 - accuracy: 1.0000 - val_loss: 1.6129 - val_accuracy: 0.8857\n"
     ]
    }
   ],
   "source": [
    "hist = model.fit(train, epochs=200, validation_data=val, callbacks=[tensorboard_callback])"
   ]
  },
  {
   "cell_type": "markdown",
   "metadata": {},
   "source": [
    "# 8. Plot Performance"
   ]
  },
  {
   "cell_type": "code",
   "execution_count": 28,
   "metadata": {},
   "outputs": [
    {
     "name": "stdout",
     "output_type": "stream",
     "text": [
      "160/160 [==============================] - 108s 661ms/step\n"
     ]
    },
    {
     "data": {
      "image/png": "[encoded data removed]",
      "text/plain": [
       "<Figure size 576x576 with 2 Axes>"
      ]
     },
     "metadata": {
      "needs_background": "light"
     },
     "output_type": "display_data"
    }
   ],
   "source": [
    "# %pip install seaborn \n",
    "\n",
    "import pandas as pd\n",
    "import seaborn as sns\n",
    "\n",
    "classes =[\"family\", \"others\"] \n",
    "y_true = np.concatenate([y for x, y in data], axis=0) \n",
    "y_pred = model.predict(data)\n",
    "\n",
    "con_mat = tf.math.confusion_matrix(labels=y_true, predictions=y_pred).numpy()\n",
    "\n",
    "con_mat_norm = np.around(con_mat.astype('float') / con_mat.sum(axis=1)[:, np.newaxis], decimals=2)\n",
    "\n",
    "con_mat_df = pd.DataFrame(con_mat_norm,\n",
    "                     index = classes, \n",
    "                     columns = classes)\n",
    "\n",
    "\n",
    "figure = plt.figure(figsize=(8, 8))\n",
    "sns.heatmap(con_mat_df, annot=True,cmap=plt.cm.Blues)\n",
    "plt.tight_layout()\n",
    "plt.ylabel('True label')\n",
    "plt.xlabel('Predicted label')\n",
    "plt.show()"
   ]
  },
  {
   "cell_type": "code",
   "execution_count": 29,
   "metadata": {},
   "outputs": [
    {
     "data": {
      "image/png": "[encoded data removed]",
      "text/plain": [
       "<Figure size 432x288 with 1 Axes>"
      ]
     },
     "metadata": {
      "needs_background": "light"
     },
     "output_type": "display_data"
    }
   ],
   "source": [
    "fig = plt.figure()\n",
    "plt.plot(hist.history['loss'], color='teal', label='loss')\n",
    "plt.plot(hist.history['val_loss'], color='orange', label='val_loss')\n",
    "fig.suptitle('Loss', fontsize=20)\n",
    "plt.legend(loc=\"upper left\")\n",
    "plt.show()"
   ]
  },
  {
   "cell_type": "code",
   "execution_count": 30,
   "metadata": {},
   "outputs": [
    {
     "data": {
      "image/png": "[encoded data removed]",
      "text/plain": [
       "<Figure size 432x288 with 1 Axes>"
      ]
     },
     "metadata": {
      "needs_background": "light"
     },
     "output_type": "display_data"
    }
   ],
   "source": [
    "fig = plt.figure()\n",
    "plt.plot(hist.history['accuracy'], color='teal', label='accuracy')\n",
    "plt.plot(hist.history['val_accuracy'], color='orange', label='val_accuracy')\n",
    "fig.suptitle('Accuracy', fontsize=20)\n",
    "plt.legend(loc=\"upper left\")\n",
    "plt.show()"
   ]
  },
  {
   "cell_type": "markdown",
   "metadata": {},
   "source": [
    "# 9. Evaluate"
   ]
  },
  {
   "cell_type": "code",
   "execution_count": 31,
   "metadata": {},
   "outputs": [],
   "source": [
    "from tensorflow.keras.metrics import Precision, Recall, BinaryAccuracy"
   ]
  },
  {
   "cell_type": "code",
   "execution_count": 32,
   "metadata": {},
   "outputs": [],
   "source": [
    "pre = Precision()\n",
    "re = Recall()\n",
    "acc = BinaryAccuracy()"
   ]
  },
  {
   "cell_type": "code",
   "execution_count": 33,
   "metadata": {},
   "outputs": [
    {
     "name": "stdout",
     "output_type": "stream",
     "text": [
      "1/1 [==============================] - 1s 1s/step\n",
      "1/1 [==============================] - 1s 747ms/step\n",
      "1/1 [==============================] - 1s 733ms/step\n",
      "1/1 [==============================] - 1s 633ms/step\n",
      "1/1 [==============================] - 1s 622ms/step\n",
      "1/1 [==============================] - 1s 550ms/step\n",
      "1/1 [==============================] - 1s 539ms/step\n",
      "1/1 [==============================] - 1s 563ms/step\n",
      "1/1 [==============================] - 1s 551ms/step\n",
      "1/1 [==============================] - 1s 535ms/step\n",
      "1/1 [==============================] - 1s 555ms/step\n",
      "1/1 [==============================] - 1s 534ms/step\n",
      "1/1 [==============================] - 1s 533ms/step\n",
      "1/1 [==============================] - 1s 565ms/step\n",
      "1/1 [==============================] - 1s 537ms/step\n",
      "1/1 [==============================] - 1s 649ms/step\n"
     ]
    }
   ],
   "source": [
    "for batch in test.as_numpy_iterator(): \n",
    "    X, y = batch\n",
    "    yhat = model.predict(X)\n",
    "    pre.update_state(y, yhat)\n",
    "    re.update_state(y, yhat)\n",
    "    acc.update_state(y, yhat)"
   ]
  },
  {
   "cell_type": "code",
   "execution_count": 34,
   "metadata": {},
   "outputs": [
    {
     "name": "stdout",
     "output_type": "stream",
     "text": [
      "tf.Tensor(0.85393256, shape=(), dtype=float32) tf.Tensor(0.8, shape=(), dtype=float32) tf.Tensor(0.8747554, shape=(), dtype=float32)\n"
     ]
    }
   ],
   "source": [
    "print(pre.result(), re.result(), acc.result())"
   ]
  },
  {
   "cell_type": "markdown",
   "metadata": {},
   "source": [
    "# 10. Test"
   ]
  },
  {
   "cell_type": "code",
   "execution_count": 35,
   "metadata": {},
   "outputs": [],
   "source": [
    "import cv2"
   ]
  },
  {
   "cell_type": "code",
   "execution_count": 1,
   "metadata": {},
   "outputs": [
    {
     "ename": "NameError",
     "evalue": "name 'cv2' is not defined",
     "output_type": "error",
     "traceback": [
      "\u001b[1;31m---------------------------------------------------------------------------\u001b[0m",
      "\u001b[1;31mNameError\u001b[0m                                 Traceback (most recent call last)",
      "\u001b[1;32mi:\\College\\image-classifier\\plots.ipynb Cell 45\u001b[0m in \u001b[0;36m<cell line: 1>\u001b[1;34m()\u001b[0m\n\u001b[1;32m----> <a href='vscode-notebook-cell:/i%3A/College/image-classifier/plots.ipynb#X62sZmlsZQ%3D%3D?line=0'>1</a>\u001b[0m img \u001b[39m=\u001b[39m cv2\u001b[39m.\u001b[39mimread(\u001b[39m'\u001b[39m\u001b[39mI:/College/image-classifier/class/test/others/1-2.jpg\u001b[39m\u001b[39m'\u001b[39m)\n\u001b[0;32m      <a href='vscode-notebook-cell:/i%3A/College/image-classifier/plots.ipynb#X62sZmlsZQ%3D%3D?line=1'>2</a>\u001b[0m plt\u001b[39m.\u001b[39mimshow(img)\n\u001b[0;32m      <a href='vscode-notebook-cell:/i%3A/College/image-classifier/plots.ipynb#X62sZmlsZQ%3D%3D?line=2'>3</a>\u001b[0m plt\u001b[39m.\u001b[39mshow()\n",
      "\u001b[1;31mNameError\u001b[0m: name 'cv2' is not defined"
     ]
    }
   ],
   "source": [
    "img = cv2.imread('I:/College/image-classifier/class/test/others/1-2.jpg')\n",
    "plt.imshow(img)\n",
    "plt.show()"
   ]
  },
  {
   "cell_type": "code",
   "execution_count": 4,
   "metadata": {},
   "outputs": [
    {
     "ename": "NameError",
     "evalue": "name 'model' is not defined",
     "output_type": "error",
     "traceback": [
      "\u001b[1;31m---------------------------------------------------------------------------\u001b[0m",
      "\u001b[1;31mNameError\u001b[0m                                 Traceback (most recent call last)",
      "\u001b[1;32mi:\\College\\image-classifier\\plots.ipynb Cell 46\u001b[0m in \u001b[0;36m<cell line: 1>\u001b[1;34m()\u001b[0m\n\u001b[1;32m----> <a href='vscode-notebook-cell:/i%3A/College/image-classifier/plots.ipynb#X63sZmlsZQ%3D%3D?line=0'>1</a>\u001b[0m yhat \u001b[39m=\u001b[39m model\u001b[39m.\u001b[39mpredict(np\u001b[39m.\u001b[39mexpand_dims(resize\u001b[39m/\u001b[39m\u001b[39m255\u001b[39m, \u001b[39m0\u001b[39m))\n",
      "\u001b[1;31mNameError\u001b[0m: name 'model' is not defined"
     ]
    }
   ],
   "source": [
    "yhat = model.predict(np.expand_dims(resize/255, 0))"
   ]
  },
  {
   "cell_type": "code",
   "execution_count": 3,
   "metadata": {},
   "outputs": [
    {
     "ename": "NameError",
     "evalue": "name 'yhat' is not defined",
     "output_type": "error",
     "traceback": [
      "\u001b[1;31m---------------------------------------------------------------------------\u001b[0m",
      "\u001b[1;31mNameError\u001b[0m                                 Traceback (most recent call last)",
      "\u001b[1;32mi:\\College\\image-classifier\\plots.ipynb Cell 47\u001b[0m in \u001b[0;36m<cell line: 1>\u001b[1;34m()\u001b[0m\n\u001b[1;32m----> <a href='vscode-notebook-cell:/i%3A/College/image-classifier/plots.ipynb#X64sZmlsZQ%3D%3D?line=0'>1</a>\u001b[0m yhat\n",
      "\u001b[1;31mNameError\u001b[0m: name 'yhat' is not defined"
     ]
    }
   ],
   "source": [
    "yhat"
   ]
  },
  {
   "cell_type": "code",
   "execution_count": 62,
   "metadata": {},
   "outputs": [
    {
     "data": {
      "image/png": "[encoded data removed]",
      "text/plain": [
       "<Figure size 432x288 with 1 Axes>"
      ]
     },
     "metadata": {
      "needs_background": "light"
     },
     "output_type": "display_data"
    },
    {
     "name": "stdout",
     "output_type": "stream",
     "text": [
      "Predicted class is Others\n"
     ]
    }
   ],
   "source": [
    "resize = tf.image.resize(img, (256,256))\n",
    "plt.imshow(resize.numpy().astype(int))\n",
    "plt.show()\n",
    "\n",
    "if (yhat).any() > 0.5: \n",
    "    print(f'Predicted class is Others')\n",
    "else:\n",
    "    print(f'Predicted class is Family')"
   ]
  },
  {
   "cell_type": "markdown",
   "metadata": {},
   "source": [
    "# 11. Save the Model"
   ]
  },
  {
   "cell_type": "code",
   "execution_count": 50,
   "metadata": {},
   "outputs": [],
   "source": [
    "from tensorflow.keras.models import load_model"
   ]
  },
  {
   "cell_type": "code",
   "execution_count": 51,
   "metadata": {},
   "outputs": [],
   "source": [
    "import os\n",
    "model.save(os.path.join('models','I:/College/Classifier/models/imageclassifier-30-10.h5'))"
   ]
  },
  {
   "cell_type": "code",
   "execution_count": 54,
   "metadata": {},
   "outputs": [],
   "source": [
    "new_model = load_model('I:/College/Classifier/models/imageclassifier-30-10.h5')"
   ]
  },
  {
   "cell_type": "code",
   "execution_count": 55,
   "metadata": {},
   "outputs": [
    {
     "name": "stdout",
     "output_type": "stream",
     "text": [
      "1/1 [==============================] - 0s 186ms/step\n"
     ]
    },
    {
     "data": {
      "text/plain": [
       "array([[1.]], dtype=float32)"
      ]
     },
     "execution_count": 55,
     "metadata": {},
     "output_type": "execute_result"
    }
   ],
   "source": [
    "new_model.predict(np.expand_dims(resize/255, 0))"
   ]
  },
  {
   "cell_type": "code",
   "execution_count": null,
   "metadata": {},
   "outputs": [],
   "source": []
  }
 ],
 "metadata": {
  "kernelspec": {
   "display_name": "Python 3 (ipykernel)",
   "language": "python",
   "name": "python3"
  },
  "language_info": {
   "codemirror_mode": {
    "name": "ipython",
    "version": 3
   },
   "file_extension": ".py",
   "mimetype": "text/x-python",
   "name": "python",
   "nbconvert_exporter": "python",
   "pygments_lexer": "ipython3",
   "version": "3.10.5"
  },
  "vscode": {
   "interpreter": {
    "hash": "c7af7df4901773a0e355da496bf365ae011b1b331a57bbc9908dae1ee21823d7"
   }
  }
 },
 "nbformat": 4,
 "nbformat_minor": 4
}
