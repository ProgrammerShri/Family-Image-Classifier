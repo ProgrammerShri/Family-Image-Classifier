{
 "cells": [
  {
   "cell_type": "markdown",
   "metadata": {},
   "source": [
    "# 1. Install Dependencies and Setup"
   ]
  },
  {
   "cell_type": "code",
   "execution_count": 1,
   "metadata": {},
   "outputs": [
    {
     "name": "stdout",
     "output_type": "stream",
     "text": [
      "Package                      Version\n",
      "---------------------------- -----------\n",
      "absl-py                      1.2.0\n",
      "altair                       4.2.0\n",
      "argon2-cffi                  21.3.0\n",
      "argon2-cffi-bindings         21.2.0\n",
      "arrow                        1.2.2\n",
      "asttokens                    2.0.5\n",
      "astunparse                   1.6.3\n",
      "attrs                        21.4.0\n",
      "backcall                     0.2.0\n",
      "beautifulsoup4               4.11.1\n",
      "bleach                       5.0.1\n",
      "blinker                      1.5\n",
      "cachetools                   5.2.0\n",
      "certifi                      2022.9.24\n",
      "cffi                         1.15.1\n",
      "charset-normalizer           2.1.1\n",
      "click                        8.1.3\n",
      "colorama                     0.4.5\n",
      "commonmark                   0.9.1\n",
      "contourpy                    1.0.5\n",
      "cycler                       0.11.0\n",
      "DateTime                     4.7\n",
      "debugpy                      1.6.2\n",
      "decorator                    5.1.1\n",
      "defusedxml                   0.7.1\n",
      "emoji                        2.1.0\n",
      "entrypoints                  0.4\n",
      "executing                    0.9.1\n",
      "fastjsonschema               2.16.1\n",
      "filelock                     3.8.0\n",
      "flatbuffers                  22.10.26\n",
      "fonttools                    4.37.3\n",
      "gast                         0.4.0\n",
      "gitdb                        4.0.9\n",
      "GitPython                    3.1.27\n",
      "google-auth                  2.12.0\n",
      "google-auth-oauthlib         0.4.6\n",
      "google-pasta                 0.2.0\n",
      "grpcio                       1.49.1\n",
      "h5py                         3.7.0\n",
      "idna                         3.4\n",
      "importlib-metadata           4.12.0\n",
      "ipykernel                    6.15.1\n",
      "ipython                      8.4.0\n",
      "ipython-genutils             0.2.0\n",
      "ipywidgets                   7.7.1\n",
      "jedi                         0.18.1\n",
      "Jinja2                       3.1.2\n",
      "jinja2-time                  0.2.0\n",
      "joblib                       1.2.0\n",
      "jsonschema                   4.8.0\n",
      "jupyter                      1.0.0\n",
      "jupyter-client               7.3.4\n",
      "jupyter-console              6.4.4\n",
      "jupyter-core                 4.11.1\n",
      "jupyterlab-pygments          0.2.2\n",
      "jupyterlab-widgets           1.1.1\n",
      "keras                        2.10.0\n",
      "Keras-Preprocessing          1.1.2\n",
      "kiwisolver                   1.4.4\n",
      "libclang                     14.0.6\n",
      "lxml                         4.9.1\n",
      "make                         0.1.6.post2\n",
      "Markdown                     3.4.1\n",
      "MarkupSafe                   2.1.1\n",
      "matplotlib                   3.6.0\n",
      "matplotlib-inline            0.1.3\n",
      "mistune                      0.8.4\n",
      "nbclient                     0.6.6\n",
      "nbconvert                    6.5.0\n",
      "nbformat                     5.4.0\n",
      "nest-asyncio                 1.5.5\n",
      "nltk                         3.7\n",
      "notebook                     6.4.12\n",
      "numpy                        1.23.1\n",
      "oauthlib                     3.2.1\n",
      "opencv-python                4.6.0.66\n",
      "opt-einsum                   3.3.0\n",
      "packaging                    21.3\n",
      "pandas                       1.5.0\n",
      "pandocfilters                1.5.0\n",
      "parso                        0.8.3\n",
      "pickleshare                  0.7.5\n",
      "Pillow                       9.2.0\n",
      "pip                          22.3\n",
      "platformdirs                 2.5.2\n",
      "plotly                       3.10.0\n",
      "prometheus-client            0.14.1\n",
      "prompt-toolkit               3.0.30\n",
      "protobuf                     3.19.6\n",
      "psutil                       5.9.1\n",
      "pure-eval                    0.2.2\n",
      "pyarrow                      9.0.0\n",
      "pyasn1                       0.4.8\n",
      "pyasn1-modules               0.2.8\n",
      "pycparser                    2.21\n",
      "pydeck                       0.8.0b3\n",
      "Pygments                     2.12.0\n",
      "Pympler                      1.0.1\n",
      "pyparsing                    3.0.9\n",
      "PyQt5                        5.15.7\n",
      "PyQt5-Qt5                    5.15.2\n",
      "PyQt5-sip                    12.11.0\n",
      "pyrsistent                   0.18.1\n",
      "python-dateutil              2.8.2\n",
      "pytz                         2022.2.1\n",
      "pytz-deprecation-shim        0.1.0.post0\n",
      "pywin32                      304\n",
      "pywinpty                     2.0.6\n",
      "pyzmq                        23.2.0\n",
      "qtconsole                    5.3.1\n",
      "QtPy                         2.1.0\n",
      "regex                        2022.9.13\n",
      "requests                     2.28.1\n",
      "requests-oauthlib            1.3.1\n",
      "retrying                     1.3.3\n",
      "rich                         12.5.1\n",
      "rsa                          4.9\n",
      "scikit-learn                 1.1.2\n",
      "scipy                        1.9.2\n",
      "seaborn                      0.12.0\n",
      "semver                       2.13.0\n",
      "Send2Trash                   1.8.0\n",
      "setuptools                   58.1.0\n",
      "six                          1.16.0\n",
      "smmap                        5.0.0\n",
      "soupsieve                    2.3.2.post1\n",
      "stack-data                   0.3.0\n",
      "streamlit                    1.13.0\n",
      "tenacity                     8.1.0\n",
      "tensorboard                  2.10.1\n",
      "tensorboard-data-server      0.6.1\n",
      "tensorboard-plugin-wit       1.8.1\n",
      "tensorflow                   2.10.0\n",
      "tensorflow-estimator         2.10.0\n",
      "tensorflow-gpu               2.10.0\n",
      "tensorflow-io-gcs-filesystem 0.27.0\n",
      "termcolor                    2.0.1\n",
      "terminado                    0.15.0\n",
      "threadpoolctl                3.1.0\n",
      "tinycss2                     1.1.1\n",
      "toml                         0.10.2\n",
      "toolz                        0.12.0\n",
      "torch                        1.12.1\n",
      "torchvision                  0.13.1\n",
      "tornado                      6.2\n",
      "tqdm                         4.64.1\n",
      "traitlets                    5.3.0\n",
      "typing_extensions            4.3.0\n",
      "tzdata                       2022.2\n",
      "tzlocal                      4.2\n",
      "uritools                     4.0.0\n",
      "urlextract                   1.6.0\n",
      "urllib3                      1.26.12\n",
      "vaderSentiment               3.3.2\n",
      "validators                   0.20.0\n",
      "watchdog                     2.1.9\n",
      "wcwidth                      0.2.5\n",
      "webencodings                 0.5.1\n",
      "Werkzeug                     2.2.2\n",
      "wget                         3.2\n",
      "wheel                        0.37.1\n",
      "widgetsnbextension           3.6.1\n",
      "wordcloud                    1.8.2.2\n",
      "wrapt                        1.14.1\n",
      "zipp                         3.8.1\n",
      "zope.interface               5.4.0\n",
      "Note: you may need to restart the kernel to use updated packages.\n"
     ]
    },
    {
     "name": "stderr",
     "output_type": "stream",
     "text": [
      "WARNING: Ignoring invalid distribution -lotly (c:\\users\\dell\\appdata\\local\\programs\\python\\python310\\lib\\site-packages)\n",
      "WARNING: Ignoring invalid distribution -lotly (c:\\users\\dell\\appdata\\local\\programs\\python\\python310\\lib\\site-packages)\n",
      "WARNING: Ignoring invalid distribution -lotly (c:\\users\\dell\\appdata\\local\\programs\\python\\python310\\lib\\site-packages)\n",
      "WARNING: Ignoring invalid distribution -lotly (c:\\users\\dell\\appdata\\local\\programs\\python\\python310\\lib\\site-packages)\n",
      "\n",
      "[notice] A new release of pip available: 22.3 -> 22.3.1\n",
      "[notice] To update, run: python.exe -m pip install --upgrade pip\n"
     ]
    },
    {
     "name": "stdout",
     "output_type": "stream",
     "text": [
      "Requirement already satisfied: tensorflow in c:\\users\\dell\\appdata\\local\\programs\\python\\python310\\lib\\site-packages (2.10.0)Note: you may need to restart the kernel to use updated packages.\n",
      "\n",
      "Requirement already satisfied: tensorflow-gpu in c:\\users\\dell\\appdata\\local\\programs\\python\\python310\\lib\\site-packages (2.10.0)\n",
      "Requirement already satisfied: opencv-python in c:\\users\\dell\\appdata\\local\\programs\\python\\python310\\lib\\site-packages (4.6.0.66)\n",
      "Requirement already satisfied: matplotlib in c:\\users\\dell\\appdata\\local\\programs\\python\\python310\\lib\\site-packages (3.6.0)\n",
      "Requirement already satisfied: libclang>=13.0.0 in c:\\users\\dell\\appdata\\local\\programs\\python\\python310\\lib\\site-packages (from tensorflow) (14.0.6)\n",
      "Requirement already satisfied: tensorboard<2.11,>=2.10 in c:\\users\\dell\\appdata\\local\\programs\\python\\python310\\lib\\site-packages (from tensorflow) (2.10.1)\n",
      "Requirement already satisfied: grpcio<2.0,>=1.24.3 in c:\\users\\dell\\appdata\\local\\programs\\python\\python310\\lib\\site-packages (from tensorflow) (1.49.1)\n",
      "Requirement already satisfied: absl-py>=1.0.0 in c:\\users\\dell\\appdata\\local\\programs\\python\\python310\\lib\\site-packages (from tensorflow) (1.2.0)\n",
      "Requirement already satisfied: typing-extensions>=3.6.6 in c:\\users\\dell\\appdata\\local\\programs\\python\\python310\\lib\\site-packages (from tensorflow) (4.3.0)\n",
      "Requirement already satisfied: tensorflow-estimator<2.11,>=2.10.0 in c:\\users\\dell\\appdata\\local\\programs\\python\\python310\\lib\\site-packages (from tensorflow) (2.10.0)\n",
      "Requirement already satisfied: protobuf<3.20,>=3.9.2 in c:\\users\\dell\\appdata\\local\\programs\\python\\python310\\lib\\site-packages (from tensorflow) (3.19.6)\n",
      "Requirement already satisfied: six>=1.12.0 in c:\\users\\dell\\appdata\\local\\programs\\python\\python310\\lib\\site-packages (from tensorflow) (1.16.0)\n",
      "Requirement already satisfied: packaging in c:\\users\\dell\\appdata\\local\\programs\\python\\python310\\lib\\site-packages (from tensorflow) (21.3)\n",
      "Requirement already satisfied: termcolor>=1.1.0 in c:\\users\\dell\\appdata\\local\\programs\\python\\python310\\lib\\site-packages (from tensorflow) (2.0.1)\n",
      "Requirement already satisfied: google-pasta>=0.1.1 in c:\\users\\dell\\appdata\\local\\programs\\python\\python310\\lib\\site-packages (from tensorflow) (0.2.0)\n",
      "Requirement already satisfied: wrapt>=1.11.0 in c:\\users\\dell\\appdata\\local\\programs\\python\\python310\\lib\\site-packages (from tensorflow) (1.14.1)\n",
      "Requirement already satisfied: h5py>=2.9.0 in c:\\users\\dell\\appdata\\local\\programs\\python\\python310\\lib\\site-packages (from tensorflow) (3.7.0)\n",
      "Requirement already satisfied: tensorflow-io-gcs-filesystem>=0.23.1 in c:\\users\\dell\\appdata\\local\\programs\\python\\python310\\lib\\site-packages (from tensorflow) (0.27.0)\n",
      "Requirement already satisfied: gast<=0.4.0,>=0.2.1 in c:\\users\\dell\\appdata\\local\\programs\\python\\python310\\lib\\site-packages (from tensorflow) (0.4.0)\n",
      "Requirement already satisfied: numpy>=1.20 in c:\\users\\dell\\appdata\\local\\programs\\python\\python310\\lib\\site-packages (from tensorflow) (1.23.1)\n",
      "Requirement already satisfied: keras<2.11,>=2.10.0 in c:\\users\\dell\\appdata\\local\\programs\\python\\python310\\lib\\site-packages (from tensorflow) (2.10.0)\n",
      "Requirement already satisfied: keras-preprocessing>=1.1.1 in c:\\users\\dell\\appdata\\local\\programs\\python\\python310\\lib\\site-packages (from tensorflow) (1.1.2)\n",
      "Requirement already satisfied: setuptools in c:\\users\\dell\\appdata\\local\\programs\\python\\python310\\lib\\site-packages (from tensorflow) (58.1.0)\n",
      "Requirement already satisfied: flatbuffers>=2.0 in c:\\users\\dell\\appdata\\local\\programs\\python\\python310\\lib\\site-packages (from tensorflow) (22.10.26)\n",
      "Requirement already satisfied: opt-einsum>=2.3.2 in c:\\users\\dell\\appdata\\local\\programs\\python\\python310\\lib\\site-packages (from tensorflow) (3.3.0)\n",
      "Requirement already satisfied: astunparse>=1.6.0 in c:\\users\\dell\\appdata\\local\\programs\\python\\python310\\lib\\site-packages (from tensorflow) (1.6.3)\n",
      "Requirement already satisfied: kiwisolver>=1.0.1 in c:\\users\\dell\\appdata\\local\\programs\\python\\python310\\lib\\site-packages (from matplotlib) (1.4.4)\n",
      "Requirement already satisfied: contourpy>=1.0.1 in c:\\users\\dell\\appdata\\local\\programs\\python\\python310\\lib\\site-packages (from matplotlib) (1.0.5)\n",
      "Requirement already satisfied: pillow>=6.2.0 in c:\\users\\dell\\appdata\\local\\programs\\python\\python310\\lib\\site-packages (from matplotlib) (9.2.0)\n",
      "Requirement already satisfied: python-dateutil>=2.7 in c:\\users\\dell\\appdata\\local\\programs\\python\\python310\\lib\\site-packages (from matplotlib) (2.8.2)\n",
      "Requirement already satisfied: pyparsing>=2.2.1 in c:\\users\\dell\\appdata\\local\\programs\\python\\python310\\lib\\site-packages (from matplotlib) (3.0.9)\n",
      "Requirement already satisfied: cycler>=0.10 in c:\\users\\dell\\appdata\\local\\programs\\python\\python310\\lib\\site-packages (from matplotlib) (0.11.0)\n",
      "Requirement already satisfied: fonttools>=4.22.0 in c:\\users\\dell\\appdata\\local\\programs\\python\\python310\\lib\\site-packages (from matplotlib) (4.37.3)\n",
      "Requirement already satisfied: wheel<1.0,>=0.23.0 in c:\\users\\dell\\appdata\\local\\programs\\python\\python310\\lib\\site-packages (from astunparse>=1.6.0->tensorflow) (0.37.1)\n",
      "Requirement already satisfied: werkzeug>=1.0.1 in c:\\users\\dell\\appdata\\local\\programs\\python\\python310\\lib\\site-packages (from tensorboard<2.11,>=2.10->tensorflow) (2.2.2)\n",
      "Requirement already satisfied: tensorboard-data-server<0.7.0,>=0.6.0 in c:\\users\\dell\\appdata\\local\\programs\\python\\python310\\lib\\site-packages (from tensorboard<2.11,>=2.10->tensorflow) (0.6.1)\n",
      "Requirement already satisfied: google-auth<3,>=1.6.3 in c:\\users\\dell\\appdata\\local\\programs\\python\\python310\\lib\\site-packages (from tensorboard<2.11,>=2.10->tensorflow) (2.12.0)\n",
      "Requirement already satisfied: requests<3,>=2.21.0 in c:\\users\\dell\\appdata\\local\\programs\\python\\python310\\lib\\site-packages (from tensorboard<2.11,>=2.10->tensorflow) (2.28.1)\n",
      "Requirement already satisfied: google-auth-oauthlib<0.5,>=0.4.1 in c:\\users\\dell\\appdata\\local\\programs\\python\\python310\\lib\\site-packages (from tensorboard<2.11,>=2.10->tensorflow) (0.4.6)\n",
      "Requirement already satisfied: markdown>=2.6.8 in c:\\users\\dell\\appdata\\local\\programs\\python\\python310\\lib\\site-packages (from tensorboard<2.11,>=2.10->tensorflow) (3.4.1)\n",
      "Requirement already satisfied: tensorboard-plugin-wit>=1.6.0 in c:\\users\\dell\\appdata\\local\\programs\\python\\python310\\lib\\site-packages (from tensorboard<2.11,>=2.10->tensorflow) (1.8.1)\n",
      "Requirement already satisfied: pyasn1-modules>=0.2.1 in c:\\users\\dell\\appdata\\local\\programs\\python\\python310\\lib\\site-packages (from google-auth<3,>=1.6.3->tensorboard<2.11,>=2.10->tensorflow) (0.2.8)\n",
      "Requirement already satisfied: cachetools<6.0,>=2.0.0 in c:\\users\\dell\\appdata\\local\\programs\\python\\python310\\lib\\site-packages (from google-auth<3,>=1.6.3->tensorboard<2.11,>=2.10->tensorflow) (5.2.0)\n",
      "Requirement already satisfied: rsa<5,>=3.1.4 in c:\\users\\dell\\appdata\\local\\programs\\python\\python310\\lib\\site-packages (from google-auth<3,>=1.6.3->tensorboard<2.11,>=2.10->tensorflow) (4.9)\n",
      "Requirement already satisfied: requests-oauthlib>=0.7.0 in c:\\users\\dell\\appdata\\local\\programs\\python\\python310\\lib\\site-packages (from google-auth-oauthlib<0.5,>=0.4.1->tensorboard<2.11,>=2.10->tensorflow) (1.3.1)\n",
      "Requirement already satisfied: urllib3<1.27,>=1.21.1 in c:\\users\\dell\\appdata\\local\\programs\\python\\python310\\lib\\site-packages (from requests<3,>=2.21.0->tensorboard<2.11,>=2.10->tensorflow) (1.26.12)\n",
      "Requirement already satisfied: charset-normalizer<3,>=2 in c:\\users\\dell\\appdata\\local\\programs\\python\\python310\\lib\\site-packages (from requests<3,>=2.21.0->tensorboard<2.11,>=2.10->tensorflow) (2.1.1)\n",
      "Requirement already satisfied: certifi>=2017.4.17 in c:\\users\\dell\\appdata\\local\\programs\\python\\python310\\lib\\site-packages (from requests<3,>=2.21.0->tensorboard<2.11,>=2.10->tensorflow) (2022.9.24)\n",
      "Requirement already satisfied: idna<4,>=2.5 in c:\\users\\dell\\appdata\\local\\programs\\python\\python310\\lib\\site-packages (from requests<3,>=2.21.0->tensorboard<2.11,>=2.10->tensorflow) (3.4)\n",
      "Requirement already satisfied: MarkupSafe>=2.1.1 in c:\\users\\dell\\appdata\\local\\programs\\python\\python310\\lib\\site-packages (from werkzeug>=1.0.1->tensorboard<2.11,>=2.10->tensorflow) (2.1.1)\n",
      "Requirement already satisfied: pyasn1<0.5.0,>=0.4.6 in c:\\users\\dell\\appdata\\local\\programs\\python\\python310\\lib\\site-packages (from pyasn1-modules>=0.2.1->google-auth<3,>=1.6.3->tensorboard<2.11,>=2.10->tensorflow) (0.4.8)\n",
      "Requirement already satisfied: oauthlib>=3.0.0 in c:\\users\\dell\\appdata\\local\\programs\\python\\python310\\lib\\site-packages (from requests-oauthlib>=0.7.0->google-auth-oauthlib<0.5,>=0.4.1->tensorboard<2.11,>=2.10->tensorflow) (3.2.1)\n"
     ]
    },
    {
     "name": "stderr",
     "output_type": "stream",
     "text": [
      "WARNING: Ignoring invalid distribution -lotly (c:\\users\\dell\\appdata\\local\\programs\\python\\python310\\lib\\site-packages)\n",
      "WARNING: Ignoring invalid distribution -lotly (c:\\users\\dell\\appdata\\local\\programs\\python\\python310\\lib\\site-packages)\n",
      "WARNING: Ignoring invalid distribution -lotly (c:\\users\\dell\\appdata\\local\\programs\\python\\python310\\lib\\site-packages)\n",
      "WARNING: Ignoring invalid distribution -lotly (c:\\users\\dell\\appdata\\local\\programs\\python\\python310\\lib\\site-packages)\n",
      "WARNING: Ignoring invalid distribution -lotly (c:\\users\\dell\\appdata\\local\\programs\\python\\python310\\lib\\site-packages)\n",
      "WARNING: Ignoring invalid distribution -lotly (c:\\users\\dell\\appdata\\local\\programs\\python\\python310\\lib\\site-packages)\n",
      "\n",
      "[notice] A new release of pip available: 22.3 -> 22.3.1\n",
      "[notice] To update, run: python.exe -m pip install --upgrade pip\n"
     ]
    }
   ],
   "source": [
    "%pip list\n",
    "%pip install tensorflow tensorflow-gpu opencv-python matplotlib\n",
    "import tensorflow as tf\n",
    "import os"
   ]
  },
  {
   "cell_type": "code",
   "execution_count": 2,
   "metadata": {},
   "outputs": [],
   "source": [
    "# Avoid OOM errors by setting GPU Memory Consumption Growth\n",
    "gpus = tf.config.experimental.list_physical_devices('GPU')\n",
    "for gpu in gpus: \n",
    "    tf.config.experimental.set_memory_growth(gpu, True)"
   ]
  },
  {
   "cell_type": "code",
   "execution_count": 3,
   "metadata": {
    "tags": []
   },
   "outputs": [
    {
     "data": {
      "text/plain": [
       "[]"
      ]
     },
     "execution_count": 3,
     "metadata": {},
     "output_type": "execute_result"
    }
   ],
   "source": [
    "tf.config.list_physical_devices('GPU')"
   ]
  },
  {
   "cell_type": "markdown",
   "metadata": {},
   "source": [
    "# 2. Remove dodgy images"
   ]
  },
  {
   "cell_type": "code",
   "execution_count": 4,
   "metadata": {},
   "outputs": [],
   "source": [
    "import cv2\n",
    "import imghdr"
   ]
  },
  {
   "cell_type": "code",
   "execution_count": 5,
   "metadata": {},
   "outputs": [],
   "source": [
    "data_dir = 'I:/College/image-classifier/class/train' "
   ]
  },
  {
   "cell_type": "code",
   "execution_count": 6,
   "metadata": {},
   "outputs": [],
   "source": [
    "image_exts = ['jpeg','jpg', 'bmp', 'png']"
   ]
  },
  {
   "cell_type": "code",
   "execution_count": 7,
   "metadata": {
    "tags": []
   },
   "outputs": [
    {
     "name": "stdout",
     "output_type": "stream",
     "text": [
      "Image not in ext list I:/College/image-classifier/class/train\\others\\2022-05-17_062705.0215300000.webp\n",
      "Image not in ext list I:/College/image-classifier/class/train\\others\\250858153098157.Y3JvcCwyNDgwLDE5MzksMCw3ODU.jpg\n",
      "Image not in ext list I:/College/image-classifier/class/train\\others\\471624-icse.webp\n",
      "Image not in ext list I:/College/image-classifier/class/train\\others\\8554381587_ea2fe89fe7_b.jpg\n",
      "Image not in ext list I:/College/image-classifier/class/train\\others\\8555452258_33a3df9dff_b.jpg\n",
      "Image not in ext list I:/College/image-classifier/class/train\\others\\85889464.jpg\n",
      "Image not in ext list I:/College/image-classifier/class/train\\others\\bb2442149459527.Y3JvcCwxMTY3LDkxMiwxMDEsMA.jpg\n",
      "Image not in ext list I:/College/image-classifier/class/train\\others\\cbe2-7444-4a24-9038-cdd240bfa5002FWhatsApp_Image_2019_03_07_at_13_24_12__1_.jpeg\n",
      "Image not in ext list I:/College/image-classifier/class/train\\others\\contract-papers-document-folder-stamp-260nw-1409636174.jpg\n",
      "Image not in ext list I:/College/image-classifier/class/train\\others\\contractual-documents-package-contracts-signature-260nw-1723752097.jpg\n",
      "Image not in ext list I:/College/image-classifier/class/train\\others\\crop.webp\n",
      "Image not in ext list I:/College/image-classifier/class/train\\others\\deshdoot2F2020-072Fdb4d1cbc-0c32-485b-8515-939e2f1b23e22FSSS_marksheet.jpg\n",
      "Image not in ext list I:/College/image-classifier/class/train\\others\\document-icon-simbol-260nw-237613033.jpg\n",
      "Image not in ext list I:/College/image-classifier/class/train\\others\\document-vector-icon-illustration-isolated-260nw-601630226.jpg\n",
      "Image not in ext list I:/College/image-classifier/class/train\\others\\Document_Mutual_Release.gif\n",
      "Image not in ext list I:/College/image-classifier/class/train\\others\\IAS-Nitin-Sangwan-marksheet.jpg\n",
      "Image not in ext list I:/College/image-classifier/class/train\\others\\lg5.jpg\n",
      "Image not in ext list I:/College/image-classifier/class/train\\others\\Maharashtra-HSC-Result-2022-how-to-download-Marksheet.jpeg\n",
      "Image not in ext list I:/College/image-classifier/class/train\\others\\MP-Board-Duplicate-Marksheet.webp\n",
      "Image not in ext list I:/College/image-classifier/class/train\\others\\sign.jpg\n",
      "Image not in ext list I:/College/image-classifier/class/train\\others\\Teacher_Tweet_1658980611107_1658980619164_1658980619164.webp\n",
      "Image not in ext list I:/College/image-classifier/class/train\\others\\wd07_newdoc.gif\n",
      "Image not in ext list I:/College/image-classifier/class/train\\others\\word.jpg\n",
      "Image not in ext list I:/College/image-classifier/class/train\\others\\Z2uwD6puhSUt0RN8vQw7kDyMges2EKhLtsYgnj4BapDHeGnlS_TSqvw68U6Bg-yzMOYl4b5xSww.webp\n"
     ]
    }
   ],
   "source": [
    "for image_class in os.listdir(data_dir): \n",
    "    for image in os.listdir(os.path.join(data_dir, image_class)):\n",
    "        image_path = os.path.join(data_dir, image_class, image)\n",
    "        try: \n",
    "            img = cv2.imread(image_path)\n",
    "            tip = imghdr.what(image_path)\n",
    "            if tip not in image_exts: \n",
    "                print('Image not in ext list {}'.format(image_path))\n",
    "                os.remove(image_path)\n",
    "        except Exception as e: \n",
    "            print('Issue with image {}'.format(image_path))\n",
    "            # os.remove(image_path)"
   ]
  },
  {
   "cell_type": "markdown",
   "metadata": {},
   "source": [
    "# 3. Load Data"
   ]
  },
  {
   "cell_type": "code",
   "execution_count": 8,
   "metadata": {},
   "outputs": [],
   "source": [
    "import numpy as np\n",
    "from matplotlib import pyplot as plt"
   ]
  },
  {
   "cell_type": "code",
   "execution_count": 9,
   "metadata": {},
   "outputs": [
    {
     "name": "stdout",
     "output_type": "stream",
     "text": [
      "Found 1064 files belonging to 2 classes.\n"
     ]
    }
   ],
   "source": [
    "data = tf.keras.utils.image_dataset_from_directory('I:/College/image-classifier/class/train')"
   ]
  },
  {
   "cell_type": "code",
   "execution_count": 10,
   "metadata": {},
   "outputs": [],
   "source": [
    "data_iterator = data.as_numpy_iterator()"
   ]
  },
  {
   "cell_type": "code",
   "execution_count": 11,
   "metadata": {
    "tags": []
   },
   "outputs": [],
   "source": [
    "batch = data_iterator.next()"
   ]
  },
  {
   "cell_type": "code",
   "execution_count": 12,
   "metadata": {
    "tags": []
   },
   "outputs": [],
   "source": [
    "# fig, ax = plt.subplots(ncols=4, figsize=(20,20))\n",
    "\n",
    "# for idx, img in enumerate(batch[0][:4]):\n",
    "#     ax[idx].imshow(img.astype(int))\n",
    "#     ax[idx].title.set_text(batch[1][idx])\n"
   ]
  },
  {
   "cell_type": "markdown",
   "metadata": {},
   "source": [
    "# 4. Scale Data"
   ]
  },
  {
   "cell_type": "code",
   "execution_count": 13,
   "metadata": {},
   "outputs": [
    {
     "data": {
      "text/plain": [
       "34"
      ]
     },
     "execution_count": 13,
     "metadata": {},
     "output_type": "execute_result"
    }
   ],
   "source": [
    "data = data.map(lambda x,y: (x/255, y))\n",
    "len(data)"
   ]
  },
  {
   "cell_type": "code",
   "execution_count": 14,
   "metadata": {
    "scrolled": true,
    "tags": []
   },
   "outputs": [
    {
     "data": {
      "text/plain": [
       "(array([[[[9.9607843e-01, 9.9607843e-01, 9.9607843e-01],\n",
       "          [9.9607843e-01, 9.9607843e-01, 9.9607843e-01],\n",
       "          [9.9607843e-01, 9.9607843e-01, 9.9607843e-01],\n",
       "          ...,\n",
       "          [9.9607843e-01, 9.9607843e-01, 9.9607843e-01],\n",
       "          [9.9607843e-01, 9.9607843e-01, 9.9607843e-01],\n",
       "          [9.9607843e-01, 9.9607843e-01, 9.9607843e-01]],\n",
       " \n",
       "         [[9.9607843e-01, 9.9607843e-01, 9.9607843e-01],\n",
       "          [9.9607843e-01, 9.9607843e-01, 9.9607843e-01],\n",
       "          [9.9607843e-01, 9.9607843e-01, 9.9607843e-01],\n",
       "          ...,\n",
       "          [9.9607843e-01, 9.9607843e-01, 9.9607843e-01],\n",
       "          [9.9607843e-01, 9.9607843e-01, 9.9607843e-01],\n",
       "          [9.9607843e-01, 9.9607843e-01, 9.9607843e-01]],\n",
       " \n",
       "         [[9.9607843e-01, 9.9607843e-01, 9.9607843e-01],\n",
       "          [9.9607843e-01, 9.9607843e-01, 9.9607843e-01],\n",
       "          [9.9607843e-01, 9.9607843e-01, 9.9607843e-01],\n",
       "          ...,\n",
       "          [9.9607843e-01, 9.9607843e-01, 9.9607843e-01],\n",
       "          [9.9607843e-01, 9.9607843e-01, 9.9607843e-01],\n",
       "          [9.9607843e-01, 9.9607843e-01, 9.9607843e-01]],\n",
       " \n",
       "         ...,\n",
       " \n",
       "         [[9.9607843e-01, 9.9607843e-01, 9.9607843e-01],\n",
       "          [9.9607843e-01, 9.9607843e-01, 9.9607843e-01],\n",
       "          [9.9607843e-01, 9.9607843e-01, 9.9607843e-01],\n",
       "          ...,\n",
       "          [9.9607843e-01, 9.9607843e-01, 9.9607843e-01],\n",
       "          [9.9607843e-01, 9.9607843e-01, 9.9607843e-01],\n",
       "          [9.9607843e-01, 9.9607843e-01, 9.9607843e-01]],\n",
       " \n",
       "         [[9.9607843e-01, 9.9607843e-01, 9.9607843e-01],\n",
       "          [9.9607843e-01, 9.9607843e-01, 9.9607843e-01],\n",
       "          [9.9607843e-01, 9.9607843e-01, 9.9607843e-01],\n",
       "          ...,\n",
       "          [9.9607843e-01, 9.9607843e-01, 9.9607843e-01],\n",
       "          [9.9607843e-01, 9.9607843e-01, 9.9607843e-01],\n",
       "          [9.9607843e-01, 9.9607843e-01, 9.9607843e-01]],\n",
       " \n",
       "         [[9.9607843e-01, 9.9607843e-01, 9.9607843e-01],\n",
       "          [9.9607843e-01, 9.9607843e-01, 9.9607843e-01],\n",
       "          [9.9607843e-01, 9.9607843e-01, 9.9607843e-01],\n",
       "          ...,\n",
       "          [9.9607843e-01, 9.9607843e-01, 9.9607843e-01],\n",
       "          [9.9607843e-01, 9.9607843e-01, 9.9607843e-01],\n",
       "          [9.9607843e-01, 9.9607843e-01, 9.9607843e-01]]],\n",
       " \n",
       " \n",
       "        [[[7.2549021e-01, 7.8039217e-01, 8.9411765e-01],\n",
       "          [7.2907478e-01, 7.8397673e-01, 8.9770222e-01],\n",
       "          [7.2711396e-01, 7.8593749e-01, 8.9966297e-01],\n",
       "          ...,\n",
       "          [5.6666666e-01, 6.9607842e-01, 8.5686272e-01],\n",
       "          [5.6078434e-01, 6.9019610e-01, 8.5098040e-01],\n",
       "          [5.5686277e-01, 6.8627453e-01, 8.4705883e-01]],\n",
       " \n",
       "         [[7.2941178e-01, 7.8431374e-01, 8.9424020e-01],\n",
       "          [7.3137254e-01, 7.8918505e-01, 8.9816177e-01],\n",
       "          [7.2941178e-01, 7.9013479e-01, 8.9816177e-01],\n",
       "          ...,\n",
       "          [5.6761640e-01, 6.9702816e-01, 8.5781252e-01],\n",
       "          [5.6268382e-01, 6.9209558e-01, 8.5287988e-01],\n",
       "          [5.5977327e-01, 6.8918502e-01, 8.4996939e-01]],\n",
       " \n",
       "         [[7.2352940e-01, 7.8235292e-01, 8.8627452e-01],\n",
       "          [7.2521448e-01, 7.8795958e-01, 8.8992035e-01],\n",
       "          [7.2521448e-01, 7.8992033e-01, 8.9188111e-01],\n",
       "          ...,\n",
       "          [5.7647061e-01, 7.0196080e-01, 8.5490197e-01],\n",
       "          [5.7702208e-01, 7.0251226e-01, 8.5545343e-01],\n",
       "          [5.7478553e-01, 7.0027572e-01, 8.5321689e-01]],\n",
       " \n",
       "         ...,\n",
       " \n",
       "         [[7.3333335e-01, 7.5686276e-01, 8.1176472e-01],\n",
       "          [7.2549021e-01, 7.4901962e-01, 8.0392158e-01],\n",
       "          [7.2156864e-01, 7.4509805e-01, 8.0000001e-01],\n",
       "          ...,\n",
       "          [2.3180147e-01, 2.8952205e-01, 3.7414217e-01],\n",
       "          [5.8848041e-01, 6.3667279e-01, 6.9944853e-01],\n",
       "          [2.6461396e-01, 2.8535539e-01, 3.2570466e-01]],\n",
       " \n",
       "         [[7.3036152e-01, 7.5389093e-01, 8.0879289e-01],\n",
       "          [7.2751224e-01, 7.5104165e-01, 8.0594361e-01],\n",
       "          [7.2549021e-01, 7.4901962e-01, 8.0392158e-01],\n",
       "          ...,\n",
       "          [4.5318627e-01, 5.1997548e-01, 6.1219364e-01],\n",
       "          [4.4693628e-01, 5.0082719e-01, 5.7849264e-01],\n",
       "          [2.7806371e-01, 3.0753675e-01, 3.6856619e-01]],\n",
       " \n",
       "         [[7.2941178e-01, 7.5294119e-01, 8.0784315e-01],\n",
       "          [7.2941178e-01, 7.5294119e-01, 8.0784315e-01],\n",
       "          [7.2941178e-01, 7.5294119e-01, 8.0784315e-01],\n",
       "          ...,\n",
       "          [4.6519607e-01, 5.4362744e-01, 6.3970590e-01],\n",
       "          [4.9574143e-01, 5.5490196e-01, 6.5523899e-01],\n",
       "          [2.4859069e-01, 2.8618261e-01, 3.7509191e-01]]],\n",
       " \n",
       " \n",
       "        [[[1.0000000e+00, 1.0000000e+00, 1.0000000e+00],\n",
       "          [1.0000000e+00, 1.0000000e+00, 1.0000000e+00],\n",
       "          [1.0000000e+00, 1.0000000e+00, 1.0000000e+00],\n",
       "          ...,\n",
       "          [1.0000000e+00, 1.0000000e+00, 1.0000000e+00],\n",
       "          [1.0000000e+00, 1.0000000e+00, 1.0000000e+00],\n",
       "          [1.0000000e+00, 1.0000000e+00, 1.0000000e+00]],\n",
       " \n",
       "         [[1.0000000e+00, 1.0000000e+00, 1.0000000e+00],\n",
       "          [1.0000000e+00, 1.0000000e+00, 1.0000000e+00],\n",
       "          [1.0000000e+00, 1.0000000e+00, 1.0000000e+00],\n",
       "          ...,\n",
       "          [1.0000000e+00, 1.0000000e+00, 1.0000000e+00],\n",
       "          [1.0000000e+00, 1.0000000e+00, 1.0000000e+00],\n",
       "          [1.0000000e+00, 1.0000000e+00, 1.0000000e+00]],\n",
       " \n",
       "         [[1.0000000e+00, 1.0000000e+00, 1.0000000e+00],\n",
       "          [1.0000000e+00, 1.0000000e+00, 1.0000000e+00],\n",
       "          [1.0000000e+00, 1.0000000e+00, 1.0000000e+00],\n",
       "          ...,\n",
       "          [1.0000000e+00, 1.0000000e+00, 1.0000000e+00],\n",
       "          [1.0000000e+00, 1.0000000e+00, 1.0000000e+00],\n",
       "          [1.0000000e+00, 1.0000000e+00, 1.0000000e+00]],\n",
       " \n",
       "         ...,\n",
       " \n",
       "         [[1.0000000e+00, 1.0000000e+00, 1.0000000e+00],\n",
       "          [1.0000000e+00, 1.0000000e+00, 1.0000000e+00],\n",
       "          [1.0000000e+00, 1.0000000e+00, 1.0000000e+00],\n",
       "          ...,\n",
       "          [1.0000000e+00, 1.0000000e+00, 1.0000000e+00],\n",
       "          [1.0000000e+00, 1.0000000e+00, 1.0000000e+00],\n",
       "          [1.0000000e+00, 1.0000000e+00, 1.0000000e+00]],\n",
       " \n",
       "         [[1.0000000e+00, 1.0000000e+00, 1.0000000e+00],\n",
       "          [1.0000000e+00, 1.0000000e+00, 1.0000000e+00],\n",
       "          [1.0000000e+00, 1.0000000e+00, 1.0000000e+00],\n",
       "          ...,\n",
       "          [1.0000000e+00, 1.0000000e+00, 1.0000000e+00],\n",
       "          [1.0000000e+00, 1.0000000e+00, 1.0000000e+00],\n",
       "          [1.0000000e+00, 1.0000000e+00, 1.0000000e+00]],\n",
       " \n",
       "         [[1.0000000e+00, 1.0000000e+00, 1.0000000e+00],\n",
       "          [1.0000000e+00, 1.0000000e+00, 1.0000000e+00],\n",
       "          [1.0000000e+00, 1.0000000e+00, 1.0000000e+00],\n",
       "          ...,\n",
       "          [1.0000000e+00, 1.0000000e+00, 1.0000000e+00],\n",
       "          [1.0000000e+00, 1.0000000e+00, 1.0000000e+00],\n",
       "          [1.0000000e+00, 1.0000000e+00, 1.0000000e+00]]],\n",
       " \n",
       " \n",
       "        ...,\n",
       " \n",
       " \n",
       "        [[[4.7843137e-01, 5.1372552e-01, 5.0778186e-01],\n",
       "          [4.9321386e-01, 5.0398391e-01, 5.1479566e-01],\n",
       "          [5.0588238e-01, 4.9803922e-01, 5.1562500e-01],\n",
       "          ...,\n",
       "          [4.9325982e-03, 3.9215689e-03, 0.0000000e+00],\n",
       "          [4.9325982e-03, 3.9215689e-03, 0.0000000e+00],\n",
       "          [4.9325982e-03, 3.9215689e-03, 0.0000000e+00]],\n",
       " \n",
       "         [[4.8627451e-01, 5.1069242e-01, 4.9234068e-01],\n",
       "          [4.9482229e-01, 5.0749081e-01, 4.9234068e-01],\n",
       "          [5.0588238e-01, 5.0196081e-01, 4.8627451e-01],\n",
       "          ...,\n",
       "          [1.6574755e-02, 0.0000000e+00, 9.9877454e-03],\n",
       "          [1.6574755e-02, 0.0000000e+00, 9.9877454e-03],\n",
       "          [1.6574755e-02, 0.0000000e+00, 9.9877454e-03]],\n",
       " \n",
       "         [[5.1303613e-01, 5.3769916e-01, 5.9171444e-01],\n",
       "          [5.2718520e-01, 5.3984374e-01, 5.8962476e-01],\n",
       "          [5.2889991e-01, 5.4179817e-01, 5.8049303e-01],\n",
       "          ...,\n",
       "          [5.7037592e-02, 1.0764399e-01, 1.6249366e-01],\n",
       "          [5.8277443e-02, 1.0955344e-01, 1.6503212e-01],\n",
       "          [5.7657517e-02, 1.0233023e-01, 1.6084918e-01]],\n",
       " \n",
       "         ...,\n",
       " \n",
       "         [[0.0000000e+00, 0.0000000e+00, 0.0000000e+00],\n",
       "          [0.0000000e+00, 0.0000000e+00, 0.0000000e+00],\n",
       "          [0.0000000e+00, 0.0000000e+00, 0.0000000e+00],\n",
       "          ...,\n",
       "          [0.0000000e+00, 0.0000000e+00, 0.0000000e+00],\n",
       "          [0.0000000e+00, 0.0000000e+00, 0.0000000e+00],\n",
       "          [0.0000000e+00, 0.0000000e+00, 0.0000000e+00]],\n",
       " \n",
       "         [[0.0000000e+00, 0.0000000e+00, 0.0000000e+00],\n",
       "          [0.0000000e+00, 0.0000000e+00, 0.0000000e+00],\n",
       "          [0.0000000e+00, 0.0000000e+00, 0.0000000e+00],\n",
       "          ...,\n",
       "          [0.0000000e+00, 0.0000000e+00, 0.0000000e+00],\n",
       "          [0.0000000e+00, 0.0000000e+00, 0.0000000e+00],\n",
       "          [0.0000000e+00, 0.0000000e+00, 0.0000000e+00]],\n",
       " \n",
       "         [[0.0000000e+00, 0.0000000e+00, 0.0000000e+00],\n",
       "          [0.0000000e+00, 0.0000000e+00, 0.0000000e+00],\n",
       "          [0.0000000e+00, 0.0000000e+00, 0.0000000e+00],\n",
       "          ...,\n",
       "          [0.0000000e+00, 0.0000000e+00, 0.0000000e+00],\n",
       "          [0.0000000e+00, 0.0000000e+00, 0.0000000e+00],\n",
       "          [0.0000000e+00, 0.0000000e+00, 0.0000000e+00]]],\n",
       " \n",
       " \n",
       "        [[[0.0000000e+00, 0.0000000e+00, 0.0000000e+00],\n",
       "          [1.0110295e-03, 1.0110295e-03, 1.0110295e-03],\n",
       "          [5.6066178e-03, 5.6066178e-03, 5.6066178e-03],\n",
       "          ...,\n",
       "          [0.0000000e+00, 0.0000000e+00, 0.0000000e+00],\n",
       "          [0.0000000e+00, 0.0000000e+00, 0.0000000e+00],\n",
       "          [0.0000000e+00, 0.0000000e+00, 0.0000000e+00]],\n",
       " \n",
       "         [[0.0000000e+00, 0.0000000e+00, 0.0000000e+00],\n",
       "          [1.0110295e-03, 1.0110295e-03, 1.0110295e-03],\n",
       "          [5.6066178e-03, 5.6066178e-03, 5.6066178e-03],\n",
       "          ...,\n",
       "          [0.0000000e+00, 0.0000000e+00, 0.0000000e+00],\n",
       "          [0.0000000e+00, 0.0000000e+00, 0.0000000e+00],\n",
       "          [0.0000000e+00, 0.0000000e+00, 0.0000000e+00]],\n",
       " \n",
       "         [[0.0000000e+00, 0.0000000e+00, 0.0000000e+00],\n",
       "          [1.0110295e-03, 1.0110295e-03, 1.0110295e-03],\n",
       "          [5.6066178e-03, 5.6066178e-03, 5.6066178e-03],\n",
       "          ...,\n",
       "          [0.0000000e+00, 0.0000000e+00, 0.0000000e+00],\n",
       "          [0.0000000e+00, 0.0000000e+00, 0.0000000e+00],\n",
       "          [0.0000000e+00, 0.0000000e+00, 0.0000000e+00]],\n",
       " \n",
       "         ...,\n",
       " \n",
       "         [[0.0000000e+00, 0.0000000e+00, 0.0000000e+00],\n",
       "          [1.0110295e-03, 1.0110295e-03, 3.3700981e-04],\n",
       "          [5.6066178e-03, 5.6066178e-03, 1.8688726e-03],\n",
       "          ...,\n",
       "          [0.0000000e+00, 0.0000000e+00, 0.0000000e+00],\n",
       "          [0.0000000e+00, 0.0000000e+00, 0.0000000e+00],\n",
       "          [0.0000000e+00, 0.0000000e+00, 0.0000000e+00]],\n",
       " \n",
       "         [[0.0000000e+00, 0.0000000e+00, 0.0000000e+00],\n",
       "          [1.0110295e-03, 1.0110295e-03, 3.3700981e-04],\n",
       "          [5.6066178e-03, 5.6066178e-03, 1.8688726e-03],\n",
       "          ...,\n",
       "          [0.0000000e+00, 0.0000000e+00, 0.0000000e+00],\n",
       "          [0.0000000e+00, 0.0000000e+00, 0.0000000e+00],\n",
       "          [0.0000000e+00, 0.0000000e+00, 0.0000000e+00]],\n",
       " \n",
       "         [[0.0000000e+00, 0.0000000e+00, 0.0000000e+00],\n",
       "          [1.0110295e-03, 1.0110295e-03, 3.3700981e-04],\n",
       "          [5.6066178e-03, 5.6066178e-03, 1.8688726e-03],\n",
       "          ...,\n",
       "          [0.0000000e+00, 0.0000000e+00, 0.0000000e+00],\n",
       "          [0.0000000e+00, 0.0000000e+00, 0.0000000e+00],\n",
       "          [0.0000000e+00, 0.0000000e+00, 0.0000000e+00]]],\n",
       " \n",
       " \n",
       "        [[[1.0000000e+00, 4.6128982e-01, 6.8750769e-01],\n",
       "          [1.0000000e+00, 3.9607844e-01, 6.5490198e-01],\n",
       "          [1.0000000e+00, 3.9607844e-01, 6.5490198e-01],\n",
       "          ...,\n",
       "          [5.5686277e-01, 7.6078433e-01, 1.0000000e+00],\n",
       "          [5.5686277e-01, 7.6078433e-01, 1.0000000e+00],\n",
       "          [5.8946842e-01, 7.7527571e-01, 1.0000000e+00]],\n",
       " \n",
       "         [[1.0000000e+00, 4.6128982e-01, 6.8750769e-01],\n",
       "          [1.0000000e+00, 3.9607844e-01, 6.5490198e-01],\n",
       "          [1.0000000e+00, 3.9607844e-01, 6.5490198e-01],\n",
       "          ...,\n",
       "          [5.5686277e-01, 7.6078433e-01, 1.0000000e+00],\n",
       "          [5.5686277e-01, 7.6078433e-01, 1.0000000e+00],\n",
       "          [5.8946842e-01, 7.7527571e-01, 1.0000000e+00]],\n",
       " \n",
       "         [[1.0000000e+00, 4.6128982e-01, 6.8750769e-01],\n",
       "          [1.0000000e+00, 3.9607844e-01, 6.5490198e-01],\n",
       "          [1.0000000e+00, 3.9607844e-01, 6.5490198e-01],\n",
       "          ...,\n",
       "          [5.5686277e-01, 7.6078433e-01, 1.0000000e+00],\n",
       "          [5.5686277e-01, 7.6078433e-01, 1.0000000e+00],\n",
       "          [5.8946842e-01, 7.7527571e-01, 1.0000000e+00]],\n",
       " \n",
       "         ...,\n",
       " \n",
       "         [[5.8946842e-01, 7.7527571e-01, 1.0000000e+00],\n",
       "          [5.5686277e-01, 7.6078433e-01, 1.0000000e+00],\n",
       "          [5.5686277e-01, 7.6078433e-01, 1.0000000e+00],\n",
       "          ...,\n",
       "          [1.0000000e+00, 1.0000000e+00, 1.0000000e+00],\n",
       "          [1.0000000e+00, 1.0000000e+00, 1.0000000e+00],\n",
       "          [1.0000000e+00, 1.0000000e+00, 1.0000000e+00]],\n",
       " \n",
       "         [[5.8946842e-01, 7.7527571e-01, 1.0000000e+00],\n",
       "          [5.5686277e-01, 7.6078433e-01, 1.0000000e+00],\n",
       "          [5.5686277e-01, 7.6078433e-01, 1.0000000e+00],\n",
       "          ...,\n",
       "          [1.0000000e+00, 1.0000000e+00, 1.0000000e+00],\n",
       "          [1.0000000e+00, 1.0000000e+00, 1.0000000e+00],\n",
       "          [1.0000000e+00, 1.0000000e+00, 1.0000000e+00]],\n",
       " \n",
       "         [[5.8946842e-01, 7.7527571e-01, 1.0000000e+00],\n",
       "          [5.5686277e-01, 7.6078433e-01, 1.0000000e+00],\n",
       "          [5.5686277e-01, 7.6078433e-01, 1.0000000e+00],\n",
       "          ...,\n",
       "          [1.0000000e+00, 1.0000000e+00, 1.0000000e+00],\n",
       "          [1.0000000e+00, 1.0000000e+00, 1.0000000e+00],\n",
       "          [1.0000000e+00, 1.0000000e+00, 1.0000000e+00]]]], dtype=float32),\n",
       " array([1, 0, 1, 0, 1, 1, 1, 1, 1, 1, 1, 0, 0, 1, 1, 1, 1, 0, 1, 0, 0, 1,\n",
       "        0, 1, 0, 1, 0, 1, 0, 1, 1, 1]))"
      ]
     },
     "execution_count": 14,
     "metadata": {},
     "output_type": "execute_result"
    }
   ],
   "source": [
    "data.as_numpy_iterator().next()"
   ]
  },
  {
   "cell_type": "markdown",
   "metadata": {},
   "source": [
    "# 5. Split Data"
   ]
  },
  {
   "cell_type": "code",
   "execution_count": 15,
   "metadata": {},
   "outputs": [
    {
     "name": "stdout",
     "output_type": "stream",
     "text": [
      "23 6 3\n"
     ]
    }
   ],
   "source": [
    "train_size = int(len(data)*.7)\n",
    "val_size = int(len(data)*.2)\n",
    "test_size = int(len(data)*.1)\n",
    "print(train_size, val_size, test_size)"
   ]
  },
  {
   "cell_type": "code",
   "execution_count": 16,
   "metadata": {},
   "outputs": [
    {
     "data": {
      "text/plain": [
       "23"
      ]
     },
     "execution_count": 16,
     "metadata": {},
     "output_type": "execute_result"
    }
   ],
   "source": [
    "train_size"
   ]
  },
  {
   "cell_type": "code",
   "execution_count": 17,
   "metadata": {},
   "outputs": [
    {
     "name": "stdout",
     "output_type": "stream",
     "text": [
      "<TakeDataset element_spec=(TensorSpec(shape=(None, 256, 256, 3), dtype=tf.float32, name=None), TensorSpec(shape=(None,), dtype=tf.int32, name=None))>\n"
     ]
    }
   ],
   "source": [
    "train = data.take(train_size)\n",
    "val = data.skip(train_size).take(val_size)\n",
    "test = data.skip(train_size+val_size).take(test_size)\n",
    "print(test)"
   ]
  },
  {
   "cell_type": "markdown",
   "metadata": {},
   "source": [
    "# 6. Build Deep Learning Model"
   ]
  },
  {
   "cell_type": "code",
   "execution_count": 18,
   "metadata": {},
   "outputs": [
    {
     "data": {
      "text/plain": [
       "<TakeDataset element_spec=(TensorSpec(shape=(None, 256, 256, 3), dtype=tf.float32, name=None), TensorSpec(shape=(None,), dtype=tf.int32, name=None))>"
      ]
     },
     "execution_count": 18,
     "metadata": {},
     "output_type": "execute_result"
    }
   ],
   "source": [
    "train"
   ]
  },
  {
   "cell_type": "code",
   "execution_count": 19,
   "metadata": {},
   "outputs": [],
   "source": [
    "from tensorflow.keras.models import Sequential\n",
    "from tensorflow.keras.layers import Conv2D, MaxPooling2D, Dense, Flatten, Dropout"
   ]
  },
  {
   "cell_type": "code",
   "execution_count": 20,
   "metadata": {},
   "outputs": [],
   "source": [
    "model = Sequential()"
   ]
  },
  {
   "cell_type": "code",
   "execution_count": 21,
   "metadata": {},
   "outputs": [],
   "source": [
    "model.add(Conv2D(16, (3,3), 1, activation='relu', input_shape=(256,256,3)))\n",
    "model.add(MaxPooling2D())\n",
    "model.add(Conv2D(32, (3,3), 1, activation='relu'))\n",
    "model.add(MaxPooling2D())\n",
    "model.add(Conv2D(16, (3,3), 1, activation='relu'))\n",
    "model.add(MaxPooling2D())\n",
    "model.add(Flatten())\n",
    "model.add(Dense(256, activation='relu'))\n",
    "model.add(Dense(1, activation='sigmoid'))"
   ]
  },
  {
   "cell_type": "code",
   "execution_count": 22,
   "metadata": {},
   "outputs": [],
   "source": [
    "model.compile('adam', loss=tf.losses.BinaryCrossentropy(), metrics=['accuracy'])"
   ]
  },
  {
   "cell_type": "code",
   "execution_count": 23,
   "metadata": {
    "tags": []
   },
   "outputs": [
    {
     "name": "stdout",
     "output_type": "stream",
     "text": [
      "Model: \"sequential\"\n",
      "_________________________________________________________________\n",
      " Layer (type)                Output Shape              Param #   \n",
      "=================================================================\n",
      " conv2d (Conv2D)             (None, 254, 254, 16)      448       \n",
      "                                                                 \n",
      " max_pooling2d (MaxPooling2D  (None, 127, 127, 16)     0         \n",
      " )                                                               \n",
      "                                                                 \n",
      " conv2d_1 (Conv2D)           (None, 125, 125, 32)      4640      \n",
      "                                                                 \n",
      " max_pooling2d_1 (MaxPooling  (None, 62, 62, 32)       0         \n",
      " 2D)                                                             \n",
      "                                                                 \n",
      " conv2d_2 (Conv2D)           (None, 60, 60, 16)        4624      \n",
      "                                                                 \n",
      " max_pooling2d_2 (MaxPooling  (None, 30, 30, 16)       0         \n",
      " 2D)                                                             \n",
      "                                                                 \n",
      " flatten (Flatten)           (None, 14400)             0         \n",
      "                                                                 \n",
      " dense (Dense)               (None, 256)               3686656   \n",
      "                                                                 \n",
      " dense_1 (Dense)             (None, 1)                 257       \n",
      "                                                                 \n",
      "=================================================================\n",
      "Total params: 3,696,625\n",
      "Trainable params: 3,696,625\n",
      "Non-trainable params: 0\n",
      "_________________________________________________________________\n"
     ]
    }
   ],
   "source": [
    "model.summary()"
   ]
  },
  {
   "cell_type": "markdown",
   "metadata": {},
   "source": [
    "# 7. Train"
   ]
  },
  {
   "cell_type": "code",
   "execution_count": 24,
   "metadata": {},
   "outputs": [],
   "source": [
    "logdir='I:/College/image-classifier/logs'"
   ]
  },
  {
   "cell_type": "code",
   "execution_count": 25,
   "metadata": {},
   "outputs": [],
   "source": [
    "tensorboard_callback = tf.keras.callbacks.TensorBoard(log_dir=logdir)"
   ]
  },
  {
   "cell_type": "code",
   "execution_count": 26,
   "metadata": {
    "scrolled": false,
    "tags": []
   },
   "outputs": [
    {
     "name": "stdout",
     "output_type": "stream",
     "text": [
      "Epoch 1/150\n",
      "23/23 [==============================] - 73s 3s/step - loss: 0.4739 - accuracy: 0.8043 - val_loss: 0.7492 - val_accuracy: 0.7344\n",
      "Epoch 2/150\n",
      "23/23 [==============================] - 65s 3s/step - loss: 0.2845 - accuracy: 0.9022 - val_loss: 0.2508 - val_accuracy: 0.9062\n",
      "Epoch 3/150\n",
      "23/23 [==============================] - 73s 3s/step - loss: 0.1578 - accuracy: 0.9402 - val_loss: 0.1525 - val_accuracy: 0.9479\n",
      "Epoch 4/150\n",
      "23/23 [==============================] - 64s 3s/step - loss: 0.1233 - accuracy: 0.9606 - val_loss: 0.1832 - val_accuracy: 0.9115\n",
      "Epoch 5/150\n",
      "23/23 [==============================] - 64s 3s/step - loss: 0.0949 - accuracy: 0.9742 - val_loss: 0.1134 - val_accuracy: 0.9375\n",
      "Epoch 6/150\n",
      "23/23 [==============================] - 61s 3s/step - loss: 0.1069 - accuracy: 0.9633 - val_loss: 0.0914 - val_accuracy: 0.9583\n",
      "Epoch 7/150\n",
      "23/23 [==============================] - 70s 3s/step - loss: 0.0759 - accuracy: 0.9715 - val_loss: 0.0885 - val_accuracy: 0.9688\n",
      "Epoch 8/150\n",
      "23/23 [==============================] - 68s 3s/step - loss: 0.0528 - accuracy: 0.9837 - val_loss: 0.0609 - val_accuracy: 0.9688\n",
      "Epoch 9/150\n",
      "23/23 [==============================] - 58s 2s/step - loss: 0.0375 - accuracy: 0.9878 - val_loss: 0.0841 - val_accuracy: 0.9740\n",
      "Epoch 10/150\n",
      "23/23 [==============================] - 68s 3s/step - loss: 0.0304 - accuracy: 0.9932 - val_loss: 0.0766 - val_accuracy: 0.9688\n",
      "Epoch 11/150\n",
      "23/23 [==============================] - 69s 3s/step - loss: 0.0281 - accuracy: 0.9918 - val_loss: 0.0514 - val_accuracy: 0.9740\n",
      "Epoch 12/150\n",
      "23/23 [==============================] - 77s 3s/step - loss: 0.0175 - accuracy: 0.9959 - val_loss: 0.0380 - val_accuracy: 0.9844\n",
      "Epoch 13/150\n",
      "23/23 [==============================] - 70s 3s/step - loss: 0.0163 - accuracy: 0.9973 - val_loss: 0.0134 - val_accuracy: 0.9948\n",
      "Epoch 14/150\n",
      "23/23 [==============================] - 68s 3s/step - loss: 0.0310 - accuracy: 0.9959 - val_loss: 0.1471 - val_accuracy: 0.9583\n",
      "Epoch 15/150\n",
      "23/23 [==============================] - 58s 2s/step - loss: 0.0332 - accuracy: 0.9891 - val_loss: 0.0662 - val_accuracy: 0.9635\n",
      "Epoch 16/150\n",
      "23/23 [==============================] - 56s 2s/step - loss: 0.0122 - accuracy: 0.9973 - val_loss: 0.0527 - val_accuracy: 0.9792\n",
      "Epoch 17/150\n",
      "23/23 [==============================] - 55s 2s/step - loss: 0.0138 - accuracy: 0.9946 - val_loss: 0.0522 - val_accuracy: 0.9740\n",
      "Epoch 18/150\n",
      "23/23 [==============================] - 57s 2s/step - loss: 0.0178 - accuracy: 0.9918 - val_loss: 0.0654 - val_accuracy: 0.9740\n",
      "Epoch 19/150\n",
      "23/23 [==============================] - 57s 2s/step - loss: 0.0223 - accuracy: 0.9905 - val_loss: 0.0717 - val_accuracy: 0.9844\n",
      "Epoch 20/150\n",
      "23/23 [==============================] - 78s 3s/step - loss: 0.0566 - accuracy: 0.9837 - val_loss: 0.0985 - val_accuracy: 0.9583\n",
      "Epoch 21/150\n",
      "23/23 [==============================] - 64s 3s/step - loss: 0.0129 - accuracy: 0.9959 - val_loss: 0.0392 - val_accuracy: 0.9896\n",
      "Epoch 22/150\n",
      "23/23 [==============================] - 66s 3s/step - loss: 0.0062 - accuracy: 0.9986 - val_loss: 0.0479 - val_accuracy: 0.9948\n",
      "Epoch 23/150\n",
      "23/23 [==============================] - 65s 3s/step - loss: 0.0051 - accuracy: 0.9986 - val_loss: 0.0512 - val_accuracy: 0.9896\n",
      "Epoch 24/150\n",
      "23/23 [==============================] - 66s 3s/step - loss: 0.0029 - accuracy: 0.9986 - val_loss: 0.0556 - val_accuracy: 0.9844\n",
      "Epoch 25/150\n",
      "23/23 [==============================] - 65s 3s/step - loss: 0.0013 - accuracy: 1.0000 - val_loss: 0.0467 - val_accuracy: 0.9948\n",
      "Epoch 26/150\n",
      "23/23 [==============================] - 64s 3s/step - loss: 8.0169e-04 - accuracy: 1.0000 - val_loss: 0.0683 - val_accuracy: 0.9792\n",
      "Epoch 27/150\n",
      "23/23 [==============================] - 64s 3s/step - loss: 4.0881e-04 - accuracy: 1.0000 - val_loss: 0.0625 - val_accuracy: 0.9896\n",
      "Epoch 28/150\n",
      "23/23 [==============================] - 64s 3s/step - loss: 5.4983e-04 - accuracy: 1.0000 - val_loss: 0.0131 - val_accuracy: 0.9948\n",
      "Epoch 29/150\n",
      "23/23 [==============================] - 63s 3s/step - loss: 6.0434e-04 - accuracy: 1.0000 - val_loss: 0.0825 - val_accuracy: 0.9792\n",
      "Epoch 30/150\n",
      "23/23 [==============================] - 78s 3s/step - loss: 3.1769e-04 - accuracy: 1.0000 - val_loss: 0.0780 - val_accuracy: 0.9896\n",
      "Epoch 31/150\n",
      "23/23 [==============================] - 62s 3s/step - loss: 2.8857e-04 - accuracy: 1.0000 - val_loss: 0.0282 - val_accuracy: 0.9896\n",
      "Epoch 32/150\n",
      "23/23 [==============================] - 58s 2s/step - loss: 1.7207e-04 - accuracy: 1.0000 - val_loss: 0.0146 - val_accuracy: 0.9948\n",
      "Epoch 33/150\n",
      "23/23 [==============================] - 51s 2s/step - loss: 0.0065 - accuracy: 0.9986 - val_loss: 0.0799 - val_accuracy: 0.9844\n",
      "Epoch 34/150\n",
      "23/23 [==============================] - 53s 2s/step - loss: 0.0160 - accuracy: 0.9918 - val_loss: 0.0594 - val_accuracy: 0.9844\n",
      "Epoch 35/150\n",
      "23/23 [==============================] - 54s 2s/step - loss: 0.0105 - accuracy: 0.9959 - val_loss: 0.1341 - val_accuracy: 0.9740\n",
      "Epoch 36/150\n",
      "23/23 [==============================] - 61s 3s/step - loss: 0.0027 - accuracy: 0.9986 - val_loss: 0.0370 - val_accuracy: 0.9844\n",
      "Epoch 37/150\n",
      "23/23 [==============================] - 69s 3s/step - loss: 0.0047 - accuracy: 0.9973 - val_loss: 0.0364 - val_accuracy: 0.9948\n",
      "Epoch 38/150\n",
      "23/23 [==============================] - 56s 2s/step - loss: 0.0055 - accuracy: 0.9986 - val_loss: 0.0416 - val_accuracy: 0.9948\n",
      "Epoch 39/150\n",
      "23/23 [==============================] - 52s 2s/step - loss: 0.0029 - accuracy: 0.9986 - val_loss: 0.0811 - val_accuracy: 0.9635\n",
      "Epoch 40/150\n",
      "23/23 [==============================] - 54s 2s/step - loss: 0.0896 - accuracy: 0.9674 - val_loss: 0.1000 - val_accuracy: 0.9635\n",
      "Epoch 41/150\n",
      "23/23 [==============================] - 55s 2s/step - loss: 0.0564 - accuracy: 0.9810 - val_loss: 0.0615 - val_accuracy: 0.9792\n",
      "Epoch 42/150\n",
      "23/23 [==============================] - 51s 2s/step - loss: 0.0098 - accuracy: 0.9973 - val_loss: 0.0343 - val_accuracy: 0.9844\n",
      "Epoch 43/150\n",
      "23/23 [==============================] - 52s 2s/step - loss: 0.0040 - accuracy: 0.9986 - val_loss: 0.0434 - val_accuracy: 0.9844\n",
      "Epoch 44/150\n",
      "23/23 [==============================] - 51s 2s/step - loss: 0.0021 - accuracy: 1.0000 - val_loss: 0.0446 - val_accuracy: 0.9844\n",
      "Epoch 45/150\n",
      "23/23 [==============================] - 52s 2s/step - loss: 0.0012 - accuracy: 1.0000 - val_loss: 0.0208 - val_accuracy: 0.9844\n",
      "Epoch 46/150\n",
      "23/23 [==============================] - 51s 2s/step - loss: 5.7742e-04 - accuracy: 1.0000 - val_loss: 0.0185 - val_accuracy: 0.9896\n",
      "Epoch 47/150\n",
      "23/23 [==============================] - 51s 2s/step - loss: 4.0406e-04 - accuracy: 1.0000 - val_loss: 0.0320 - val_accuracy: 0.9896\n",
      "Epoch 48/150\n",
      "23/23 [==============================] - 51s 2s/step - loss: 2.8237e-04 - accuracy: 1.0000 - val_loss: 0.0312 - val_accuracy: 0.9896\n",
      "Epoch 49/150\n",
      "23/23 [==============================] - 51s 2s/step - loss: 2.0425e-04 - accuracy: 1.0000 - val_loss: 0.0321 - val_accuracy: 0.9896\n",
      "Epoch 50/150\n",
      "23/23 [==============================] - 51s 2s/step - loss: 1.8930e-04 - accuracy: 1.0000 - val_loss: 0.0427 - val_accuracy: 0.9896\n",
      "Epoch 51/150\n",
      "23/23 [==============================] - 53s 2s/step - loss: 1.6838e-04 - accuracy: 1.0000 - val_loss: 0.0165 - val_accuracy: 0.9896\n",
      "Epoch 52/150\n",
      "23/23 [==============================] - 53s 2s/step - loss: 1.3185e-04 - accuracy: 1.0000 - val_loss: 0.0488 - val_accuracy: 0.9844\n",
      "Epoch 53/150\n",
      "23/23 [==============================] - 51s 2s/step - loss: 7.4601e-05 - accuracy: 1.0000 - val_loss: 0.0339 - val_accuracy: 0.9844\n",
      "Epoch 54/150\n",
      "23/23 [==============================] - 51s 2s/step - loss: 1.0104e-04 - accuracy: 1.0000 - val_loss: 0.0485 - val_accuracy: 0.9896\n",
      "Epoch 55/150\n",
      "23/23 [==============================] - 51s 2s/step - loss: 1.0653e-04 - accuracy: 1.0000 - val_loss: 0.0740 - val_accuracy: 0.9740\n",
      "Epoch 56/150\n",
      "23/23 [==============================] - 50s 2s/step - loss: 7.0340e-05 - accuracy: 1.0000 - val_loss: 0.0201 - val_accuracy: 0.9948\n",
      "Epoch 57/150\n",
      "23/23 [==============================] - 51s 2s/step - loss: 6.7410e-05 - accuracy: 1.0000 - val_loss: 0.0768 - val_accuracy: 0.9792\n",
      "Epoch 58/150\n"
     ]
    },
    {
     "name": "stdout",
     "output_type": "stream",
     "text": [
      "23/23 [==============================] - 50s 2s/step - loss: 8.4695e-05 - accuracy: 1.0000 - val_loss: 0.0495 - val_accuracy: 0.9844\n",
      "Epoch 59/150\n",
      "23/23 [==============================] - 50s 2s/step - loss: 6.5836e-05 - accuracy: 1.0000 - val_loss: 0.0467 - val_accuracy: 0.9896\n",
      "Epoch 60/150\n",
      "23/23 [==============================] - 52s 2s/step - loss: 7.3200e-05 - accuracy: 1.0000 - val_loss: 0.0446 - val_accuracy: 0.9844\n",
      "Epoch 61/150\n",
      "23/23 [==============================] - 55s 2s/step - loss: 0.0042 - accuracy: 0.9986 - val_loss: 0.0900 - val_accuracy: 0.9844\n",
      "Epoch 62/150\n",
      "23/23 [==============================] - 52s 2s/step - loss: 0.0040 - accuracy: 1.0000 - val_loss: 0.0217 - val_accuracy: 0.9896\n",
      "Epoch 63/150\n",
      "23/23 [==============================] - 50s 2s/step - loss: 0.0031 - accuracy: 1.0000 - val_loss: 0.0251 - val_accuracy: 0.9948\n",
      "Epoch 64/150\n",
      "23/23 [==============================] - 51s 2s/step - loss: 4.6553e-04 - accuracy: 1.0000 - val_loss: 0.0221 - val_accuracy: 0.9896\n",
      "Epoch 65/150\n",
      "23/23 [==============================] - 52s 2s/step - loss: 1.9393e-04 - accuracy: 1.0000 - val_loss: 0.0273 - val_accuracy: 0.9844\n",
      "Epoch 66/150\n",
      "23/23 [==============================] - 50s 2s/step - loss: 4.2965e-04 - accuracy: 1.0000 - val_loss: 0.0226 - val_accuracy: 0.9844\n",
      "Epoch 67/150\n",
      "23/23 [==============================] - 56s 2s/step - loss: 1.9767e-04 - accuracy: 1.0000 - val_loss: 0.0189 - val_accuracy: 0.9948\n",
      "Epoch 68/150\n",
      "23/23 [==============================] - 55s 2s/step - loss: 1.3762e-04 - accuracy: 1.0000 - val_loss: 0.0112 - val_accuracy: 0.9948\n",
      "Epoch 69/150\n",
      "23/23 [==============================] - 53s 2s/step - loss: 1.3604e-04 - accuracy: 1.0000 - val_loss: 0.0138 - val_accuracy: 0.9948\n",
      "Epoch 70/150\n",
      "23/23 [==============================] - 59s 2s/step - loss: 1.6934e-04 - accuracy: 1.0000 - val_loss: 0.0159 - val_accuracy: 0.9896\n",
      "Epoch 71/150\n",
      "23/23 [==============================] - 52s 2s/step - loss: 7.4925e-05 - accuracy: 1.0000 - val_loss: 0.0161 - val_accuracy: 0.9896\n",
      "Epoch 72/150\n",
      "23/23 [==============================] - 50s 2s/step - loss: 1.0693e-04 - accuracy: 1.0000 - val_loss: 0.0119 - val_accuracy: 0.9948\n",
      "Epoch 73/150\n",
      "23/23 [==============================] - 49s 2s/step - loss: 5.7482e-05 - accuracy: 1.0000 - val_loss: 0.0318 - val_accuracy: 0.9792\n",
      "Epoch 74/150\n",
      "23/23 [==============================] - 50s 2s/step - loss: 7.1868e-05 - accuracy: 1.0000 - val_loss: 0.0268 - val_accuracy: 0.9844\n",
      "Epoch 75/150\n",
      "23/23 [==============================] - 51s 2s/step - loss: 6.6698e-05 - accuracy: 1.0000 - val_loss: 0.0281 - val_accuracy: 0.9844\n",
      "Epoch 76/150\n",
      "23/23 [==============================] - 51s 2s/step - loss: 5.3998e-05 - accuracy: 1.0000 - val_loss: 0.0106 - val_accuracy: 0.9948\n",
      "Epoch 77/150\n",
      "23/23 [==============================] - 50s 2s/step - loss: 5.6785e-05 - accuracy: 1.0000 - val_loss: 0.0118 - val_accuracy: 0.9896\n",
      "Epoch 78/150\n",
      "23/23 [==============================] - 50s 2s/step - loss: 3.9151e-05 - accuracy: 1.0000 - val_loss: 0.0082 - val_accuracy: 0.9948\n",
      "Epoch 79/150\n",
      "23/23 [==============================] - 49s 2s/step - loss: 3.1582e-05 - accuracy: 1.0000 - val_loss: 0.0402 - val_accuracy: 0.9844\n",
      "Epoch 80/150\n",
      "23/23 [==============================] - 50s 2s/step - loss: 4.1407e-05 - accuracy: 1.0000 - val_loss: 0.0303 - val_accuracy: 0.9896\n",
      "Epoch 81/150\n",
      "23/23 [==============================] - 49s 2s/step - loss: 4.0775e-05 - accuracy: 1.0000 - val_loss: 5.2633e-04 - val_accuracy: 1.0000\n",
      "Epoch 82/150\n",
      "23/23 [==============================] - 49s 2s/step - loss: 3.0409e-05 - accuracy: 1.0000 - val_loss: 0.0313 - val_accuracy: 0.9844\n",
      "Epoch 83/150\n",
      "23/23 [==============================] - 49s 2s/step - loss: 3.4127e-05 - accuracy: 1.0000 - val_loss: 0.0116 - val_accuracy: 0.9948\n",
      "Epoch 84/150\n",
      "23/23 [==============================] - 54s 2s/step - loss: 4.0692e-05 - accuracy: 1.0000 - val_loss: 0.0233 - val_accuracy: 0.9948\n",
      "Epoch 85/150\n",
      "23/23 [==============================] - 59s 2s/step - loss: 3.1449e-05 - accuracy: 1.0000 - val_loss: 0.0088 - val_accuracy: 0.9948\n",
      "Epoch 86/150\n",
      "23/23 [==============================] - 58s 2s/step - loss: 1.6676e-04 - accuracy: 1.0000 - val_loss: 0.0411 - val_accuracy: 0.9844\n",
      "Epoch 87/150\n",
      "23/23 [==============================] - 57s 2s/step - loss: 3.7861e-05 - accuracy: 1.0000 - val_loss: 0.0208 - val_accuracy: 0.9896\n",
      "Epoch 88/150\n",
      "23/23 [==============================] - 53s 2s/step - loss: 3.6362e-05 - accuracy: 1.0000 - val_loss: 0.0229 - val_accuracy: 0.9896\n",
      "Epoch 89/150\n",
      "23/23 [==============================] - 51s 2s/step - loss: 3.0499e-05 - accuracy: 1.0000 - val_loss: 0.0140 - val_accuracy: 0.9948\n",
      "Epoch 90/150\n",
      "23/23 [==============================] - 51s 2s/step - loss: 2.5783e-05 - accuracy: 1.0000 - val_loss: 5.9021e-04 - val_accuracy: 1.0000\n",
      "Epoch 91/150\n",
      "23/23 [==============================] - 56s 2s/step - loss: 2.4444e-05 - accuracy: 1.0000 - val_loss: 0.0158 - val_accuracy: 0.9948\n",
      "Epoch 92/150\n",
      "23/23 [==============================] - 63s 3s/step - loss: 2.6246e-05 - accuracy: 1.0000 - val_loss: 0.0358 - val_accuracy: 0.9896\n",
      "Epoch 93/150\n",
      "23/23 [==============================] - 54s 2s/step - loss: 2.2059e-05 - accuracy: 1.0000 - val_loss: 0.0101 - val_accuracy: 0.9948\n",
      "Epoch 94/150\n",
      "23/23 [==============================] - 50s 2s/step - loss: 2.4085e-05 - accuracy: 1.0000 - val_loss: 0.0438 - val_accuracy: 0.9844\n",
      "Epoch 95/150\n",
      "23/23 [==============================] - 50s 2s/step - loss: 2.2002e-05 - accuracy: 1.0000 - val_loss: 0.0232 - val_accuracy: 0.9948\n",
      "Epoch 96/150\n",
      "23/23 [==============================] - 50s 2s/step - loss: 1.6613e-05 - accuracy: 1.0000 - val_loss: 0.0344 - val_accuracy: 0.9896\n",
      "Epoch 97/150\n",
      "23/23 [==============================] - 50s 2s/step - loss: 1.9679e-05 - accuracy: 1.0000 - val_loss: 0.0355 - val_accuracy: 0.9896\n",
      "Epoch 98/150\n",
      "23/23 [==============================] - 52s 2s/step - loss: 1.9479e-05 - accuracy: 1.0000 - val_loss: 0.0021 - val_accuracy: 1.0000\n",
      "Epoch 99/150\n",
      "23/23 [==============================] - 50s 2s/step - loss: 1.6812e-05 - accuracy: 1.0000 - val_loss: 0.0142 - val_accuracy: 0.9948\n",
      "Epoch 100/150\n",
      "23/23 [==============================] - 50s 2s/step - loss: 1.8722e-05 - accuracy: 1.0000 - val_loss: 0.0261 - val_accuracy: 0.9948\n",
      "Epoch 101/150\n",
      "23/23 [==============================] - 50s 2s/step - loss: 2.3398e-05 - accuracy: 1.0000 - val_loss: 0.0377 - val_accuracy: 0.9896\n",
      "Epoch 102/150\n",
      "23/23 [==============================] - 50s 2s/step - loss: 1.4141e-05 - accuracy: 1.0000 - val_loss: 0.0215 - val_accuracy: 0.9896\n",
      "Epoch 103/150\n",
      "23/23 [==============================] - 55s 2s/step - loss: 1.2575e-05 - accuracy: 1.0000 - val_loss: 0.0263 - val_accuracy: 0.9948\n",
      "Epoch 104/150\n",
      "23/23 [==============================] - 50s 2s/step - loss: 1.5339e-05 - accuracy: 1.0000 - val_loss: 0.0101 - val_accuracy: 0.9948\n",
      "Epoch 105/150\n",
      "23/23 [==============================] - 50s 2s/step - loss: 1.2464e-05 - accuracy: 1.0000 - val_loss: 0.0407 - val_accuracy: 0.9844\n",
      "Epoch 106/150\n",
      "23/23 [==============================] - 51s 2s/step - loss: 1.4350e-05 - accuracy: 1.0000 - val_loss: 0.0525 - val_accuracy: 0.9792\n",
      "Epoch 107/150\n",
      "23/23 [==============================] - 51s 2s/step - loss: 1.5066e-05 - accuracy: 1.0000 - val_loss: 0.0118 - val_accuracy: 0.9948\n",
      "Epoch 108/150\n",
      "23/23 [==============================] - 50s 2s/step - loss: 6.2086e-05 - accuracy: 1.0000 - val_loss: 0.0443 - val_accuracy: 0.9844\n",
      "Epoch 109/150\n",
      "23/23 [==============================] - 51s 2s/step - loss: 1.2414e-05 - accuracy: 1.0000 - val_loss: 0.0264 - val_accuracy: 0.9896\n",
      "Epoch 110/150\n",
      "23/23 [==============================] - 52s 2s/step - loss: 2.6739e-05 - accuracy: 1.0000 - val_loss: 0.0208 - val_accuracy: 0.9948\n",
      "Epoch 111/150\n",
      "23/23 [==============================] - 50s 2s/step - loss: 3.4074e-05 - accuracy: 1.0000 - val_loss: 0.0117 - val_accuracy: 0.9948\n",
      "Epoch 112/150\n",
      "23/23 [==============================] - 50s 2s/step - loss: 1.2836e-05 - accuracy: 1.0000 - val_loss: 0.0194 - val_accuracy: 0.9948\n",
      "Epoch 113/150\n",
      "23/23 [==============================] - 50s 2s/step - loss: 2.2371e-05 - accuracy: 1.0000 - val_loss: 0.0570 - val_accuracy: 0.9844\n",
      "Epoch 114/150\n"
     ]
    },
    {
     "name": "stdout",
     "output_type": "stream",
     "text": [
      "23/23 [==============================] - 50s 2s/step - loss: 1.3616e-05 - accuracy: 1.0000 - val_loss: 0.0268 - val_accuracy: 0.9896\n",
      "Epoch 115/150\n",
      "23/23 [==============================] - 50s 2s/step - loss: 1.5970e-05 - accuracy: 1.0000 - val_loss: 0.0221 - val_accuracy: 0.9896\n",
      "Epoch 116/150\n",
      "23/23 [==============================] - 50s 2s/step - loss: 8.7578e-06 - accuracy: 1.0000 - val_loss: 0.0281 - val_accuracy: 0.9948\n",
      "Epoch 117/150\n",
      "23/23 [==============================] - 50s 2s/step - loss: 1.1004e-05 - accuracy: 1.0000 - val_loss: 0.0427 - val_accuracy: 0.9896\n",
      "Epoch 118/150\n",
      "23/23 [==============================] - 50s 2s/step - loss: 9.6841e-06 - accuracy: 1.0000 - val_loss: 0.0015 - val_accuracy: 1.0000\n",
      "Epoch 119/150\n",
      "23/23 [==============================] - 51s 2s/step - loss: 8.6354e-06 - accuracy: 1.0000 - val_loss: 0.0138 - val_accuracy: 0.9948\n",
      "Epoch 120/150\n",
      "23/23 [==============================] - 50s 2s/step - loss: 1.0540e-05 - accuracy: 1.0000 - val_loss: 0.0449 - val_accuracy: 0.9896\n",
      "Epoch 121/150\n",
      "23/23 [==============================] - 50s 2s/step - loss: 8.5099e-06 - accuracy: 1.0000 - val_loss: 0.0230 - val_accuracy: 0.9896\n",
      "Epoch 122/150\n",
      "23/23 [==============================] - 50s 2s/step - loss: 7.5841e-06 - accuracy: 1.0000 - val_loss: 0.0142 - val_accuracy: 0.9948\n",
      "Epoch 123/150\n",
      "23/23 [==============================] - 50s 2s/step - loss: 7.4951e-06 - accuracy: 1.0000 - val_loss: 0.0264 - val_accuracy: 0.9896\n",
      "Epoch 124/150\n",
      "23/23 [==============================] - 50s 2s/step - loss: 9.6500e-06 - accuracy: 1.0000 - val_loss: 0.0588 - val_accuracy: 0.9844\n",
      "Epoch 125/150\n",
      "23/23 [==============================] - 50s 2s/step - loss: 9.0512e-06 - accuracy: 1.0000 - val_loss: 0.0590 - val_accuracy: 0.9844\n",
      "Epoch 126/150\n",
      "23/23 [==============================] - 50s 2s/step - loss: 7.6761e-06 - accuracy: 1.0000 - val_loss: 0.0162 - val_accuracy: 0.9948\n",
      "Epoch 127/150\n",
      "23/23 [==============================] - 51s 2s/step - loss: 6.4612e-06 - accuracy: 1.0000 - val_loss: 0.0023 - val_accuracy: 1.0000\n",
      "Epoch 128/150\n",
      "23/23 [==============================] - 50s 2s/step - loss: 5.9300e-06 - accuracy: 1.0000 - val_loss: 0.0514 - val_accuracy: 0.9896\n",
      "Epoch 129/150\n",
      "23/23 [==============================] - 49s 2s/step - loss: 6.4861e-06 - accuracy: 1.0000 - val_loss: 0.0369 - val_accuracy: 0.9948\n",
      "Epoch 130/150\n",
      "23/23 [==============================] - 50s 2s/step - loss: 2.2661e-05 - accuracy: 1.0000 - val_loss: 0.0030 - val_accuracy: 1.0000\n",
      "Epoch 131/150\n",
      "23/23 [==============================] - 51s 2s/step - loss: 9.1617e-06 - accuracy: 1.0000 - val_loss: 0.0136 - val_accuracy: 0.9948\n",
      "Epoch 132/150\n",
      "23/23 [==============================] - 50s 2s/step - loss: 6.5628e-06 - accuracy: 1.0000 - val_loss: 0.0438 - val_accuracy: 0.9896\n",
      "Epoch 133/150\n",
      "23/23 [==============================] - 50s 2s/step - loss: 6.7585e-06 - accuracy: 1.0000 - val_loss: 0.0300 - val_accuracy: 0.9896\n",
      "Epoch 134/150\n",
      "23/23 [==============================] - 50s 2s/step - loss: 7.4356e-06 - accuracy: 1.0000 - val_loss: 0.0287 - val_accuracy: 0.9896\n",
      "Epoch 135/150\n",
      "23/23 [==============================] - 50s 2s/step - loss: 5.4788e-06 - accuracy: 1.0000 - val_loss: 0.0173 - val_accuracy: 0.9948\n",
      "Epoch 136/150\n",
      "23/23 [==============================] - 50s 2s/step - loss: 4.9355e-06 - accuracy: 1.0000 - val_loss: 0.0628 - val_accuracy: 0.9844\n",
      "Epoch 137/150\n",
      "23/23 [==============================] - 50s 2s/step - loss: 4.6478e-06 - accuracy: 1.0000 - val_loss: 0.0674 - val_accuracy: 0.9844\n",
      "Epoch 138/150\n",
      "23/23 [==============================] - 50s 2s/step - loss: 1.5813e-05 - accuracy: 1.0000 - val_loss: 0.0399 - val_accuracy: 0.9948\n",
      "Epoch 139/150\n",
      "23/23 [==============================] - 50s 2s/step - loss: 6.0428e-06 - accuracy: 1.0000 - val_loss: 0.0407 - val_accuracy: 0.9948\n",
      "Epoch 140/150\n",
      "23/23 [==============================] - 49s 2s/step - loss: 5.7752e-06 - accuracy: 1.0000 - val_loss: 0.0023 - val_accuracy: 1.0000\n",
      "Epoch 141/150\n",
      "23/23 [==============================] - 50s 2s/step - loss: 4.4063e-06 - accuracy: 1.0000 - val_loss: 0.0325 - val_accuracy: 0.9896\n",
      "Epoch 142/150\n",
      "23/23 [==============================] - 50s 2s/step - loss: 3.9114e-06 - accuracy: 1.0000 - val_loss: 0.0524 - val_accuracy: 0.9896\n",
      "Epoch 143/150\n",
      "23/23 [==============================] - 50s 2s/step - loss: 4.0996e-06 - accuracy: 1.0000 - val_loss: 0.0195 - val_accuracy: 0.9948\n",
      "Epoch 144/150\n",
      "23/23 [==============================] - 50s 2s/step - loss: 3.8455e-06 - accuracy: 1.0000 - val_loss: 0.0546 - val_accuracy: 0.9896\n",
      "Epoch 145/150\n",
      "23/23 [==============================] - 51s 2s/step - loss: 4.6933e-06 - accuracy: 1.0000 - val_loss: 0.0542 - val_accuracy: 0.9896\n",
      "Epoch 146/150\n",
      "23/23 [==============================] - 50s 2s/step - loss: 4.4222e-06 - accuracy: 1.0000 - val_loss: 0.0545 - val_accuracy: 0.9896\n",
      "Epoch 147/150\n",
      "23/23 [==============================] - 50s 2s/step - loss: 4.4492e-06 - accuracy: 1.0000 - val_loss: 0.0701 - val_accuracy: 0.9844\n",
      "Epoch 148/150\n",
      "23/23 [==============================] - 50s 2s/step - loss: 4.8251e-06 - accuracy: 1.0000 - val_loss: 0.0387 - val_accuracy: 0.9948\n",
      "Epoch 149/150\n",
      "23/23 [==============================] - 50s 2s/step - loss: 1.1516e-05 - accuracy: 1.0000 - val_loss: 0.0201 - val_accuracy: 0.9948\n",
      "Epoch 150/150\n",
      "23/23 [==============================] - 50s 2s/step - loss: 9.0856e-06 - accuracy: 1.0000 - val_loss: 0.0752 - val_accuracy: 0.9844\n"
     ]
    }
   ],
   "source": [
    "hist = model.fit(train, epochs=150, validation_data=val, callbacks=[tensorboard_callback])"
   ]
  },
  {
   "cell_type": "markdown",
   "metadata": {},
   "source": [
    "# 8. Plot Performance"
   ]
  },
  {
   "cell_type": "code",
   "execution_count": 38,
   "metadata": {},
   "outputs": [
    {
     "data": {
      "image/png": "[encoded data removed]",
      "text/plain": [
       "<Figure size 432x288 with 1 Axes>"
      ]
     },
     "metadata": {
      "needs_background": "light"
     },
     "output_type": "display_data"
    }
   ],
   "source": [
    "fig = plt.figure()\n",
    "plt.plot(hist.history['loss'], color='teal', label='loss')\n",
    "plt.plot(hist.history['val_loss'], color='orange', label='val_loss')\n",
    "fig.suptitle('Loss', fontsize=20)\n",
    "plt.legend(loc=\"best\")\n",
    "plt.ylim([0,1])\n",
    "plt.show()"
   ]
  },
  {
   "cell_type": "code",
   "execution_count": 39,
   "metadata": {},
   "outputs": [
    {
     "data": {
      "image/png": "[encoded data removed]",
      "text/plain": [
       "<Figure size 432x288 with 1 Axes>"
      ]
     },
     "metadata": {
      "needs_background": "light"
     },
     "output_type": "display_data"
    }
   ],
   "source": [
    "fig = plt.figure()\n",
    "plt.plot(hist.history['accuracy'], color='teal', label='accuracy')\n",
    "plt.plot(hist.history['val_accuracy'], color='orange', label='val_accuracy')\n",
    "fig.suptitle('Accuracy', fontsize=20)\n",
    "plt.legend(loc=\"lower right\")\n",
    "plt.ylim([0,1])\n",
    "plt.show()"
   ]
  },
  {
   "cell_type": "code",
   "execution_count": 29,
   "metadata": {},
   "outputs": [],
   "source": [
    "# %pip install seaborn \n",
    "\n",
    "# import pandas as pd\n",
    "# import seaborn as sns\n",
    "\n",
    "# classes =[\"family\", \"others\"] \n",
    "# y_true = np.concatenate([y for x, y in data], axis=0) \n",
    "# y_pred = model.predict(data)\n",
    "\n",
    "# con_mat = tf.math.confusion_matrix(labels=y_true, predictions=y_pred).numpy()\n",
    "\n",
    "# con_mat_norm = np.around(con_mat.astype('float') / con_mat.sum(axis=1)[:, np.newaxis], decimals=2)\n",
    "\n",
    "# con_mat_df = pd.DataFrame(con_mat_norm,\n",
    "#                      index = classes, \n",
    "#                      columns = classes)\n",
    "\n",
    "\n",
    "# figure = plt.figure(figsize=(8, 8))\n",
    "# sns.heatmap(con_mat_df, annot=True,cmap=plt.cm.Blues)\n",
    "# plt.tight_layout()\n",
    "# plt.ylabel('True label')\n",
    "# plt.xlabel('Predicted label')\n",
    "# plt.show()"
   ]
  },
  {
   "cell_type": "markdown",
   "metadata": {},
   "source": [
    "# 9. Evaluate"
   ]
  },
  {
   "cell_type": "code",
   "execution_count": 30,
   "metadata": {},
   "outputs": [],
   "source": [
    "from tensorflow.keras.metrics import Precision, Recall, BinaryAccuracy"
   ]
  },
  {
   "cell_type": "code",
   "execution_count": 31,
   "metadata": {},
   "outputs": [],
   "source": [
    "pre = Precision()\n",
    "re = Recall()\n",
    "acc = BinaryAccuracy()"
   ]
  },
  {
   "cell_type": "code",
   "execution_count": 32,
   "metadata": {},
   "outputs": [
    {
     "name": "stdout",
     "output_type": "stream",
     "text": [
      "1/1 [==============================] - 1s 991ms/step\n",
      "1/1 [==============================] - 1s 572ms/step\n",
      "1/1 [==============================] - 1s 528ms/step\n"
     ]
    }
   ],
   "source": [
    "for batch in test.as_numpy_iterator(): \n",
    "    X, y = batch\n",
    "    yhat = model.predict(X)\n",
    "    pre.update_state(y, yhat)\n",
    "    re.update_state(y, yhat)\n",
    "    acc.update_state(y, yhat)"
   ]
  },
  {
   "cell_type": "code",
   "execution_count": 33,
   "metadata": {},
   "outputs": [
    {
     "name": "stdout",
     "output_type": "stream",
     "text": [
      "tf.Tensor(0.9777778, shape=(), dtype=float32) tf.Tensor(1.0, shape=(), dtype=float32) tf.Tensor(0.9895833, shape=(), dtype=float32)\n"
     ]
    }
   ],
   "source": [
    "print(pre.result(), re.result(), acc.result())"
   ]
  },
  {
   "cell_type": "markdown",
   "metadata": {},
   "source": [
    "# 10. Test"
   ]
  },
  {
   "cell_type": "code",
   "execution_count": 34,
   "metadata": {},
   "outputs": [],
   "source": [
    "import cv2"
   ]
  },
  {
   "cell_type": "code",
   "execution_count": 35,
   "metadata": {},
   "outputs": [
    {
     "data": {
      "image/png": "[encoded data removed]",
      "text/plain": [
       "<Figure size 432x288 with 1 Axes>"
      ]
     },
     "metadata": {
      "needs_background": "light"
     },
     "output_type": "display_data"
    }
   ],
   "source": [
    "img = cv2.imread('I:/College/image-classifier/class/test/others/1-2.jpg')\n",
    "plt.imshow(img)\n",
    "plt.show()"
   ]
  },
  {
   "cell_type": "code",
   "execution_count": 36,
   "metadata": {},
   "outputs": [
    {
     "ename": "NameError",
     "evalue": "name 'resize' is not defined",
     "output_type": "error",
     "traceback": [
      "\u001b[1;31m---------------------------------------------------------------------------\u001b[0m",
      "\u001b[1;31mNameError\u001b[0m                                 Traceback (most recent call last)",
      "Input \u001b[1;32mIn [36]\u001b[0m, in \u001b[0;36m<cell line: 1>\u001b[1;34m()\u001b[0m\n\u001b[1;32m----> 1\u001b[0m yhat \u001b[38;5;241m=\u001b[39m model\u001b[38;5;241m.\u001b[39mpredict(np\u001b[38;5;241m.\u001b[39mexpand_dims(\u001b[43mresize\u001b[49m\u001b[38;5;241m/\u001b[39m\u001b[38;5;241m255\u001b[39m, \u001b[38;5;241m0\u001b[39m))\n",
      "\u001b[1;31mNameError\u001b[0m: name 'resize' is not defined"
     ]
    }
   ],
   "source": [
    "yhat = model.predict(np.expand_dims(resize/255, 0))"
   ]
  },
  {
   "cell_type": "code",
   "execution_count": null,
   "metadata": {},
   "outputs": [],
   "source": [
    "yhat"
   ]
  },
  {
   "cell_type": "code",
   "execution_count": null,
   "metadata": {},
   "outputs": [],
   "source": [
    "resize = tf.image.resize(img, (256,256))\n",
    "plt.imshow(resize.numpy().astype(int))\n",
    "plt.show()\n",
    "\n",
    "if (yhat).any() > 0.5: \n",
    "    print(f'Predicted class is Others')\n",
    "else:\n",
    "    print(f'Predicted class is Family')"
   ]
  },
  {
   "cell_type": "markdown",
   "metadata": {},
   "source": [
    "# 11. Save the Model"
   ]
  },
  {
   "cell_type": "code",
   "execution_count": null,
   "metadata": {},
   "outputs": [],
   "source": [
    "from tensorflow.keras.models import load_model"
   ]
  },
  {
   "cell_type": "code",
   "execution_count": null,
   "metadata": {},
   "outputs": [],
   "source": [
    "import os\n",
    "model.save(os.path.join('models','I:/College/image-classifier/models/imageclassifier-30-10.h5'))"
   ]
  },
  {
   "cell_type": "code",
   "execution_count": null,
   "metadata": {},
   "outputs": [],
   "source": [
    "new_model = load_model('I:/College/image-classifier/models/imageclassifier-30-10.h5')"
   ]
  },
  {
   "cell_type": "code",
   "execution_count": null,
   "metadata": {},
   "outputs": [],
   "source": [
    "new_model.predict(np.expand_dims(resize/255, 0))"
   ]
  },
  {
   "cell_type": "code",
   "execution_count": null,
   "metadata": {},
   "outputs": [],
   "source": []
  }
 ],
 "metadata": {
  "kernelspec": {
   "display_name": "Python 3 (ipykernel)",
   "language": "python",
   "name": "python3"
  },
  "language_info": {
   "codemirror_mode": {
    "name": "ipython",
    "version": 3
   },
   "file_extension": ".py",
   "mimetype": "text/x-python",
   "name": "python",
   "nbconvert_exporter": "python",
   "pygments_lexer": "ipython3",
   "version": "3.10.5"
  },
  "vscode": {
   "interpreter": {
    "hash": "c7af7df4901773a0e355da496bf365ae011b1b331a57bbc9908dae1ee21823d7"
   }
  }
 },
 "nbformat": 4,
 "nbformat_minor": 4
}
