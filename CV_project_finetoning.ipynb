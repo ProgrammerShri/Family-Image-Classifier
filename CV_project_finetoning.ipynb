{
 "cells": [
  {
   "cell_type": "markdown",
   "metadata": {},
   "source": [
    "# CNN classifier\n",
    "\n",
    "https://cs230.stanford.edu/lecture/"
   ]
  },
  {
   "cell_type": "markdown",
   "metadata": {
    "id": "bBkP_K_XYBBV"
   },
   "source": [
    "\n",
    "\n",
    "-  **Finetuning the convnet**: Instead of random initialization, we\n",
    "   initialize the network with a pretrained network.\n",
    "\n"
   ]
  },
  {
   "cell_type": "code",
   "execution_count": 1,
   "metadata": {},
   "outputs": [],
   "source": [
    "import torch \n",
    "import torch.nn as nn\n",
    "import torch.nn.functional as F\n",
    "from torchvision import datasets, transforms, models\n",
    "from torch.utils.data import DataLoader, random_split, ConcatDataset\n",
    "import torch.optim as optim\n",
    "from torch.optim import lr_scheduler\n",
    "import numpy as np\n",
    "import matplotlib.pyplot as plt\n",
    "import os\n",
    "import time\n",
    "import copy"
   ]
  },
  {
   "cell_type": "code",
   "execution_count": 2,
   "metadata": {},
   "outputs": [
    {
     "name": "stdout",
     "output_type": "stream",
     "text": [
      "NVIDIA GeForce GTX 1650 Ti\n",
      "32\n",
      "6\n"
     ]
    }
   ],
   "source": [
    "AVAIL_GPUS = min(1, torch.cuda.device_count())\n",
    "#BATCH_SIZE = 256 if AVAIL_GPUS else 64\n",
    "BATCH_SIZE = 32\n",
    "NUM_WORKERS = int(os.cpu_count() / 2)\n",
    "device = torch.device(\"cuda\" if torch.cuda.is_available() else \"cpu\")\n",
    "print(torch.cuda.get_device_name() if torch.cuda.is_available() else None)\n",
    "print(BATCH_SIZE)\n",
    "print(NUM_WORKERS)"
   ]
  },
  {
   "cell_type": "code",
   "execution_count": 3,
   "metadata": {},
   "outputs": [],
   "source": [
    "class ImageLoader:\n",
    "    '''\n",
    "    Args:\n",
    "    root is the path where are stored the folders.\n",
    "    phase can be 'train' or 'test', in function if\n",
    "    you want a training (Augmented) or test (original) dataset.\n",
    "    batch_size\n",
    "    num_workers\n",
    "    '''\n",
    "    def __init__(self, root_train, root_test, phase, batch_size, num_workers):\n",
    "        self.phase = phase\n",
    "        self.root_train = root_train\n",
    "        self.root_test = root_test\n",
    "        self.batch_size = batch_size\n",
    "        self.num_workers = num_workers\n",
    "        \n",
    "    def apply(self):\n",
    "        transforms_dict = {\n",
    "            'augmented': transforms.Compose([transforms.Resize((224,224)),\n",
    "                                    #transforms.Grayscale(num_output_channels=1),\n",
    "                                    transforms.ToTensor(),\n",
    "                                    transforms.RandomHorizontalFlip(),\n",
    "                                    transforms.RandomVerticalFlip()]),\n",
    "            'origin': transforms.Compose([transforms.Resize((224,224)),\n",
    "                                 #transforms.Grayscale(num_output_channels=1),\n",
    "                                 transforms.ToTensor()])}\n",
    "\n",
    "        df_augmented = datasets.ImageFolder(root=self.root_train, transform=transforms_dict['augmented'])\n",
    "        df_origin = datasets.ImageFolder(root=self.root_train, transform=transforms_dict['origin'])\n",
    "        df_train, df_val = random_split(df_origin, (round(0.85*len(df_origin)), round(0.15*len(df_origin))))\n",
    "        \n",
    "        df = ConcatDataset([df_train, df_augmented])\n",
    "        print('train', len(df))\n",
    "        print('val', len(df_val))\n",
    "\n",
    "        if self.phase == 'train':\n",
    "    \n",
    "            train_loader = DataLoader(df, batch_size=self.batch_size,\n",
    "                                      shuffle=True, num_workers=self.num_workers)\n",
    "            val_loader = DataLoader(df_val, batch_size=self.batch_size,\n",
    "                                    shuffle=False, num_workers=self.num_workers)\n",
    "            return [train_loader, val_loader]\n",
    "        else:\n",
    "            df_test = datasets.ImageFolder(root=self.root_test, transform=transforms_dict['origin'])\n",
    "            print('test', len(df_test))\n",
    "                                           \n",
    "            test_loader = DataLoader(df_test, batch_size=self.batch_size,\n",
    "                                     shuffle=False, num_workers=self.num_workers)\n",
    "            return test_loader"
   ]
  },
  {
   "cell_type": "code",
   "execution_count": 4,
   "metadata": {},
   "outputs": [
    {
     "name": "stdout",
     "output_type": "stream",
     "text": [
      "train 2775\n",
      "val 225\n",
      "train 2775\n",
      "val 225\n",
      "test 2985\n"
     ]
    }
   ],
   "source": [
    "path_train = '/Users/giaco/Desktop/DSSC/CVproject/train/'\n",
    "path_test = '/Users/giaco/Desktop/DSSC/CVproject/test/'\n",
    "load_train = ImageLoader(root_train=path_train, root_test=path_test , phase='train', batch_size=BATCH_SIZE, num_workers=NUM_WORKERS)\n",
    "img_train = load_train.apply()\n",
    "\n",
    "load_test = ImageLoader(root_train=path_train, root_test=path_test, phase='test', batch_size=BATCH_SIZE, num_workers=NUM_WORKERS)\n",
    "img_test = load_test.apply()"
   ]
  },
  {
   "cell_type": "code",
   "execution_count": 5,
   "metadata": {},
   "outputs": [],
   "source": [
    "df = datasets.ImageFolder(root='/Users/giaco/Desktop/DSSC/CVproject/train/', transform=transforms.Compose([transforms.Resize((64,64), interpolation=transforms.InterpolationMode.NEAREST),\n",
    "                                                                                                     transforms.Grayscale(num_output_channels=1),\n",
    "                                                                                                        transforms.ToTensor()]))\n",
    "df_test = datasets.ImageFolder(root='/Users/giaco/Desktop/DSSC/CVproject/test/', transform=transforms.Compose([transforms.Resize((64,64), interpolation=transforms.InterpolationMode.NEAREST),\n",
    "                                                                                                            transforms.Grayscale(num_output_channels=1),\n",
    "                                                                                                            transforms.ToTensor()]))\n",
    "                                                                                                            \n",
    "dataloader = {\n",
    "    'train': img_train[0],\n",
    "    'val': img_train[1],\n",
    "    'test': img_test\n",
    "}\n",
    "\n",
    "dataset_size = {\n",
    "    'train': 2775,\n",
    "    'val': 255,\n",
    "    'test': 2985\n",
    "}                                                                "
   ]
  },
  {
   "cell_type": "code",
   "execution_count": null,
   "metadata": {},
   "outputs": [],
   "source": [
    "dataiter = iter(img_train[0])\n",
    "images, labels = dataiter.next()"
   ]
  },
  {
   "cell_type": "code",
   "execution_count": null,
   "metadata": {},
   "outputs": [],
   "source": [
    "def imshow(img, label):\n",
    "    classes = df.classes\n",
    "    plt.imshow(img.permute(1, 2, 0))\n",
    "    plt.title('label:' + str(classes[label]))\n",
    "    plt.show()"
   ]
  },
  {
   "cell_type": "code",
   "execution_count": null,
   "metadata": {},
   "outputs": [],
   "source": [
    "n = int(np.random.randint(0, BATCH_SIZE))\n",
    "imshow(images[n], labels[n])\n",
    "images[n].shape"
   ]
  },
  {
   "cell_type": "code",
   "execution_count": null,
   "metadata": {},
   "outputs": [],
   "source": [
    "def initialize_weights(m):\n",
    "  if isinstance(m, nn.Conv2d):\n",
    "      nn.init.kaiming_uniform_(m.weight.data,nonlinearity='relu')\n",
    "      if m.bias is not None:\n",
    "          nn.init.constant_(m.bias.data, 0)\n",
    "  elif isinstance(m, nn.Linear):\n",
    "      nn.init.kaiming_uniform_(m.weight.data)\n",
    "      nn.init.constant_(m.bias.data, 0)"
   ]
  },
  {
   "cell_type": "code",
   "execution_count": 6,
   "metadata": {},
   "outputs": [],
   "source": [
    "model_ft = models.resnet18(pretrained=True)\n",
    "num_ftrs = model_ft.fc.in_features\n",
    "model_ft.fc = nn.Linear(num_ftrs, 15)\n",
    "#model_ft.to(device)"
   ]
  },
  {
   "cell_type": "code",
   "execution_count": 7,
   "metadata": {},
   "outputs": [],
   "source": [
    "criterion = nn.CrossEntropyLoss()\n",
    "optimizer = optimizer = torch.optim.Adam(model_ft.parameters(), lr=0.001)\n",
    "exp_lr_scheduler = lr_scheduler.StepLR(optimizer, step_size=7, gamma=0.1)"
   ]
  },
  {
   "cell_type": "code",
   "execution_count": 1,
   "metadata": {
    "id": "diFSQMBz8mDV"
   },
   "outputs": [],
   "source": [
    "from torch.utils.tensorboard import SummaryWriter\n",
    "writer = SummaryWriter()"
   ]
  },
  {
   "cell_type": "code",
   "execution_count": 9,
   "metadata": {
    "id": "2oF-6zamYBBc"
   },
   "outputs": [],
   "source": [
    "def train_model(model, criterion, optimizer, scheduler, num_epochs=30):\n",
    "    since = time.time()\n",
    "\n",
    "    best_model_wts = copy.deepcopy(model.state_dict())\n",
    "    best_acc = 0.0\n",
    "\n",
    "    for epoch in range(num_epochs):\n",
    "        print(f'Epoch {epoch}/{num_epochs - 1}')\n",
    "        print('-' * 10)\n",
    "\n",
    "        # Each epoch has a training and validation phase\n",
    "        for phase in ['train', 'val']:\n",
    "            if phase == 'train':\n",
    "                model.train()  # Set model to training mode\n",
    "            else:\n",
    "                model.eval()   # Set model to evaluate mode\n",
    "\n",
    "            running_loss = 0.0\n",
    "            running_corrects = 0\n",
    "\n",
    "            # Iterate over data.\n",
    "            for inputs, labels in dataloader[phase]:\n",
    "                #inputs = inputs.to(device)\n",
    "                #labels = labels.to(device)\n",
    "\n",
    "                # zero the parameter gradients\n",
    "                optimizer.zero_grad()\n",
    "\n",
    "                # forward\n",
    "                # track history if only in train\n",
    "                with torch.set_grad_enabled(phase == 'train'):\n",
    "                    outputs = model(inputs)\n",
    "                    _, preds = torch.max(outputs, 1)\n",
    "                    loss = criterion(outputs, labels)\n",
    "\n",
    "                    # backward + optimize only if in training phase\n",
    "                    if phase == 'train':\n",
    "                        loss.backward()\n",
    "                        optimizer.step()\n",
    "\n",
    "                # statistics\n",
    "                running_loss += loss.item() * inputs.size(0)\n",
    "                running_corrects += torch.sum(preds == labels.data)\n",
    "            if phase == 'train':\n",
    "                scheduler.step()\n",
    "            \n",
    "          \n",
    "            epoch_loss = running_loss / dataset_size[phase]\n",
    "            epoch_acc = running_corrects.double() / dataset_size[phase]\n",
    "\n",
    "            writer.add_scalar(f\"Loss {phase}\", epoch_loss, epoch)\n",
    "            writer.add_scalar(f\"Acc {phase}\", epoch_acc, epoch)\n",
    "\n",
    "            print(f'{phase} Loss: {epoch_loss:.4f} Acc: {epoch_acc:.4f}')\n",
    "\n",
    "            # deep copy the model\n",
    "            if phase == 'val' and epoch_acc > best_acc:\n",
    "                best_acc = epoch_acc\n",
    "                best_model_wts = copy.deepcopy(model.state_dict())\n",
    "\n",
    "        print()\n",
    "\n",
    "    time_elapsed = time.time() - since\n",
    "    print(f'Training complete in {time_elapsed // 60:.0f}m {time_elapsed % 60:.0f}s')\n",
    "    print(f'Best val Acc: {best_acc:4f}')\n",
    "\n",
    "    # load best model weights\n",
    "    model.load_state_dict(best_model_wts)\n",
    "    return model"
   ]
  },
  {
   "cell_type": "code",
   "execution_count": 10,
   "metadata": {},
   "outputs": [
    {
     "name": "stdout",
     "output_type": "stream",
     "text": [
      "Epoch 0/24\n",
      "----------\n",
      "train Loss: 1.0224 Acc: 0.6692\n",
      "val Loss: 2.1289 Acc: 0.3255\n",
      "\n",
      "Epoch 1/24\n",
      "----------\n",
      "train Loss: 0.5706 Acc: 0.8223\n",
      "val Loss: 1.6753 Acc: 0.5333\n",
      "\n",
      "Epoch 2/24\n",
      "----------\n",
      "train Loss: 0.4108 Acc: 0.8627\n",
      "val Loss: 0.6553 Acc: 0.7373\n",
      "\n",
      "Epoch 3/24\n",
      "----------\n",
      "train Loss: 0.3332 Acc: 0.8897\n",
      "val Loss: 0.9211 Acc: 0.6471\n",
      "\n",
      "Epoch 4/24\n",
      "----------\n",
      "train Loss: 0.3381 Acc: 0.8876\n",
      "val Loss: 0.3866 Acc: 0.7451\n",
      "\n",
      "Epoch 5/24\n",
      "----------\n",
      "train Loss: 0.2345 Acc: 0.9279\n",
      "val Loss: 0.4016 Acc: 0.7490\n",
      "\n",
      "Epoch 6/24\n",
      "----------\n",
      "train Loss: 0.2137 Acc: 0.9308\n",
      "val Loss: 0.2593 Acc: 0.7843\n",
      "\n",
      "Epoch 7/24\n",
      "----------\n",
      "train Loss: 0.0807 Acc: 0.9744\n",
      "val Loss: 0.0526 Acc: 0.8627\n",
      "\n",
      "Epoch 8/24\n",
      "----------\n",
      "train Loss: 0.0485 Acc: 0.9870\n",
      "val Loss: 0.0331 Acc: 0.8745\n",
      "\n",
      "Epoch 9/24\n",
      "----------\n",
      "train Loss: 0.0414 Acc: 0.9877\n",
      "val Loss: 0.0282 Acc: 0.8784\n",
      "\n",
      "Epoch 10/24\n",
      "----------\n",
      "train Loss: 0.0384 Acc: 0.9895\n",
      "val Loss: 0.0230 Acc: 0.8784\n",
      "\n",
      "Epoch 11/24\n",
      "----------\n",
      "train Loss: 0.0257 Acc: 0.9950\n",
      "val Loss: 0.0190 Acc: 0.8784\n",
      "\n",
      "Epoch 12/24\n",
      "----------\n",
      "train Loss: 0.0274 Acc: 0.9921\n",
      "val Loss: 0.0123 Acc: 0.8784\n",
      "\n",
      "Epoch 13/24\n",
      "----------\n",
      "train Loss: 0.0278 Acc: 0.9932\n",
      "val Loss: 0.0121 Acc: 0.8824\n",
      "\n",
      "Epoch 14/24\n",
      "----------\n",
      "train Loss: 0.0195 Acc: 0.9968\n",
      "val Loss: 0.0113 Acc: 0.8824\n",
      "\n",
      "Epoch 15/24\n",
      "----------\n",
      "train Loss: 0.0226 Acc: 0.9946\n",
      "val Loss: 0.0111 Acc: 0.8824\n",
      "\n",
      "Epoch 16/24\n",
      "----------\n",
      "train Loss: 0.0189 Acc: 0.9953\n",
      "val Loss: 0.0104 Acc: 0.8824\n",
      "\n",
      "Epoch 17/24\n",
      "----------\n",
      "train Loss: 0.0188 Acc: 0.9971\n",
      "val Loss: 0.0100 Acc: 0.8824\n",
      "\n",
      "Epoch 18/24\n",
      "----------\n",
      "train Loss: 0.0194 Acc: 0.9960\n",
      "val Loss: 0.0105 Acc: 0.8784\n",
      "\n",
      "Epoch 19/24\n",
      "----------\n",
      "train Loss: 0.0202 Acc: 0.9960\n",
      "val Loss: 0.0092 Acc: 0.8824\n",
      "\n",
      "Epoch 20/24\n",
      "----------\n",
      "train Loss: 0.0231 Acc: 0.9957\n",
      "val Loss: 0.0086 Acc: 0.8824\n",
      "\n",
      "Epoch 21/24\n",
      "----------\n",
      "train Loss: 0.0180 Acc: 0.9964\n",
      "val Loss: 0.0085 Acc: 0.8824\n",
      "\n",
      "Epoch 22/24\n",
      "----------\n",
      "train Loss: 0.0187 Acc: 0.9968\n",
      "val Loss: 0.0084 Acc: 0.8824\n",
      "\n",
      "Epoch 23/24\n",
      "----------\n",
      "train Loss: 0.0187 Acc: 0.9960\n",
      "val Loss: 0.0095 Acc: 0.8824\n",
      "\n",
      "Epoch 24/24\n",
      "----------\n",
      "train Loss: 0.0192 Acc: 0.9964\n",
      "val Loss: 0.0089 Acc: 0.8824\n",
      "\n",
      "Training complete in 88m 32s\n",
      "Best val Acc: 0.882353\n"
     ]
    }
   ],
   "source": [
    "Model = train_model(model_ft, criterion, optimizer, exp_lr_scheduler, num_epochs=25)\n",
    "writer.flush()"
   ]
  },
  {
   "cell_type": "code",
   "execution_count": null,
   "metadata": {},
   "outputs": [],
   "source": [
    "# model = model_ft()\n",
    "# model.load_state_dict(torch.load(\"/Users/giaco/Desktop/PyTorch/CV-project/model_dict_finetoning.pt\"))\n",
    "# model.eval()"
   ]
  },
  {
   "cell_type": "code",
   "execution_count": 5,
   "metadata": {},
   "outputs": [
    {
     "data": {
      "text/plain": [
       "Reusing TensorBoard on port 6006 (pid 17068), started 8 days, 15:56:40 ago. (Use '!kill 17068' to kill it.)"
      ]
     },
     "metadata": {},
     "output_type": "display_data"
    },
    {
     "data": {
      "text/html": [
       "\n",
       "      <iframe id=\"tensorboard-frame-99e2ec9d79dc511a\" width=\"100%\" height=\"800\" frameborder=\"0\">\n",
       "      </iframe>\n",
       "      <script>\n",
       "        (function() {\n",
       "          const frame = document.getElementById(\"tensorboard-frame-99e2ec9d79dc511a\");\n",
       "          const url = new URL(\"http://localhost\");\n",
       "          const port = 6006;\n",
       "          if (port) {\n",
       "            url.port = port;\n",
       "          }\n",
       "          frame.src = url;\n",
       "        })();\n",
       "      </script>\n",
       "    "
      ],
      "text/plain": [
       "<IPython.core.display.HTML object>"
      ]
     },
     "metadata": {},
     "output_type": "display_data"
    }
   ],
   "source": [
    "writer.close()\n",
    "import tensorboard\n",
    "#%load_ext tensorboard\n",
    "%reload_ext tensorboard\n",
    "%tensorboard --logdir=runs"
   ]
  },
  {
   "cell_type": "code",
   "execution_count": 13,
   "metadata": {},
   "outputs": [],
   "source": [
    "# @torch.no_grad()\n",
    "def get_predict(model, loader):\n",
    "    predict_tensor = torch.tensor([])\n",
    "    for batch in loader:\n",
    "        images, labels = batch\n",
    "        \n",
    "        predict = model(images)\n",
    "        # _, preds = torch.max(predict, 1)\n",
    "        \n",
    "        predict_tensor = torch.cat(\n",
    "            (predict_tensor, predict),\n",
    "            dim=0)\n",
    "\n",
    "    return predict_tensor"
   ]
  },
  {
   "cell_type": "code",
   "execution_count": 14,
   "metadata": {},
   "outputs": [
    {
     "data": {
      "text/plain": [
       "torch.Size([2985, 15])"
      ]
     },
     "execution_count": 14,
     "metadata": {},
     "output_type": "execute_result"
    }
   ],
   "source": [
    "with torch.no_grad():\n",
    "    test_predict = get_predict(Model, img_test)\n",
    "    \n",
    "test_predict.shape"
   ]
  },
  {
   "cell_type": "code",
   "execution_count": 15,
   "metadata": {},
   "outputs": [
    {
     "name": "stdout",
     "output_type": "stream",
     "text": [
      "False\n",
      "None\n",
      "None\n"
     ]
    }
   ],
   "source": [
    "print(test_predict.requires_grad)\n",
    "print(test_predict.grad)\n",
    "print(test_predict.grad_fn)"
   ]
  },
  {
   "cell_type": "code",
   "execution_count": 16,
   "metadata": {},
   "outputs": [
    {
     "name": "stdout",
     "output_type": "stream",
     "text": [
      "2660\n",
      "0.8911222780569514\n"
     ]
    }
   ],
   "source": [
    "def get_num_correct(preds, labels):\n",
    "    return preds.argmax(dim=1).eq(labels).sum().item()\n",
    "\n",
    "predict_correct = get_num_correct(test_predict, torch.tensor(df_test.targets))\n",
    "\n",
    "print(predict_correct)\n",
    "print(predict_correct/len(df_test))"
   ]
  },
  {
   "cell_type": "code",
   "execution_count": 17,
   "metadata": {},
   "outputs": [
    {
     "data": {
      "text/plain": [
       "torch.Size([2985, 2])"
      ]
     },
     "execution_count": 17,
     "metadata": {},
     "output_type": "execute_result"
    }
   ],
   "source": [
    "stacked = torch.stack(\n",
    "    (torch.tensor(df_test.targets),\n",
    "    #test_predict.int()),\n",
    "    test_predict.argmax(dim=1)),\n",
    "    dim=1\n",
    ")\n",
    "stacked.shape"
   ]
  },
  {
   "cell_type": "code",
   "execution_count": 18,
   "metadata": {},
   "outputs": [],
   "source": [
    "cmt = torch.zeros(15,15, dtype=torch.int32)\n",
    "for p in stacked:\n",
    "    i,j = p.tolist()\n",
    "    cmt[i,j] = cmt[i,j] + 1"
   ]
  },
  {
   "cell_type": "code",
   "execution_count": 19,
   "metadata": {},
   "outputs": [],
   "source": [
    "import itertools\n",
    "import numpy as np\n",
    "import matplotlib.pyplot as plt\n",
    "\n",
    "def plot_confusion_matrix(cm, classes, normalize=False, title='Confusion matrix', cmap=plt.cm.Blues):\n",
    "    if normalize:\n",
    "        cm = cm.astype('float') / cm.sum(axis=1)[:, np.newaxis]\n",
    "        print(\"Normalized confusion matrix\")\n",
    "    else:\n",
    "        print('Confusion matrix, without normalization')\n",
    "\n",
    "    print(cm)\n",
    "    plt.imshow(cm, interpolation='nearest', cmap=cmap)\n",
    "    plt.title(title)\n",
    "    plt.colorbar()\n",
    "    tick_marks = np.arange(len(classes))\n",
    "    plt.xticks(tick_marks, classes, rotation=45)\n",
    "    plt.yticks(tick_marks, classes)\n",
    "\n",
    "    fmt = '.2f' if normalize else 'd'\n",
    "    thresh = cm.max() / 2.\n",
    "    for i, j in itertools.product(range(cm.shape[0]), range(cm.shape[1])):\n",
    "        plt.text(j, i, format(cm[i, j], fmt), horizontalalignment=\"center\", color=\"white\" if cm[i, j] > thresh else \"black\")\n",
    "\n",
    "    plt.tight_layout()\n",
    "    plt.ylabel('True label')\n",
    "    plt.xlabel('Predicted label')"
   ]
  },
  {
   "cell_type": "code",
   "execution_count": 21,
   "metadata": {},
   "outputs": [
    {
     "name": "stdout",
     "output_type": "stream",
     "text": [
      "Confusion matrix, without normalization\n",
      "[[ 92   0   0   0   0   1   5  18   0   0   0   0   0   0   0]\n",
      " [  0 228   2   1   0   0   0   0   0   0  29   0   0   0   0]\n",
      " [  0   0 222   0   0   0   0   0   3   0   3   0   0   0   0]\n",
      " [  0   4   0 141   3   2   1   0   1   0   3   1   4   0   0]\n",
      " [  5   0   1   3 156   7   8   2   5   0   1   9   4   1   9]\n",
      " [  0   1   0   0   6 182   5   2   0   0   0   4   3   1   4]\n",
      " [  2   0   0   0   1   1  96   6   0   2   0   2   0   0   0]\n",
      " [ 15   0   0   0   5   0  12 150   0   1   0   6   0   0   0]\n",
      " [  0   1   5   0   0   0   0   0 259   0   8   0   0   0   1]\n",
      " [  0   0   0   0   0   0   0   3   0 112   0   0   0   0   0]\n",
      " [  0  29  11   0   0   0   0   0   4   0 266   0   0   0   0]\n",
      " [  0   1   0   0   3   1   4   4   1   1   0 196   1   0   3]\n",
      " [  0   0   1   5   2   1   0   0   1   0   0   2 178   0   2]\n",
      " [  1   0   0   0   0   0   0   1   0   0   0   0   0 139   0]\n",
      " [  0   1   2   0   3   3   0   0   1   0   0   1   2   0 243]]\n"
     ]
    },
    {
     "data": {
      "image/png": "[encoded data removed]",
      "text/plain": [
       "<Figure size 1080x1080 with 2 Axes>"
      ]
     },
     "metadata": {
      "needs_background": "light"
     },
     "output_type": "display_data"
    }
   ],
   "source": [
    "from sklearn.metrics import confusion_matrix\n",
    "cm = confusion_matrix(torch.tensor(df_test.targets), test_predict.argmax(dim=1))\n",
    "\n",
    "names = df_test.classes\n",
    "plt.figure(figsize=(15,15))\n",
    "plot_confusion_matrix(cm, names)"
   ]
  },
  {
   "cell_type": "code",
   "execution_count": 26,
   "metadata": {},
   "outputs": [],
   "source": [
    "def imshow(inp, title=None):\n",
    "    \"\"\"Imshow for Tensor.\"\"\"\n",
    "    inp = inp.numpy().transpose((1, 2, 0))\n",
    "    plt.imshow(inp)\n",
    "    if title is not None:\n",
    "        plt.title(title)\n",
    "    plt.pause(0.001)  # pause a bit so that plots are updated\n",
    "\n",
    "\n",
    "\n",
    "def visualize_model(model, num_images=10):\n",
    "    model.load_state_dict(torch.load(\"/Users/giaco/Desktop/PyTorch/CV-project/model_dict_finetoning.pt\"))\n",
    "    was_training = model.training\n",
    "    model.eval()\n",
    "    images_so_far = 0\n",
    "    fig = plt.figure()\n",
    "\n",
    "    with torch.no_grad():\n",
    "        for i, (inputs, labels) in enumerate(dataloader['test']):\n",
    "            #inputs = inputs.to(device)\n",
    "            #labels = labels.to(device)\n",
    "\n",
    "            outputs = model(inputs)\n",
    "            _, preds = torch.max(outputs, 1)\n",
    "\n",
    "            for j in range(inputs.size()[0]):\n",
    "                images_so_far += 1\n",
    "                ax = plt.subplot(num_images//2, 2, images_so_far)\n",
    "                ax.axis('off')\n",
    "                ax.set_title(f'predicted: {df.classes[preds[j]]}')\n",
    "                imshow(inputs.cpu().data[j])\n",
    "\n",
    "                if images_so_far == num_images:\n",
    "                    model.train(mode=was_training)\n",
    "                    return\n",
    "        model.train(mode=was_training)"
   ]
  },
  {
   "cell_type": "code",
   "execution_count": 27,
   "metadata": {},
   "outputs": [
    {
     "data": {
      "image/png": "[encoded data removed]",
      "text/plain": [
       "<Figure size 432x288 with 1 Axes>"
      ]
     },
     "metadata": {
      "needs_background": "light"
     },
     "output_type": "display_data"
    },
    {
     "data": {
      "image/png": "[encoded data removed]",
      "text/plain": [
       "<Figure size 432x288 with 1 Axes>"
      ]
     },
     "metadata": {
      "needs_background": "light"
     },
     "output_type": "display_data"
    },
    {
     "data": {
      "image/png": "[encoded data removed]",
      "text/plain": [
       "<Figure size 432x288 with 1 Axes>"
      ]
     },
     "metadata": {
      "needs_background": "light"
     },
     "output_type": "display_data"
    },
    {
     "data": {
      "image/png": "[encoded data removed]",
      "text/plain": [
       "<Figure size 432x288 with 1 Axes>"
      ]
     },
     "metadata": {
      "needs_background": "light"
     },
     "output_type": "display_data"
    },
    {
     "data": {
      "image/png": "[encoded data removed]",
      "text/plain": [
       "<Figure size 432x288 with 1 Axes>"
      ]
     },
     "metadata": {
      "needs_background": "light"
     },
     "output_type": "display_data"
    },
    {
     "data": {
      "image/png": "[encoded data removed]",
      "text/plain": [
       "<Figure size 432x288 with 1 Axes>"
      ]
     },
     "metadata": {
      "needs_background": "light"
     },
     "output_type": "display_data"
    },
    {
     "data": {
      "image/png": "[encoded data removed]",
      "text/plain": [
       "<Figure size 432x288 with 1 Axes>"
      ]
     },
     "metadata": {
      "needs_background": "light"
     },
     "output_type": "display_data"
    },
    {
     "data": {
      "image/png": "[encoded data removed]",
      "text/plain": [
       "<Figure size 432x288 with 1 Axes>"
      ]
     },
     "metadata": {
      "needs_background": "light"
     },
     "output_type": "display_data"
    },
    {
     "data": {
      "image/png": "[encoded data removed]",
      "text/plain": [
       "<Figure size 432x288 with 1 Axes>"
      ]
     },
     "metadata": {
      "needs_background": "light"
     },
     "output_type": "display_data"
    },
    {
     "data": {
      "image/png": "[encoded data removed]",
      "text/plain": [
       "<Figure size 432x288 with 1 Axes>"
      ]
     },
     "metadata": {
      "needs_background": "light"
     },
     "output_type": "display_data"
    }
   ],
   "source": [
    "visualize_model(Model)"
   ]
  },
  {
   "cell_type": "code",
   "execution_count": null,
   "metadata": {},
   "outputs": [],
   "source": [
    "# softmax classifier\n",
    "\n",
    "class SoftMax(nn.Module):\n",
    "    \n",
    "    # Constructor\n",
    "    def __init__(self, input_size, output_size):\n",
    "        super(SoftMax, self).__init__()\n",
    "        self.linear = nn.Linear(input_size, output_size)\n",
    "        \n",
    "    # Prediction\n",
    "    def forward(self, x):\n",
    "        z = self.linear(x)\n",
    "        return z"
   ]
  }
 ],
 "metadata": {
  "interpreter": {
   "hash": "5ca6fba6cd343157984bf9ab78c17ea43484b522abbae068c469a0354c66129a"
  },
  "kernelspec": {
   "display_name": "Python 3.9.7 ('base')",
   "language": "python",
   "name": "python3"
  },
  "language_info": {
   "codemirror_mode": {
    "name": "ipython",
    "version": 3
   },
   "file_extension": ".py",
   "mimetype": "text/x-python",
   "name": "python",
   "nbconvert_exporter": "python",
   "pygments_lexer": "ipython3",
   "version": "3.9.7"
  },
  "orig_nbformat": 4
 },
 "nbformat": 4,
 "nbformat_minor": 2
}
